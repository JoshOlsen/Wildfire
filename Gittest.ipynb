{
 "cells": [
  {
   "cell_type": "code",
   "execution_count": 3,
   "id": "a206f74b-0800-47eb-8f7b-35a5b44b2136",
   "metadata": {},
   "outputs": [],
   "source": [
    "## This is a test for github on jupyterlab\n"
   ]
  },
  {
   "cell_type": "code",
   "execution_count": 7,
   "id": "42dc78a6-39a4-4dc9-81e6-51d4bfd29db4",
   "metadata": {},
   "outputs": [
    {
     "name": "stdout",
     "output_type": "stream",
     "text": [
      "Hello Git World\n"
     ]
    }
   ],
   "source": [
    "print(\"Hello Git World\")"
   ]
  },
  {
   "cell_type": "code",
   "execution_count": 8,
   "id": "cada0a5a-a75c-4dfe-b7d5-e779f2484f9a",
   "metadata": {},
   "outputs": [
    {
     "data": {
      "text/plain": [
       "8388608"
      ]
     },
     "execution_count": 8,
     "metadata": {},
     "output_type": "execute_result"
    }
   ],
   "source": [
    "# Math time\n",
    "2**23"
   ]
  },
  {
   "cell_type": "code",
   "execution_count": null,
   "id": "5b071033-6b4c-4913-b72d-9cc3c65fd631",
   "metadata": {},
   "outputs": [],
   "source": []
  }
 ],
 "metadata": {
  "kernelspec": {
   "display_name": "PythonGeo",
   "language": "python",
   "name": "geo_env"
  },
  "language_info": {
   "codemirror_mode": {
    "name": "ipython",
    "version": 3
   },
   "file_extension": ".py",
   "mimetype": "text/x-python",
   "name": "python",
   "nbconvert_exporter": "python",
   "pygments_lexer": "ipython3",
   "version": "3.8.5"
  }
 },
 "nbformat": 4,
 "nbformat_minor": 5
}
