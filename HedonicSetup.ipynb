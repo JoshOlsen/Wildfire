{
 "cells": [
  {
   "cell_type": "code",
   "execution_count": 848,
   "id": "fd584ad2-c215-462a-853f-3f9e66d6175f",
   "metadata": {},
   "outputs": [],
   "source": [
    "## Attaches burn probabilities to the ZTRAX data\n",
    "## Uses lat and long provided \n",
    "import pandas as pd\n",
    "import numpy as np\n",
    "import geopandas as gpd\n",
    "import os\n",
    "import glob\n",
    "import matplotlib.pyplot as plt\n",
    "import rasterio as rio\n",
    "from rasterio.plot import show"
   ]
  },
  {
   "cell_type": "code",
   "execution_count": 849,
   "id": "f9d6167d-cf85-4a8f-9efd-3c5636d5f1b1",
   "metadata": {},
   "outputs": [],
   "source": [
    "## Get US Map for context and select Western United States\n",
    "USMAP = gpd.read_file('/data/yoder/DensityProject/cb_2018_us_state_500k.shp')\n",
    "West = ['WA', 'OR', 'CA', 'NV','AZ','NM', 'UT','CO','WY','ID','MT']\n",
    "\n",
    "## Get map(s) of individual states if desired\n",
    "CO_map = WestStates[WestStates['STUSPS']=='CO']\n",
    "WestStates = USMAP[USMAP['STUSPS'].isin(West)]\n",
    "\n",
    "##Convert Coordinate Reference System to US Natinoal Atlas Equal Area\n",
    "WestStates = WestStates.to_crs(\"EPSG:2163\")"
   ]
  },
  {
   "cell_type": "code",
   "execution_count": 850,
   "id": "cc2040b3-0ec6-4d97-adc7-3d83fe984824",
   "metadata": {},
   "outputs": [],
   "source": [
    "scratchpath = '/scratch/user/joshua.olsen/20210428_153601/'\n",
    "os.chdir(scratchpath)\n",
    "## List all tables included in Zillow Variable names excel file\n",
    "ZTransLayout = pd.read_excel('Layout.xlsx','ZTrans')\n",
    "ZTransLayout['TableName'].unique()\n",
    "ZAsmtLayout = pd.read_excel('Layout.xlsx','ZAsmt')\n",
    "\n",
    "## Create dataframes from each table name in the Zillow table dictionary\n",
    "    ## Strip 'ut' from column names\n",
    "T = {}\n",
    "for name,group in ZTransLayout.groupby('TableName'):\n",
    "    T[str(name)[2:]] = group\n",
    "A = {}\n",
    "for name, group in ZAsmtLayout.groupby('TableName'):\n",
    "    A[str(name)[2:]] = group\n",
    "    \n",
    "    \n",
    "## Dictionary of Western 11 states using Zillows numbering: \n",
    "states = {'AZ':'04',\n",
    "          'CA':'06',\n",
    "          'CO':'08',\n",
    "          'ID':'16',\n",
    "          'MT':'30',\n",
    "          'NV':'32',\n",
    "          'NM':'35',\n",
    "          'OR':'41',\n",
    "          'UT':'49',\n",
    "          'WA':'53',\n",
    "          'WY':'56'}"
   ]
  },
  {
   "cell_type": "code",
   "execution_count": 851,
   "id": "8eb6972e-b795-474d-b7b6-305e0bfb02d7",
   "metadata": {},
   "outputs": [],
   "source": [
    "#Change this value to the state and table you care about\n",
    "# State to use\n",
    "state = states['CO']\n",
    "#Transaction tables to use\n",
    "Ttables = ['Main', 'PropertyInfo']\n",
    "# Assessment tables to use\n",
    "Atables = ['Main','Garage', 'Building']"
   ]
  },
  {
   "cell_type": "code",
   "execution_count": 852,
   "id": "d7ab9bed-1c53-491d-bf4d-e668e62eb78b",
   "metadata": {},
   "outputs": [],
   "source": [
    "## Fields to use from transaction tables\n",
    "Tfields = {'Main': ['TransId','State','County','DocumentDate','SignatureDate','RecordingDate','FIPS','DataClassStndCode',\n",
    "                    'DocumentTypeStndCode','IntraFamilyTransferFlag','LoanTypeStndCode','PropertyUseStndCode','SalesPriceAmount', 'LoanAmount'],\n",
    "            'PropertyInfo':['TransId','ImportParcelID','AssessorParcelNumber','PropertyFullStreetAddress','PropertyCity',\n",
    "                            'PropertyState','PropertyAddressLatitude','PropertyAddressLongitude']}\n",
    "# Fields to use from Assessment tables\n",
    "Afields = {'Main': ['RowID','ImportParcelID','LotSizeSquareFeet'],\n",
    "          'Garage':['RowID','GarageStndCode','GarageAreaSqFt'],\n",
    "          'Building' :['RowID','YearBuilt','YearRemodeled','NoOfStories','TotalRooms','TotalBedrooms','TotalKitchens',\n",
    "                       'FullBath','ThreeQuarterBath','HalfBath','QuarterBath','TotalActualBathCount',\n",
    "                      'RoofCoverStndCode','HeatingTypeorSystemStndCode','FireplaceFlag','FireplaceNumber']}"
   ]
  },
  {
   "cell_type": "code",
   "execution_count": 853,
   "id": "5c02bd56-6edd-451e-80a4-6b3fae8aa7dd",
   "metadata": {},
   "outputs": [
    {
     "name": "stderr",
     "output_type": "stream",
     "text": [
      "<decorator-gen-54>:2: DtypeWarning: Columns (17,18,30) have mixed types.Specify dtype option on import or set low_memory=False.\n",
      "<decorator-gen-54>:2: DtypeWarning: Columns (1) have mixed types.Specify dtype option on import or set low_memory=False.\n"
     ]
    },
    {
     "name": "stdout",
     "output_type": "stream",
     "text": [
      "CPU times: user 1min 2s, sys: 3.21 s, total: 1min 5s\n",
      "Wall time: 1min 5s\n"
     ]
    }
   ],
   "source": [
    "%%time\n",
    "## Load Ztrans data into dictionary of table entries that will be merged\n",
    "dfs = {}\n",
    "keys = Ttables\n",
    "for i in keys:\n",
    "    # Populate dictionary with desired tables for the given state\n",
    "    dfs[i] = pd.read_csv(f'{state}/ZTrans\\{i}.txt',sep = '|', header=None,names=T[i]['FieldName'].tolist(), encoding='latin1',usecols=Tfields[i]) "
   ]
  },
  {
   "cell_type": "code",
   "execution_count": 854,
   "id": "b778ed29-3029-4130-a2a0-bdaa71d62435",
   "metadata": {},
   "outputs": [
    {
     "name": "stderr",
     "output_type": "stream",
     "text": [
      "<decorator-gen-54>:2: DtypeWarning: Columns (29,31,35) have mixed types.Specify dtype option on import or set low_memory=False.\n"
     ]
    },
    {
     "name": "stdout",
     "output_type": "stream",
     "text": [
      "CPU times: user 13.8 s, sys: 689 ms, total: 14.5 s\n",
      "Wall time: 14.5 s\n"
     ]
    }
   ],
   "source": [
    "%%time\n",
    "## Load Assessor data\n",
    "\n",
    "dfA = {}\n",
    "keys = Atables\n",
    "for j in keys:\n",
    "    dfA[j] = pd.read_csv(f'{state}/ZAsmt\\{j}.txt',sep='|', header=None,names=A[j]['FieldName'].tolist(),encoding='latin1',usecols=Afields[j])"
   ]
  },
  {
   "cell_type": "code",
   "execution_count": 855,
   "id": "d42f44fa-47b0-42cd-a776-0ef01ad81b28",
   "metadata": {},
   "outputs": [],
   "source": [
    "## Merge Trans tables and Asmt tables\n",
    "from functools import reduce\n",
    "Trans = reduce(lambda left,right: pd.merge(left,right,on='TransId',how='left'),dfs.values())\n",
    "Asmt = reduce(lambda left, right:pd.merge(left,right,on='RowID',how='left'),dfA.values())\n",
    "df = pd.merge(Trans,Asmt,on='ImportParcelID',how='left')"
   ]
  },
  {
   "cell_type": "code",
   "execution_count": 856,
   "id": "d786be39-88bf-4892-b7f3-d78b8e56e242",
   "metadata": {},
   "outputs": [],
   "source": [
    "## Select only valid transactions\n",
    "UnwantedLoanCodes =  ['AC','CT','CM','CS','CC','CL','DP','FO','FE','HE','LC','EB','EX','MD','NA','NP','FA','RE','RM','SM','SE','TR']\n",
    "WantedLoanCodes =  ['AS','BL','CE','FM','PM','RD','SL']\n",
    "DocumentTypeStndCodeDrop= ['CRDE','JTDE','QCDE','RRDE','VLDE']\n",
    "DocumentTypeStndCodeKeep= ['CPDE','IDDE','PRDE','WRDE']\n",
    "\n",
    "df = df.loc[(df['SalesPriceAmount'] > 0) &\n",
    "            (~df['LoanTypeStndCode'].isin(UnwantedLoanCodes)) &\n",
    "            (pd.isnull(df['IntraFamilyTransferFlag'])) &\n",
    "            (df['PropertyUseStndCode']=='SR') &\n",
    "            (df['DocumentTypeStndCode'].isin(DocumentTypeStndCodeKeep)) & \n",
    "            (df['TotalBedrooms'] >=1)].copy()"
   ]
  },
  {
   "cell_type": "code",
   "execution_count": 857,
   "id": "80354d82-242f-4f08-8b2d-0212fd1615dc",
   "metadata": {},
   "outputs": [],
   "source": [
    "## Make geodataframe\n",
    "\n",
    "CO = gpd.GeoDataFrame(df, geometry = gpd.points_from_xy(df.PropertyAddressLongitude, df.PropertyAddressLatitude))"
   ]
  },
  {
   "cell_type": "code",
   "execution_count": 861,
   "id": "7eda103f-d3dc-48e2-b795-aad4d543b96f",
   "metadata": {},
   "outputs": [
    {
     "data": {
      "text/plain": [
       "<Projected CRS: EPSG:2163>\n",
       "Name: US National Atlas Equal Area\n",
       "Axis Info [cartesian]:\n",
       "- X[east]: Easting (metre)\n",
       "- Y[north]: Northing (metre)\n",
       "Area of Use:\n",
       "- name: USA\n",
       "- bounds: (167.65, 15.56, -65.69, 74.71)\n",
       "Coordinate Operation:\n",
       "- name: US National Atlas Equal Area\n",
       "- method: Lambert Azimuthal Equal Area (Spherical)\n",
       "Datum: Not specified (based on Clarke 1866 Authalic Sphere)\n",
       "- Ellipsoid: Clarke 1866 Authalic Sphere\n",
       "- Prime Meridian: Greenwich"
      ]
     },
     "execution_count": 861,
     "metadata": {},
     "output_type": "execute_result"
    }
   ],
   "source": [
    "CO_proj = CO.copy()\n",
    "CO_proj.crs=\"epsg:4326\"\n",
    "CO_proj=CO_proj.to_crs(\"EPSG:2163\")\n",
    "CO_proj.crs"
   ]
  },
  {
   "cell_type": "code",
   "execution_count": 864,
   "id": "c1036b84-5beb-4cd7-8e9a-41037b35cf21",
   "metadata": {},
   "outputs": [],
   "source": [
    "import rasterio\n",
    "from rasterstats import zonal_stats, point_query\n",
    "from rasterio.warp import calculate_default_transform, reproject, Resampling"
   ]
  },
  {
   "cell_type": "code",
   "execution_count": 865,
   "id": "ee561bbf-de28-4d80-8b94-93a945bead58",
   "metadata": {},
   "outputs": [],
   "source": [
    "dst_crs =\"EPSG:2163\""
   ]
  },
  {
   "cell_type": "code",
   "execution_count": 866,
   "id": "8f63d310-9b0d-4520-980c-1db2bea6c2d6",
   "metadata": {},
   "outputs": [],
   "source": [
    "with rasterio.open('/data/yoder/Spread_risk/Spread_risk_raster/BP_2016raster.tif') as src:\n",
    "    transform, width, height = calculate_default_transform(\n",
    "        src.crs, dst_crs, src.width, src.height, *src.bounds)\n",
    "    kwargs = src.meta.copy()\n",
    "    kwargs.update({\n",
    "        'crs': dst_crs,\n",
    "        'transform': transform,\n",
    "        'width': width,\n",
    "        'height': height\n",
    "    })\n",
    "    with rasterio.open('/data/yoder/Spread_risk/Spread_risk_raster/BP_2016raster_2163.tif', 'w', **kwargs) as dst:\n",
    "        for i in range(1, src.count + 1):\n",
    "                   reproject(\n",
    "                    source=rasterio.band(src, i),\n",
    "                    destination=rasterio.band(dst, i),\n",
    "                    src_transform=src.transform,\n",
    "                    src_crs=src.crs,\n",
    "                    dst_transform=transform,\n",
    "                    dst_crs=dst_crs,\n",
    "                    resampling=Resampling.nearest)"
   ]
  },
  {
   "cell_type": "code",
   "execution_count": 867,
   "id": "6768586c-47de-4a50-9929-d277a5a6e64c",
   "metadata": {},
   "outputs": [],
   "source": [
    "src = rasterio.open('/data/yoder/Spread_risk/Spread_risk_raster/BP_2016raster_2163.tif')"
   ]
  },
  {
   "cell_type": "code",
   "execution_count": 868,
   "id": "d68042b3-c5c5-4656-99a7-6b08c854e36c",
   "metadata": {},
   "outputs": [
    {
     "name": "stderr",
     "output_type": "stream",
     "text": [
      "/home/joshua.olsen/.conda/envs/testenv/lib/python3.8/site-packages/matplotlib/image.py:490: RuntimeWarning: overflow encountered in true_divide\n",
      "  A_scaled /= ((a_max - a_min) / frac)\n"
     ]
    },
    {
     "data": {
      "text/plain": [
       "<AxesSubplot:>"
      ]
     },
     "execution_count": 868,
     "metadata": {},
     "output_type": "execute_result"
    },
    {
     "data": {
      "image/png": "[encoded data removed]",
      "text/plain": [
       "<Figure size 432x288 with 1 Axes>"
      ]
     },
     "metadata": {
      "needs_background": "light"
     },
     "output_type": "display_data"
    }
   ],
   "source": [
    "fig, ax = plt.subplots()\n",
    "show(src,ax = ax)\n",
    "CO_proj.plot(ax=ax, color ='red')"
   ]
  },
  {
   "cell_type": "code",
   "execution_count": 869,
   "id": "caeab615-5498-4e23-a348-c16af917c874",
   "metadata": {},
   "outputs": [],
   "source": [
    "pts = CO_proj.copy()"
   ]
  },
  {
   "cell_type": "code",
   "execution_count": 870,
   "id": "3bb21ddd-7ba0-4c77-bb37-9f51e5a75de4",
   "metadata": {},
   "outputs": [
    {
     "data": {
      "text/plain": [
       "(1375077, 41)"
      ]
     },
     "execution_count": 870,
     "metadata": {},
     "output_type": "execute_result"
    }
   ],
   "source": [
    "CO_proj.shape"
   ]
  },
  {
   "cell_type": "code",
   "execution_count": 871,
   "id": "6db0a0fa-4c36-47b5-8ce5-fdce300584ff",
   "metadata": {},
   "outputs": [],
   "source": [
    "## Select only valid geometry (note .isna() does not appear to catch point (nan,nan))\n",
    "CO_pts = CO_proj[CO_proj['geometry'].is_valid]"
   ]
  },
  {
   "cell_type": "code",
   "execution_count": 872,
   "id": "1b41a079-a0a5-4504-8410-86d6419df494",
   "metadata": {},
   "outputs": [
    {
     "data": {
      "text/plain": [
       "(1374190, 41)"
      ]
     },
     "execution_count": 872,
     "metadata": {},
     "output_type": "execute_result"
    }
   ],
   "source": [
    "CO_pts.shape"
   ]
  },
  {
   "cell_type": "code",
   "execution_count": 873,
   "id": "7b1ddf4b-dcee-415a-b386-0c854ecb7182",
   "metadata": {},
   "outputs": [],
   "source": [
    "# pts = CO_pts.head(100000).copy()\n",
    "pts = CO_pts.copy()"
   ]
  },
  {
   "cell_type": "code",
   "execution_count": 874,
   "id": "278f7a82-994b-40e3-aac9-1d802b643bf6",
   "metadata": {},
   "outputs": [
    {
     "name": "stdout",
     "output_type": "stream",
     "text": [
      "CPU times: user 47min 4s, sys: 2min 44s, total: 49min 49s\n",
      "Wall time: 50min 10s\n"
     ]
    }
   ],
   "source": [
    "%%time\n",
    "pts['BP'] = point_query(pts, '/data/yoder/Spread_risk/Spread_risk_raster/BP_2016raster_2163.tif')"
   ]
  },
  {
   "cell_type": "code",
   "execution_count": 875,
   "id": "f3a567af-e60c-4f32-b1c9-47cdcb319178",
   "metadata": {},
   "outputs": [
    {
     "name": "stdout",
     "output_type": "stream",
     "text": [
      "CPU times: user 1h 6min 36s, sys: 4min 44s, total: 1h 11min 21s\n",
      "Wall time: 1h 11min 29s\n"
     ]
    }
   ],
   "source": [
    "%%time\n",
    "## Add burn probability out to 1600 meters\n",
    "pts['point_geometry'] = pts['geometry'].copy()\n",
    "pts['geometry'] = pts.buffer(1600)\n",
    "buff = pd.DataFrame(zonal_stats(pts, \n",
    "                             '/data/yoder/Spread_risk/Spread_risk_raster/BP_2016raster_2163.tif',\n",
    "                            stats=['max','mean']))\n",
    "buff.columns = [f'BP1600_'+str(col) for col in buff.columns]\n",
    "\n",
    "buff.reset_index(drop=True,inplace=True)\n",
    "pts.reset_index(drop=True,inplace=True)\n",
    "pts = pd.concat([pts,buff],axis=1)\n",
    "pts['geometry'] = pts['point_geometry'].copy()"
   ]
  },
  {
   "cell_type": "code",
   "execution_count": 876,
   "id": "e86fb034-47f0-44f7-b90f-508df37dbc6d",
   "metadata": {},
   "outputs": [],
   "source": [
    "BurnCols = ['BP','BP1600_max','BP1600_mean']"
   ]
  },
  {
   "cell_type": "code",
   "execution_count": 877,
   "id": "f3711055-539d-49c0-87f8-3d621acc0950",
   "metadata": {},
   "outputs": [
    {
     "data": {
      "text/html": [
       "<div>\n",
       "<style scoped>\n",
       "    .dataframe tbody tr th:only-of-type {\n",
       "        vertical-align: middle;\n",
       "    }\n",
       "\n",
       "    .dataframe tbody tr th {\n",
       "        vertical-align: top;\n",
       "    }\n",
       "\n",
       "    .dataframe thead th {\n",
       "        text-align: right;\n",
       "    }\n",
       "</style>\n",
       "<table border=\"1\" class=\"dataframe\">\n",
       "  <thead>\n",
       "    <tr style=\"text-align: right;\">\n",
       "      <th></th>\n",
       "      <th>BP</th>\n",
       "      <th>BP1600_max</th>\n",
       "      <th>BP1600_mean</th>\n",
       "    </tr>\n",
       "  </thead>\n",
       "  <tbody>\n",
       "    <tr>\n",
       "      <th>BP</th>\n",
       "      <td>1.000000</td>\n",
       "      <td>0.797568</td>\n",
       "      <td>0.946865</td>\n",
       "    </tr>\n",
       "    <tr>\n",
       "      <th>BP1600_max</th>\n",
       "      <td>0.797568</td>\n",
       "      <td>1.000000</td>\n",
       "      <td>0.905899</td>\n",
       "    </tr>\n",
       "    <tr>\n",
       "      <th>BP1600_mean</th>\n",
       "      <td>0.946865</td>\n",
       "      <td>0.905899</td>\n",
       "      <td>1.000000</td>\n",
       "    </tr>\n",
       "  </tbody>\n",
       "</table>\n",
       "</div>"
      ],
      "text/plain": [
       "                   BP  BP1600_max  BP1600_mean\n",
       "BP           1.000000    0.797568     0.946865\n",
       "BP1600_max   0.797568    1.000000     0.905899\n",
       "BP1600_mean  0.946865    0.905899     1.000000"
      ]
     },
     "execution_count": 877,
     "metadata": {},
     "output_type": "execute_result"
    }
   ],
   "source": [
    "pts[BurnCols].corr()"
   ]
  },
  {
   "cell_type": "code",
   "execution_count": 878,
   "id": "73b1b190-8f12-4392-b8b6-87da4efdbcd9",
   "metadata": {},
   "outputs": [
    {
     "data": {
      "text/html": [
       "<div>\n",
       "<style scoped>\n",
       "    .dataframe tbody tr th:only-of-type {\n",
       "        vertical-align: middle;\n",
       "    }\n",
       "\n",
       "    .dataframe tbody tr th {\n",
       "        vertical-align: top;\n",
       "    }\n",
       "\n",
       "    .dataframe thead th {\n",
       "        text-align: right;\n",
       "    }\n",
       "</style>\n",
       "<table border=\"1\" class=\"dataframe\">\n",
       "  <thead>\n",
       "    <tr style=\"text-align: right;\">\n",
       "      <th></th>\n",
       "      <th>BP</th>\n",
       "      <th>BP1600_max</th>\n",
       "      <th>BP1600_mean</th>\n",
       "    </tr>\n",
       "  </thead>\n",
       "  <tbody>\n",
       "    <tr>\n",
       "      <th>count</th>\n",
       "      <td>1.374190e+06</td>\n",
       "      <td>1.374190e+06</td>\n",
       "      <td>1.374190e+06</td>\n",
       "    </tr>\n",
       "    <tr>\n",
       "      <th>mean</th>\n",
       "      <td>3.147918e-04</td>\n",
       "      <td>1.065491e-03</td>\n",
       "      <td>4.097131e-04</td>\n",
       "    </tr>\n",
       "    <tr>\n",
       "      <th>std</th>\n",
       "      <td>1.046664e-03</td>\n",
       "      <td>1.532276e-03</td>\n",
       "      <td>1.050219e-03</td>\n",
       "    </tr>\n",
       "    <tr>\n",
       "      <th>min</th>\n",
       "      <td>0.000000e+00</td>\n",
       "      <td>0.000000e+00</td>\n",
       "      <td>0.000000e+00</td>\n",
       "    </tr>\n",
       "    <tr>\n",
       "      <th>25%</th>\n",
       "      <td>0.000000e+00</td>\n",
       "      <td>2.000000e-04</td>\n",
       "      <td>1.043478e-05</td>\n",
       "    </tr>\n",
       "    <tr>\n",
       "      <th>50%</th>\n",
       "      <td>0.000000e+00</td>\n",
       "      <td>4.500000e-04</td>\n",
       "      <td>3.849558e-05</td>\n",
       "    </tr>\n",
       "    <tr>\n",
       "      <th>75%</th>\n",
       "      <td>4.873609e-05</td>\n",
       "      <td>1.299000e-03</td>\n",
       "      <td>2.660727e-04</td>\n",
       "    </tr>\n",
       "    <tr>\n",
       "      <th>max</th>\n",
       "      <td>1.141770e-02</td>\n",
       "      <td>1.188100e-02</td>\n",
       "      <td>1.009293e-02</td>\n",
       "    </tr>\n",
       "  </tbody>\n",
       "</table>\n",
       "</div>"
      ],
      "text/plain": [
       "                 BP    BP1600_max   BP1600_mean\n",
       "count  1.374190e+06  1.374190e+06  1.374190e+06\n",
       "mean   3.147918e-04  1.065491e-03  4.097131e-04\n",
       "std    1.046664e-03  1.532276e-03  1.050219e-03\n",
       "min    0.000000e+00  0.000000e+00  0.000000e+00\n",
       "25%    0.000000e+00  2.000000e-04  1.043478e-05\n",
       "50%    0.000000e+00  4.500000e-04  3.849558e-05\n",
       "75%    4.873609e-05  1.299000e-03  2.660727e-04\n",
       "max    1.141770e-02  1.188100e-02  1.009293e-02"
      ]
     },
     "execution_count": 878,
     "metadata": {},
     "output_type": "execute_result"
    }
   ],
   "source": [
    "pts[BurnCols].describe()"
   ]
  },
  {
   "cell_type": "code",
   "execution_count": 880,
   "id": "35871760-4a2a-4a47-8f02-1fc217f2bc99",
   "metadata": {},
   "outputs": [
    {
     "name": "stdout",
     "output_type": "stream",
     "text": [
      "<class 'geopandas.geodataframe.GeoDataFrame'>\n",
      "RangeIndex: 1374190 entries, 0 to 1374189\n",
      "Data columns (total 45 columns):\n",
      " #   Column                       Non-Null Count    Dtype   \n",
      "---  ------                       --------------    -----   \n",
      " 0   TransId                      1374190 non-null  int64   \n",
      " 1   FIPS                         1374190 non-null  int64   \n",
      " 2   State                        1374190 non-null  object  \n",
      " 3   County                       1374190 non-null  object  \n",
      " 4   DataClassStndCode            1374190 non-null  object  \n",
      " 5   RecordingDate                1374190 non-null  object  \n",
      " 6   DocumentTypeStndCode         1374190 non-null  object  \n",
      " 7   DocumentDate                 1368840 non-null  object  \n",
      " 8   SignatureDate                0 non-null        object  \n",
      " 9   SalesPriceAmount             1374190 non-null  float64 \n",
      " 10  IntraFamilyTransferFlag      0 non-null        object  \n",
      " 11  PropertyUseStndCode          1374190 non-null  object  \n",
      " 12  LoanAmount                   1374115 non-null  float64 \n",
      " 13  LoanTypeStndCode             50440 non-null    object  \n",
      " 14  AssessorParcelNumber         1374158 non-null  object  \n",
      " 15  PropertyFullStreetAddress    1374144 non-null  object  \n",
      " 16  PropertyCity                 1373595 non-null  object  \n",
      " 17  PropertyState                1373857 non-null  object  \n",
      " 18  PropertyAddressLatitude      1374190 non-null  float64 \n",
      " 19  PropertyAddressLongitude     1374190 non-null  float64 \n",
      " 20  ImportParcelID               1374190 non-null  float64 \n",
      " 21  RowID                        1374190 non-null  object  \n",
      " 22  LotSizeSquareFeet            1346898 non-null  float64 \n",
      " 23  GarageStndCode               1276592 non-null  object  \n",
      " 24  GarageAreaSqFt               627766 non-null   float64 \n",
      " 25  YearBuilt                    1374141 non-null  float64 \n",
      " 26  YearRemodeled                343781 non-null   float64 \n",
      " 27  NoOfStories                  1101890 non-null  float64 \n",
      " 28  TotalRooms                   1374182 non-null  float64 \n",
      " 29  TotalBedrooms                1374190 non-null  float64 \n",
      " 30  TotalKitchens                1402 non-null     float64 \n",
      " 31  FullBath                     1160653 non-null  float64 \n",
      " 32  ThreeQuarterBath             1406 non-null     float64 \n",
      " 33  HalfBath                     1162059 non-null  float64 \n",
      " 34  QuarterBath                  1406 non-null     float64 \n",
      " 35  TotalActualBathCount         213534 non-null   float64 \n",
      " 36  RoofCoverStndCode            903965 non-null   object  \n",
      " 37  HeatingTypeorSystemStndCode  1347432 non-null  object  \n",
      " 38  FireplaceFlag                89889 non-null    object  \n",
      " 39  FireplaceNumber              653243 non-null   float64 \n",
      " 40  geometry                     1374190 non-null  geometry\n",
      " 41  BP                           1374190 non-null  float64 \n",
      " 42  point_geometry               1374190 non-null  geometry\n",
      " 43  BP1600_max                   1374190 non-null  float64 \n",
      " 44  BP1600_mean                  1374190 non-null  float64 \n",
      "dtypes: float64(22), geometry(2), int64(2), object(19)\n",
      "memory usage: 471.8+ MB\n"
     ]
    }
   ],
   "source": [
    "#WA\n",
    "pts.info()"
   ]
  },
  {
   "cell_type": "code",
   "execution_count": 881,
   "id": "6a6a4516-258b-48c1-8da8-5e47cdb0fc3e",
   "metadata": {},
   "outputs": [
    {
     "data": {
      "text/plain": [
       "<AxesSubplot:>"
      ]
     },
     "execution_count": 881,
     "metadata": {},
     "output_type": "execute_result"
    },
    {
     "data": {
      "image/png": "[encoded data removed]",
      "text/plain": [
       "<Figure size 432x288 with 1 Axes>"
      ]
     },
     "metadata": {
      "needs_background": "light"
     },
     "output_type": "display_data"
    }
   ],
   "source": [
    "basemap = CO_map.plot(edgecolor='black',color='white')\n",
    "pts.plot(ax= basemap)"
   ]
  },
  {
   "cell_type": "code",
   "execution_count": 883,
   "id": "29e69a89-7084-4269-bc9f-b4c4e1fbe62c",
   "metadata": {
    "tags": []
   },
   "outputs": [
    {
     "data": {
      "text/html": [
       "<div>\n",
       "<style scoped>\n",
       "    .dataframe tbody tr th:only-of-type {\n",
       "        vertical-align: middle;\n",
       "    }\n",
       "\n",
       "    .dataframe tbody tr th {\n",
       "        vertical-align: top;\n",
       "    }\n",
       "\n",
       "    .dataframe thead th {\n",
       "        text-align: right;\n",
       "    }\n",
       "</style>\n",
       "<table border=\"1\" class=\"dataframe\">\n",
       "  <thead>\n",
       "    <tr style=\"text-align: right;\">\n",
       "      <th></th>\n",
       "      <th>TransId</th>\n",
       "      <th>FIPS</th>\n",
       "      <th>SalesPriceAmount</th>\n",
       "      <th>LoanAmount</th>\n",
       "      <th>PropertyAddressLatitude</th>\n",
       "      <th>PropertyAddressLongitude</th>\n",
       "      <th>ImportParcelID</th>\n",
       "      <th>LotSizeSquareFeet</th>\n",
       "      <th>GarageAreaSqFt</th>\n",
       "      <th>YearBuilt</th>\n",
       "      <th>...</th>\n",
       "      <th>TotalKitchens</th>\n",
       "      <th>FullBath</th>\n",
       "      <th>ThreeQuarterBath</th>\n",
       "      <th>HalfBath</th>\n",
       "      <th>QuarterBath</th>\n",
       "      <th>TotalActualBathCount</th>\n",
       "      <th>FireplaceNumber</th>\n",
       "      <th>BP</th>\n",
       "      <th>BP1600_max</th>\n",
       "      <th>BP1600_mean</th>\n",
       "    </tr>\n",
       "  </thead>\n",
       "  <tbody>\n",
       "    <tr>\n",
       "      <th>count</th>\n",
       "      <td>1.374190e+06</td>\n",
       "      <td>1.374190e+06</td>\n",
       "      <td>1.374190e+06</td>\n",
       "      <td>1.374115e+06</td>\n",
       "      <td>1.374190e+06</td>\n",
       "      <td>1.374190e+06</td>\n",
       "      <td>1.374190e+06</td>\n",
       "      <td>1.346898e+06</td>\n",
       "      <td>627766.000000</td>\n",
       "      <td>1.374141e+06</td>\n",
       "      <td>...</td>\n",
       "      <td>1402.000000</td>\n",
       "      <td>1.160653e+06</td>\n",
       "      <td>1406.0</td>\n",
       "      <td>1.162059e+06</td>\n",
       "      <td>1406.0</td>\n",
       "      <td>213534.000000</td>\n",
       "      <td>653243.000000</td>\n",
       "      <td>1.374190e+06</td>\n",
       "      <td>1.374190e+06</td>\n",
       "      <td>1.374190e+06</td>\n",
       "    </tr>\n",
       "    <tr>\n",
       "      <th>mean</th>\n",
       "      <td>1.400649e+08</td>\n",
       "      <td>8.041966e+03</td>\n",
       "      <td>2.455396e+05</td>\n",
       "      <td>1.934734e+05</td>\n",
       "      <td>3.958642e+01</td>\n",
       "      <td>-1.050404e+02</td>\n",
       "      <td>2.404495e+07</td>\n",
       "      <td>5.118194e+05</td>\n",
       "      <td>655.008008</td>\n",
       "      <td>1.971459e+03</td>\n",
       "      <td>...</td>\n",
       "      <td>1.052782</td>\n",
       "      <td>2.172345e+00</td>\n",
       "      <td>0.0</td>\n",
       "      <td>2.781098e-01</td>\n",
       "      <td>0.0</td>\n",
       "      <td>2.505389</td>\n",
       "      <td>1.284471</td>\n",
       "      <td>3.147918e-04</td>\n",
       "      <td>1.065491e-03</td>\n",
       "      <td>4.097131e-04</td>\n",
       "    </tr>\n",
       "    <tr>\n",
       "      <th>std</th>\n",
       "      <td>1.004161e+08</td>\n",
       "      <td>3.072776e+01</td>\n",
       "      <td>3.561942e+05</td>\n",
       "      <td>1.586173e+06</td>\n",
       "      <td>5.372693e-01</td>\n",
       "      <td>6.173692e-01</td>\n",
       "      <td>1.361857e+07</td>\n",
       "      <td>1.190906e+07</td>\n",
       "      <td>941.197417</td>\n",
       "      <td>2.633519e+01</td>\n",
       "      <td>...</td>\n",
       "      <td>0.226846</td>\n",
       "      <td>9.050653e-01</td>\n",
       "      <td>0.0</td>\n",
       "      <td>5.710391e-01</td>\n",
       "      <td>0.0</td>\n",
       "      <td>0.775084</td>\n",
       "      <td>0.538610</td>\n",
       "      <td>1.046664e-03</td>\n",
       "      <td>1.532276e-03</td>\n",
       "      <td>1.050219e-03</td>\n",
       "    </tr>\n",
       "    <tr>\n",
       "      <th>min</th>\n",
       "      <td>9.792263e+07</td>\n",
       "      <td>8.001000e+03</td>\n",
       "      <td>1.000000e+02</td>\n",
       "      <td>0.000000e+00</td>\n",
       "      <td>3.702700e+01</td>\n",
       "      <td>-1.090474e+02</td>\n",
       "      <td>2.153843e+07</td>\n",
       "      <td>1.000000e+00</td>\n",
       "      <td>1.000000</td>\n",
       "      <td>1.829000e+03</td>\n",
       "      <td>...</td>\n",
       "      <td>1.000000</td>\n",
       "      <td>0.000000e+00</td>\n",
       "      <td>0.0</td>\n",
       "      <td>0.000000e+00</td>\n",
       "      <td>0.0</td>\n",
       "      <td>0.000000</td>\n",
       "      <td>1.000000</td>\n",
       "      <td>0.000000e+00</td>\n",
       "      <td>0.000000e+00</td>\n",
       "      <td>0.000000e+00</td>\n",
       "    </tr>\n",
       "    <tr>\n",
       "      <th>25%</th>\n",
       "      <td>1.009878e+08</td>\n",
       "      <td>8.015000e+03</td>\n",
       "      <td>1.429900e+05</td>\n",
       "      <td>1.170000e+05</td>\n",
       "      <td>3.910009e+01</td>\n",
       "      <td>-1.050871e+02</td>\n",
       "      <td>2.212832e+07</td>\n",
       "      <td>6.250000e+03</td>\n",
       "      <td>340.000000</td>\n",
       "      <td>1.958000e+03</td>\n",
       "      <td>...</td>\n",
       "      <td>1.000000</td>\n",
       "      <td>2.000000e+00</td>\n",
       "      <td>0.0</td>\n",
       "      <td>0.000000e+00</td>\n",
       "      <td>0.0</td>\n",
       "      <td>1.750000</td>\n",
       "      <td>1.000000</td>\n",
       "      <td>0.000000e+00</td>\n",
       "      <td>2.000000e-04</td>\n",
       "      <td>1.043478e-05</td>\n",
       "    </tr>\n",
       "    <tr>\n",
       "      <th>50%</th>\n",
       "      <td>1.033800e+08</td>\n",
       "      <td>8.041000e+03</td>\n",
       "      <td>1.950000e+05</td>\n",
       "      <td>1.643500e+05</td>\n",
       "      <td>3.969266e+01</td>\n",
       "      <td>-1.049575e+02</td>\n",
       "      <td>2.268973e+07</td>\n",
       "      <td>7.841000e+03</td>\n",
       "      <td>450.000000</td>\n",
       "      <td>1.977000e+03</td>\n",
       "      <td>...</td>\n",
       "      <td>1.000000</td>\n",
       "      <td>2.000000e+00</td>\n",
       "      <td>0.0</td>\n",
       "      <td>0.000000e+00</td>\n",
       "      <td>0.0</td>\n",
       "      <td>2.500000</td>\n",
       "      <td>1.000000</td>\n",
       "      <td>0.000000e+00</td>\n",
       "      <td>4.500000e-04</td>\n",
       "      <td>3.849558e-05</td>\n",
       "    </tr>\n",
       "    <tr>\n",
       "      <th>75%</th>\n",
       "      <td>1.060529e+08</td>\n",
       "      <td>8.059000e+03</td>\n",
       "      <td>2.850000e+05</td>\n",
       "      <td>2.319035e+05</td>\n",
       "      <td>3.985659e+01</td>\n",
       "      <td>-1.047901e+02</td>\n",
       "      <td>2.312943e+07</td>\n",
       "      <td>1.089000e+04</td>\n",
       "      <td>576.000000</td>\n",
       "      <td>1.993000e+03</td>\n",
       "      <td>...</td>\n",
       "      <td>1.000000</td>\n",
       "      <td>3.000000e+00</td>\n",
       "      <td>0.0</td>\n",
       "      <td>0.000000e+00</td>\n",
       "      <td>0.0</td>\n",
       "      <td>3.250000</td>\n",
       "      <td>2.000000</td>\n",
       "      <td>4.873609e-05</td>\n",
       "      <td>1.299000e-03</td>\n",
       "      <td>2.660727e-04</td>\n",
       "    </tr>\n",
       "    <tr>\n",
       "      <th>max</th>\n",
       "      <td>4.495555e+08</td>\n",
       "      <td>8.123000e+03</td>\n",
       "      <td>1.000600e+08</td>\n",
       "      <td>9.745816e+08</td>\n",
       "      <td>4.099599e+01</td>\n",
       "      <td>-1.021245e+02</td>\n",
       "      <td>1.646407e+08</td>\n",
       "      <td>6.791875e+08</td>\n",
       "      <td>41791.000000</td>\n",
       "      <td>2.017000e+03</td>\n",
       "      <td>...</td>\n",
       "      <td>3.000000</td>\n",
       "      <td>2.000000e+01</td>\n",
       "      <td>0.0</td>\n",
       "      <td>8.000000e+00</td>\n",
       "      <td>0.0</td>\n",
       "      <td>9.500000</td>\n",
       "      <td>9.000000</td>\n",
       "      <td>1.141770e-02</td>\n",
       "      <td>1.188100e-02</td>\n",
       "      <td>1.009293e-02</td>\n",
       "    </tr>\n",
       "  </tbody>\n",
       "</table>\n",
       "<p>8 rows × 24 columns</p>\n",
       "</div>"
      ],
      "text/plain": [
       "            TransId          FIPS  SalesPriceAmount    LoanAmount  \\\n",
       "count  1.374190e+06  1.374190e+06      1.374190e+06  1.374115e+06   \n",
       "mean   1.400649e+08  8.041966e+03      2.455396e+05  1.934734e+05   \n",
       "std    1.004161e+08  3.072776e+01      3.561942e+05  1.586173e+06   \n",
       "min    9.792263e+07  8.001000e+03      1.000000e+02  0.000000e+00   \n",
       "25%    1.009878e+08  8.015000e+03      1.429900e+05  1.170000e+05   \n",
       "50%    1.033800e+08  8.041000e+03      1.950000e+05  1.643500e+05   \n",
       "75%    1.060529e+08  8.059000e+03      2.850000e+05  2.319035e+05   \n",
       "max    4.495555e+08  8.123000e+03      1.000600e+08  9.745816e+08   \n",
       "\n",
       "       PropertyAddressLatitude  PropertyAddressLongitude  ImportParcelID  \\\n",
       "count             1.374190e+06              1.374190e+06    1.374190e+06   \n",
       "mean              3.958642e+01             -1.050404e+02    2.404495e+07   \n",
       "std               5.372693e-01              6.173692e-01    1.361857e+07   \n",
       "min               3.702700e+01             -1.090474e+02    2.153843e+07   \n",
       "25%               3.910009e+01             -1.050871e+02    2.212832e+07   \n",
       "50%               3.969266e+01             -1.049575e+02    2.268973e+07   \n",
       "75%               3.985659e+01             -1.047901e+02    2.312943e+07   \n",
       "max               4.099599e+01             -1.021245e+02    1.646407e+08   \n",
       "\n",
       "       LotSizeSquareFeet  GarageAreaSqFt     YearBuilt  ...  TotalKitchens  \\\n",
       "count       1.346898e+06   627766.000000  1.374141e+06  ...    1402.000000   \n",
       "mean        5.118194e+05      655.008008  1.971459e+03  ...       1.052782   \n",
       "std         1.190906e+07      941.197417  2.633519e+01  ...       0.226846   \n",
       "min         1.000000e+00        1.000000  1.829000e+03  ...       1.000000   \n",
       "25%         6.250000e+03      340.000000  1.958000e+03  ...       1.000000   \n",
       "50%         7.841000e+03      450.000000  1.977000e+03  ...       1.000000   \n",
       "75%         1.089000e+04      576.000000  1.993000e+03  ...       1.000000   \n",
       "max         6.791875e+08    41791.000000  2.017000e+03  ...       3.000000   \n",
       "\n",
       "           FullBath  ThreeQuarterBath      HalfBath  QuarterBath  \\\n",
       "count  1.160653e+06            1406.0  1.162059e+06       1406.0   \n",
       "mean   2.172345e+00               0.0  2.781098e-01          0.0   \n",
       "std    9.050653e-01               0.0  5.710391e-01          0.0   \n",
       "min    0.000000e+00               0.0  0.000000e+00          0.0   \n",
       "25%    2.000000e+00               0.0  0.000000e+00          0.0   \n",
       "50%    2.000000e+00               0.0  0.000000e+00          0.0   \n",
       "75%    3.000000e+00               0.0  0.000000e+00          0.0   \n",
       "max    2.000000e+01               0.0  8.000000e+00          0.0   \n",
       "\n",
       "       TotalActualBathCount  FireplaceNumber            BP    BP1600_max  \\\n",
       "count         213534.000000    653243.000000  1.374190e+06  1.374190e+06   \n",
       "mean               2.505389         1.284471  3.147918e-04  1.065491e-03   \n",
       "std                0.775084         0.538610  1.046664e-03  1.532276e-03   \n",
       "min                0.000000         1.000000  0.000000e+00  0.000000e+00   \n",
       "25%                1.750000         1.000000  0.000000e+00  2.000000e-04   \n",
       "50%                2.500000         1.000000  0.000000e+00  4.500000e-04   \n",
       "75%                3.250000         2.000000  4.873609e-05  1.299000e-03   \n",
       "max                9.500000         9.000000  1.141770e-02  1.188100e-02   \n",
       "\n",
       "        BP1600_mean  \n",
       "count  1.374190e+06  \n",
       "mean   4.097131e-04  \n",
       "std    1.050219e-03  \n",
       "min    0.000000e+00  \n",
       "25%    1.043478e-05  \n",
       "50%    3.849558e-05  \n",
       "75%    2.660727e-04  \n",
       "max    1.009293e-02  \n",
       "\n",
       "[8 rows x 24 columns]"
      ]
     },
     "execution_count": 883,
     "metadata": {},
     "output_type": "execute_result"
    }
   ],
   "source": [
    "pts.describe()"
   ]
  },
  {
   "cell_type": "code",
   "execution_count": 989,
   "id": "9bcb70a1-ce83-48c2-b747-a08ab0c90d82",
   "metadata": {},
   "outputs": [],
   "source": [
    "## Create a copy of everything to merge with fires\n",
    "## For Colorado base memory usage is 471mb with 1,374,190 rows\n",
    "ST_points = pts.copy()"
   ]
  },
  {
   "cell_type": "code",
   "execution_count": 991,
   "id": "7b92ec04-a94d-41c1-b9e9-3c4fab742c5b",
   "metadata": {},
   "outputs": [
    {
     "name": "stdout",
     "output_type": "stream",
     "text": [
      "<class 'geopandas.geodataframe.GeoDataFrame'>\n",
      "RangeIndex: 1374190 entries, 0 to 1374189\n",
      "Data columns (total 45 columns):\n",
      " #   Column                       Non-Null Count    Dtype   \n",
      "---  ------                       --------------    -----   \n",
      " 0   TransId                      1374190 non-null  int64   \n",
      " 1   FIPS                         1374190 non-null  int64   \n",
      " 2   State                        1374190 non-null  object  \n",
      " 3   County                       1374190 non-null  object  \n",
      " 4   DataClassStndCode            1374190 non-null  object  \n",
      " 5   RecordingDate                1374190 non-null  object  \n",
      " 6   DocumentTypeStndCode         1374190 non-null  object  \n",
      " 7   DocumentDate                 1368840 non-null  object  \n",
      " 8   SignatureDate                0 non-null        object  \n",
      " 9   SalesPriceAmount             1374190 non-null  float64 \n",
      " 10  IntraFamilyTransferFlag      0 non-null        object  \n",
      " 11  PropertyUseStndCode          1374190 non-null  object  \n",
      " 12  LoanAmount                   1374115 non-null  float64 \n",
      " 13  LoanTypeStndCode             50440 non-null    object  \n",
      " 14  AssessorParcelNumber         1374158 non-null  object  \n",
      " 15  PropertyFullStreetAddress    1374144 non-null  object  \n",
      " 16  PropertyCity                 1373595 non-null  object  \n",
      " 17  PropertyState                1373857 non-null  object  \n",
      " 18  PropertyAddressLatitude      1374190 non-null  float64 \n",
      " 19  PropertyAddressLongitude     1374190 non-null  float64 \n",
      " 20  ImportParcelID               1374190 non-null  float64 \n",
      " 21  RowID                        1374190 non-null  object  \n",
      " 22  LotSizeSquareFeet            1346898 non-null  float64 \n",
      " 23  GarageStndCode               1276592 non-null  object  \n",
      " 24  GarageAreaSqFt               627766 non-null   float64 \n",
      " 25  YearBuilt                    1374141 non-null  float64 \n",
      " 26  YearRemodeled                343781 non-null   float64 \n",
      " 27  NoOfStories                  1101890 non-null  float64 \n",
      " 28  TotalRooms                   1374182 non-null  float64 \n",
      " 29  TotalBedrooms                1374190 non-null  float64 \n",
      " 30  TotalKitchens                1402 non-null     float64 \n",
      " 31  FullBath                     1160653 non-null  float64 \n",
      " 32  ThreeQuarterBath             1406 non-null     float64 \n",
      " 33  HalfBath                     1162059 non-null  float64 \n",
      " 34  QuarterBath                  1406 non-null     float64 \n",
      " 35  TotalActualBathCount         213534 non-null   float64 \n",
      " 36  RoofCoverStndCode            903965 non-null   object  \n",
      " 37  HeatingTypeorSystemStndCode  1347432 non-null  object  \n",
      " 38  FireplaceFlag                89889 non-null    object  \n",
      " 39  FireplaceNumber              653243 non-null   float64 \n",
      " 40  geometry                     1374190 non-null  geometry\n",
      " 41  BP                           1374190 non-null  float64 \n",
      " 42  point_geometry               1374190 non-null  geometry\n",
      " 43  BP1600_max                   1374190 non-null  float64 \n",
      " 44  BP1600_mean                  1374190 non-null  float64 \n",
      "dtypes: float64(22), geometry(2), int64(2), object(19)\n",
      "memory usage: 471.8+ MB\n"
     ]
    }
   ],
   "source": [
    "ST_points.info(())"
   ]
  },
  {
   "cell_type": "code",
   "execution_count": 992,
   "id": "c3592ef0-3bbb-43e0-a12b-ca2a1b6bcc1b",
   "metadata": {},
   "outputs": [],
   "source": [
    "## Add fire perimeter data\n",
    "import geopandas as gpd\n",
    "Fireperims = gpd.read_file('/data/yoder/DensityProject/mtbs_perimeter_data/mtbs_perims_DD.shp')\n",
    "Fireperims = Fireperims.to_crs(\"EPSG:2163\")"
   ]
  },
  {
   "cell_type": "code",
   "execution_count": 993,
   "id": "415ede78-809c-477d-95a1-1a4e435ec75a",
   "metadata": {},
   "outputs": [],
   "source": [
    "CO_map = CO_map[['STUSPS', 'geometry']]"
   ]
  },
  {
   "cell_type": "code",
   "execution_count": 994,
   "id": "fbb0bdeb-2717-47a2-b64f-f927ecbb9909",
   "metadata": {},
   "outputs": [],
   "source": [
    "Buffed_state = CO_map.copy()"
   ]
  },
  {
   "cell_type": "code",
   "execution_count": 995,
   "id": "1b953845-c376-4dac-98d6-5dde7378a65f",
   "metadata": {},
   "outputs": [],
   "source": [
    "Buffed_state['geometry'] = Buffed_state.buffer(100000)"
   ]
  },
  {
   "cell_type": "code",
   "execution_count": 996,
   "id": "e5e7bdc3-d13b-471f-aed7-de3b6cf8fb92",
   "metadata": {},
   "outputs": [],
   "source": [
    "ST_fires = gpd.sjoin(Fireperims, Buffed_state, op='within')\n",
    "ST_fires = ST_fires.drop(['index_right'], axis=1)\n",
    "ST_fires['Buffed_geometry100km'] = ST_fires.buffer(100000)\n",
    "ST_fires['MTBS_geometry'] = ST_fires['geometry'].copy()"
   ]
  },
  {
   "cell_type": "code",
   "execution_count": 997,
   "id": "de0c8435-9b87-406d-bc69-ecacaf7f94eb",
   "metadata": {},
   "outputs": [],
   "source": [
    "ST_fires['geometry'] = ST_fires['Buffed_geometry100km'].copy()"
   ]
  },
  {
   "cell_type": "code",
   "execution_count": 998,
   "id": "e6360df1-9672-4c86-b6bb-69b30b3b07ea",
   "metadata": {},
   "outputs": [
    {
     "data": {
      "text/plain": [
       "<AxesSubplot:>"
      ]
     },
     "execution_count": 998,
     "metadata": {},
     "output_type": "execute_result"
    },
    {
     "data": {
      "image/png": "[encoded data removed]",
      "text/plain": [
       "<Figure size 432x288 with 1 Axes>"
      ]
     },
     "metadata": {
      "needs_background": "light"
     },
     "output_type": "display_data"
    }
   ],
   "source": [
    "ST_fires.plot()"
   ]
  },
  {
   "cell_type": "code",
   "execution_count": 953,
   "id": "7839e25f-90a1-46f2-b3f0-1d4d16492067",
   "metadata": {},
   "outputs": [],
   "source": [
    "ST_samp = pts.sample(n=10000)"
   ]
  },
  {
   "cell_type": "code",
   "execution_count": 999,
   "id": "70857567-0ec9-441c-a56e-ca714ce4f702",
   "metadata": {},
   "outputs": [
    {
     "data": {
      "text/plain": [
       "<AxesSubplot:>"
      ]
     },
     "execution_count": 999,
     "metadata": {},
     "output_type": "execute_result"
    },
    {
     "data": {
      "image/png": "[encoded data removed]",
      "text/plain": [
       "<Figure size 432x288 with 1 Axes>"
      ]
     },
     "metadata": {
      "needs_background": "light"
     },
     "output_type": "display_data"
    }
   ],
   "source": [
    "basemap = CO_map.plot(edgecolor='black',color='white')\n",
    "ST_fires.plot(ax=basemap, color='red')\n",
    "ST_points.plot(ax= basemap, color='blue')"
   ]
  },
  {
   "cell_type": "code",
   "execution_count": 1000,
   "id": "4733842e-67fd-4b07-8e95-61ecc3bb5bc1",
   "metadata": {},
   "outputs": [
    {
     "name": "stdout",
     "output_type": "stream",
     "text": [
      "CPU times: user 12min 36s, sys: 2min 11s, total: 14min 47s\n",
      "Wall time: 14min 49s\n"
     ]
    }
   ],
   "source": [
    "%%time\n",
    "ST_Samp_with_Fires = gpd.sjoin(ST_points, ST_fires, how='left')"
   ]
  },
  {
   "cell_type": "code",
   "execution_count": 978,
   "id": "aeb70df8-b475-4c8c-894a-6512b4248b97",
   "metadata": {},
   "outputs": [
    {
     "data": {
      "text/plain": [
       "Index(['TransId', 'FIPS', 'State', 'County', 'DataClassStndCode',\n",
       "       'RecordingDate', 'DocumentTypeStndCode', 'DocumentDate',\n",
       "       'SignatureDate', 'SalesPriceAmount', 'IntraFamilyTransferFlag',\n",
       "       'PropertyUseStndCode', 'LoanAmount', 'LoanTypeStndCode',\n",
       "       'AssessorParcelNumber', 'PropertyFullStreetAddress', 'PropertyCity',\n",
       "       'PropertyState', 'PropertyAddressLatitude', 'PropertyAddressLongitude',\n",
       "       'ImportParcelID', 'RowID', 'LotSizeSquareFeet', 'GarageStndCode',\n",
       "       'GarageAreaSqFt', 'YearBuilt', 'YearRemodeled', 'NoOfStories',\n",
       "       'TotalRooms', 'TotalBedrooms', 'TotalKitchens', 'FullBath',\n",
       "       'ThreeQuarterBath', 'HalfBath', 'QuarterBath', 'TotalActualBathCount',\n",
       "       'RoofCoverStndCode', 'HeatingTypeorSystemStndCode', 'FireplaceFlag',\n",
       "       'FireplaceNumber', 'geometry', 'BP', 'point_geometry', 'BP1600_max',\n",
       "       'BP1600_mean', 'index_right', 'Fire_ID', 'Fire_Name', 'Year',\n",
       "       'StartMonth', 'StartDay', 'Fire_Type', 'Acres', 'STUSPS',\n",
       "       'Buffed_geometry100km', 'MTBS_geometry'],\n",
       "      dtype='object')"
      ]
     },
     "execution_count": 978,
     "metadata": {},
     "output_type": "execute_result"
    }
   ],
   "source": [
    "ST_Samp_with_Fires.columns"
   ]
  },
  {
   "cell_type": "code",
   "execution_count": 979,
   "id": "60d85516-6366-4e46-9bca-c5e1fbb1c4cc",
   "metadata": {},
   "outputs": [
    {
     "data": {
      "text/plain": [
       "<AxesSubplot:>"
      ]
     },
     "execution_count": 979,
     "metadata": {},
     "output_type": "execute_result"
    },
    {
     "data": {
      "image/png": "[encoded data removed]",
      "text/plain": [
       "<Figure size 432x288 with 1 Axes>"
      ]
     },
     "metadata": {
      "needs_background": "light"
     },
     "output_type": "display_data"
    }
   ],
   "source": [
    "ST_Samp_with_Fires.plot()"
   ]
  },
  {
   "cell_type": "code",
   "execution_count": 980,
   "id": "ef06b85c-8437-4568-a9b3-1f3a7100cac4",
   "metadata": {},
   "outputs": [],
   "source": [
    "pd.options.display.max_columns = None"
   ]
  },
  {
   "cell_type": "code",
   "execution_count": 1001,
   "id": "1c73bbf4-590a-4b24-90b9-1eb7b59603e9",
   "metadata": {},
   "outputs": [
    {
     "name": "stdout",
     "output_type": "stream",
     "text": [
      "<class 'geopandas.geodataframe.GeoDataFrame'>\n",
      "Int64Index: 41654318 entries, 0 to 1374189\n",
      "Data columns (total 56 columns):\n",
      " #   Column                       Dtype   \n",
      "---  ------                       -----   \n",
      " 0   TransId                      int64   \n",
      " 1   FIPS                         int64   \n",
      " 2   State                        object  \n",
      " 3   County                       object  \n",
      " 4   DataClassStndCode            object  \n",
      " 5   RecordingDate                object  \n",
      " 6   DocumentTypeStndCode         object  \n",
      " 7   DocumentDate                 object  \n",
      " 8   SignatureDate                object  \n",
      " 9   SalesPriceAmount             float64 \n",
      " 10  IntraFamilyTransferFlag      object  \n",
      " 11  PropertyUseStndCode          object  \n",
      " 12  LoanAmount                   float64 \n",
      " 13  LoanTypeStndCode             object  \n",
      " 14  AssessorParcelNumber         object  \n",
      " 15  PropertyFullStreetAddress    object  \n",
      " 16  PropertyCity                 object  \n",
      " 17  PropertyState                object  \n",
      " 18  PropertyAddressLatitude      float64 \n",
      " 19  PropertyAddressLongitude     float64 \n",
      " 20  ImportParcelID               float64 \n",
      " 21  RowID                        object  \n",
      " 22  LotSizeSquareFeet            float64 \n",
      " 23  GarageStndCode               object  \n",
      " 24  GarageAreaSqFt               float64 \n",
      " 25  YearBuilt                    float64 \n",
      " 26  YearRemodeled                float64 \n",
      " 27  NoOfStories                  float64 \n",
      " 28  TotalRooms                   float64 \n",
      " 29  TotalBedrooms                float64 \n",
      " 30  TotalKitchens                float64 \n",
      " 31  FullBath                     float64 \n",
      " 32  ThreeQuarterBath             float64 \n",
      " 33  HalfBath                     float64 \n",
      " 34  QuarterBath                  float64 \n",
      " 35  TotalActualBathCount         float64 \n",
      " 36  RoofCoverStndCode            object  \n",
      " 37  HeatingTypeorSystemStndCode  object  \n",
      " 38  FireplaceFlag                object  \n",
      " 39  FireplaceNumber              float64 \n",
      " 40  geometry                     geometry\n",
      " 41  BP                           float64 \n",
      " 42  point_geometry               geometry\n",
      " 43  BP1600_max                   float64 \n",
      " 44  BP1600_mean                  float64 \n",
      " 45  index_right                  int64   \n",
      " 46  Fire_ID                      object  \n",
      " 47  Fire_Name                    object  \n",
      " 48  Year                         int64   \n",
      " 49  StartMonth                   int64   \n",
      " 50  StartDay                     int64   \n",
      " 51  Fire_Type                    object  \n",
      " 52  Acres                        float64 \n",
      " 53  STUSPS                       object  \n",
      " 54  Buffed_geometry100km         geometry\n",
      " 55  MTBS_geometry                geometry\n",
      "dtypes: float64(23), geometry(4), int64(6), object(23)\n",
      "memory usage: 17.7+ GB\n"
     ]
    }
   ],
   "source": [
    "ST_Samp_with_Fires.info(verbose=True)"
   ]
  },
  {
   "cell_type": "code",
   "execution_count": 1002,
   "id": "2283a552-dc8a-4cdb-9f6b-01de238a7a04",
   "metadata": {},
   "outputs": [
    {
     "data": {
      "text/html": [
       "<div>\n",
       "<style scoped>\n",
       "    .dataframe tbody tr th:only-of-type {\n",
       "        vertical-align: middle;\n",
       "    }\n",
       "\n",
       "    .dataframe tbody tr th {\n",
       "        vertical-align: top;\n",
       "    }\n",
       "\n",
       "    .dataframe thead th {\n",
       "        text-align: right;\n",
       "    }\n",
       "</style>\n",
       "<table border=\"1\" class=\"dataframe\">\n",
       "  <thead>\n",
       "    <tr style=\"text-align: right;\">\n",
       "      <th></th>\n",
       "      <th>TransId</th>\n",
       "      <th>FIPS</th>\n",
       "      <th>State</th>\n",
       "      <th>County</th>\n",
       "      <th>DataClassStndCode</th>\n",
       "      <th>RecordingDate</th>\n",
       "      <th>DocumentTypeStndCode</th>\n",
       "      <th>DocumentDate</th>\n",
       "      <th>SignatureDate</th>\n",
       "      <th>SalesPriceAmount</th>\n",
       "      <th>IntraFamilyTransferFlag</th>\n",
       "      <th>PropertyUseStndCode</th>\n",
       "      <th>LoanAmount</th>\n",
       "      <th>LoanTypeStndCode</th>\n",
       "      <th>AssessorParcelNumber</th>\n",
       "      <th>PropertyFullStreetAddress</th>\n",
       "      <th>PropertyCity</th>\n",
       "      <th>PropertyState</th>\n",
       "      <th>PropertyAddressLatitude</th>\n",
       "      <th>PropertyAddressLongitude</th>\n",
       "      <th>ImportParcelID</th>\n",
       "      <th>RowID</th>\n",
       "      <th>LotSizeSquareFeet</th>\n",
       "      <th>GarageStndCode</th>\n",
       "      <th>GarageAreaSqFt</th>\n",
       "      <th>YearBuilt</th>\n",
       "      <th>YearRemodeled</th>\n",
       "      <th>NoOfStories</th>\n",
       "      <th>TotalRooms</th>\n",
       "      <th>TotalBedrooms</th>\n",
       "      <th>TotalKitchens</th>\n",
       "      <th>FullBath</th>\n",
       "      <th>ThreeQuarterBath</th>\n",
       "      <th>HalfBath</th>\n",
       "      <th>QuarterBath</th>\n",
       "      <th>TotalActualBathCount</th>\n",
       "      <th>RoofCoverStndCode</th>\n",
       "      <th>HeatingTypeorSystemStndCode</th>\n",
       "      <th>FireplaceFlag</th>\n",
       "      <th>FireplaceNumber</th>\n",
       "      <th>geometry</th>\n",
       "      <th>BP</th>\n",
       "      <th>point_geometry</th>\n",
       "      <th>BP1600_max</th>\n",
       "      <th>BP1600_mean</th>\n",
       "      <th>index_right</th>\n",
       "      <th>Fire_ID</th>\n",
       "      <th>Fire_Name</th>\n",
       "      <th>Year</th>\n",
       "      <th>StartMonth</th>\n",
       "      <th>StartDay</th>\n",
       "      <th>Fire_Type</th>\n",
       "      <th>Acres</th>\n",
       "      <th>STUSPS</th>\n",
       "      <th>Buffed_geometry100km</th>\n",
       "      <th>MTBS_geometry</th>\n",
       "    </tr>\n",
       "  </thead>\n",
       "  <tbody>\n",
       "    <tr>\n",
       "      <th>0</th>\n",
       "      <td>97922632</td>\n",
       "      <td>8001</td>\n",
       "      <td>CO</td>\n",
       "      <td>ADAMS</td>\n",
       "      <td>H</td>\n",
       "      <td>1993-09-01</td>\n",
       "      <td>WRDE</td>\n",
       "      <td>NaN</td>\n",
       "      <td>NaN</td>\n",
       "      <td>91000.0</td>\n",
       "      <td>NaN</td>\n",
       "      <td>SR</td>\n",
       "      <td>60000.0</td>\n",
       "      <td>NaN</td>\n",
       "      <td>1815-27-2-14-010</td>\n",
       "      <td>765 4TH ST</td>\n",
       "      <td>BENNETT</td>\n",
       "      <td>CO</td>\n",
       "      <td>39.762606</td>\n",
       "      <td>-104.429201</td>\n",
       "      <td>21668273.0</td>\n",
       "      <td>D8F54216-820C-E811-80C3-3863BB430E3F</td>\n",
       "      <td>9583.0</td>\n",
       "      <td>AT</td>\n",
       "      <td>NaN</td>\n",
       "      <td>1979.0</td>\n",
       "      <td>NaN</td>\n",
       "      <td>NaN</td>\n",
       "      <td>6.0</td>\n",
       "      <td>3.0</td>\n",
       "      <td>NaN</td>\n",
       "      <td>3.0</td>\n",
       "      <td>NaN</td>\n",
       "      <td>0.0</td>\n",
       "      <td>NaN</td>\n",
       "      <td>NaN</td>\n",
       "      <td>CS</td>\n",
       "      <td>BB</td>\n",
       "      <td>NaN</td>\n",
       "      <td>1.0</td>\n",
       "      <td>POINT (-378761.206 -572048.397)</td>\n",
       "      <td>0.000245</td>\n",
       "      <td>POINT (-378761.206 -572048.397)</td>\n",
       "      <td>0.00065</td>\n",
       "      <td>0.000203</td>\n",
       "      <td>4533</td>\n",
       "      <td>CO3974110359220120625</td>\n",
       "      <td>LAST CHANCE</td>\n",
       "      <td>2012</td>\n",
       "      <td>6</td>\n",
       "      <td>25</td>\n",
       "      <td>Wildfire</td>\n",
       "      <td>17959.0</td>\n",
       "      <td>CO</td>\n",
       "      <td>POLYGON ((-412752.181 -576122.035, -412771.922...</td>\n",
       "      <td>POLYGON ((-309176.231 -563870.221, -309173.610...</td>\n",
       "    </tr>\n",
       "    <tr>\n",
       "      <th>0</th>\n",
       "      <td>97922632</td>\n",
       "      <td>8001</td>\n",
       "      <td>CO</td>\n",
       "      <td>ADAMS</td>\n",
       "      <td>H</td>\n",
       "      <td>1993-09-01</td>\n",
       "      <td>WRDE</td>\n",
       "      <td>NaN</td>\n",
       "      <td>NaN</td>\n",
       "      <td>91000.0</td>\n",
       "      <td>NaN</td>\n",
       "      <td>SR</td>\n",
       "      <td>60000.0</td>\n",
       "      <td>NaN</td>\n",
       "      <td>1815-27-2-14-010</td>\n",
       "      <td>765 4TH ST</td>\n",
       "      <td>BENNETT</td>\n",
       "      <td>CO</td>\n",
       "      <td>39.762606</td>\n",
       "      <td>-104.429201</td>\n",
       "      <td>21668273.0</td>\n",
       "      <td>D8F54216-820C-E811-80C3-3863BB430E3F</td>\n",
       "      <td>9583.0</td>\n",
       "      <td>AT</td>\n",
       "      <td>NaN</td>\n",
       "      <td>1979.0</td>\n",
       "      <td>NaN</td>\n",
       "      <td>NaN</td>\n",
       "      <td>6.0</td>\n",
       "      <td>3.0</td>\n",
       "      <td>NaN</td>\n",
       "      <td>3.0</td>\n",
       "      <td>NaN</td>\n",
       "      <td>0.0</td>\n",
       "      <td>NaN</td>\n",
       "      <td>NaN</td>\n",
       "      <td>CS</td>\n",
       "      <td>BB</td>\n",
       "      <td>NaN</td>\n",
       "      <td>1.0</td>\n",
       "      <td>POINT (-378761.206 -572048.397)</td>\n",
       "      <td>0.000245</td>\n",
       "      <td>POINT (-378761.206 -572048.397)</td>\n",
       "      <td>0.00065</td>\n",
       "      <td>0.000203</td>\n",
       "      <td>4567</td>\n",
       "      <td>CO4015910342120020601</td>\n",
       "      <td>UNNAMED</td>\n",
       "      <td>2002</td>\n",
       "      <td>6</td>\n",
       "      <td>1</td>\n",
       "      <td>Wildfire</td>\n",
       "      <td>8688.0</td>\n",
       "      <td>CO</td>\n",
       "      <td>POLYGON ((-300552.448 -637901.905, -302088.984...</td>\n",
       "      <td>MULTIPOLYGON (((-294387.843 -532386.594, -2943...</td>\n",
       "    </tr>\n",
       "    <tr>\n",
       "      <th>0</th>\n",
       "      <td>97922632</td>\n",
       "      <td>8001</td>\n",
       "      <td>CO</td>\n",
       "      <td>ADAMS</td>\n",
       "      <td>H</td>\n",
       "      <td>1993-09-01</td>\n",
       "      <td>WRDE</td>\n",
       "      <td>NaN</td>\n",
       "      <td>NaN</td>\n",
       "      <td>91000.0</td>\n",
       "      <td>NaN</td>\n",
       "      <td>SR</td>\n",
       "      <td>60000.0</td>\n",
       "      <td>NaN</td>\n",
       "      <td>1815-27-2-14-010</td>\n",
       "      <td>765 4TH ST</td>\n",
       "      <td>BENNETT</td>\n",
       "      <td>CO</td>\n",
       "      <td>39.762606</td>\n",
       "      <td>-104.429201</td>\n",
       "      <td>21668273.0</td>\n",
       "      <td>D8F54216-820C-E811-80C3-3863BB430E3F</td>\n",
       "      <td>9583.0</td>\n",
       "      <td>AT</td>\n",
       "      <td>NaN</td>\n",
       "      <td>1979.0</td>\n",
       "      <td>NaN</td>\n",
       "      <td>NaN</td>\n",
       "      <td>6.0</td>\n",
       "      <td>3.0</td>\n",
       "      <td>NaN</td>\n",
       "      <td>3.0</td>\n",
       "      <td>NaN</td>\n",
       "      <td>0.0</td>\n",
       "      <td>NaN</td>\n",
       "      <td>NaN</td>\n",
       "      <td>CS</td>\n",
       "      <td>BB</td>\n",
       "      <td>NaN</td>\n",
       "      <td>1.0</td>\n",
       "      <td>POINT (-378761.206 -572048.397)</td>\n",
       "      <td>0.000245</td>\n",
       "      <td>POINT (-378761.206 -572048.397)</td>\n",
       "      <td>0.00065</td>\n",
       "      <td>0.000203</td>\n",
       "      <td>4496</td>\n",
       "      <td>CO3888410493320120623</td>\n",
       "      <td>WALDO CANYON</td>\n",
       "      <td>2012</td>\n",
       "      <td>6</td>\n",
       "      <td>23</td>\n",
       "      <td>Wildfire</td>\n",
       "      <td>20112.0</td>\n",
       "      <td>CO</td>\n",
       "      <td>POLYGON ((-326819.795 -630612.853, -326146.782...</td>\n",
       "      <td>POLYGON ((-431574.642 -660217.246, -431549.021...</td>\n",
       "    </tr>\n",
       "    <tr>\n",
       "      <th>0</th>\n",
       "      <td>97922632</td>\n",
       "      <td>8001</td>\n",
       "      <td>CO</td>\n",
       "      <td>ADAMS</td>\n",
       "      <td>H</td>\n",
       "      <td>1993-09-01</td>\n",
       "      <td>WRDE</td>\n",
       "      <td>NaN</td>\n",
       "      <td>NaN</td>\n",
       "      <td>91000.0</td>\n",
       "      <td>NaN</td>\n",
       "      <td>SR</td>\n",
       "      <td>60000.0</td>\n",
       "      <td>NaN</td>\n",
       "      <td>1815-27-2-14-010</td>\n",
       "      <td>765 4TH ST</td>\n",
       "      <td>BENNETT</td>\n",
       "      <td>CO</td>\n",
       "      <td>39.762606</td>\n",
       "      <td>-104.429201</td>\n",
       "      <td>21668273.0</td>\n",
       "      <td>D8F54216-820C-E811-80C3-3863BB430E3F</td>\n",
       "      <td>9583.0</td>\n",
       "      <td>AT</td>\n",
       "      <td>NaN</td>\n",
       "      <td>1979.0</td>\n",
       "      <td>NaN</td>\n",
       "      <td>NaN</td>\n",
       "      <td>6.0</td>\n",
       "      <td>3.0</td>\n",
       "      <td>NaN</td>\n",
       "      <td>3.0</td>\n",
       "      <td>NaN</td>\n",
       "      <td>0.0</td>\n",
       "      <td>NaN</td>\n",
       "      <td>NaN</td>\n",
       "      <td>CS</td>\n",
       "      <td>BB</td>\n",
       "      <td>NaN</td>\n",
       "      <td>1.0</td>\n",
       "      <td>POINT (-378761.206 -572048.397)</td>\n",
       "      <td>0.000245</td>\n",
       "      <td>POINT (-378761.206 -572048.397)</td>\n",
       "      <td>0.00065</td>\n",
       "      <td>0.000203</td>\n",
       "      <td>4505</td>\n",
       "      <td>CO3901210474920130611</td>\n",
       "      <td>BLACK FOREST</td>\n",
       "      <td>2013</td>\n",
       "      <td>6</td>\n",
       "      <td>11</td>\n",
       "      <td>Wildfire</td>\n",
       "      <td>11886.0</td>\n",
       "      <td>CO</td>\n",
       "      <td>POLYGON ((-298750.000 -658279.199, -298742.975...</td>\n",
       "      <td>MULTIPOLYGON (((-399271.265 -648634.207, -3992...</td>\n",
       "    </tr>\n",
       "    <tr>\n",
       "      <th>0</th>\n",
       "      <td>97922632</td>\n",
       "      <td>8001</td>\n",
       "      <td>CO</td>\n",
       "      <td>ADAMS</td>\n",
       "      <td>H</td>\n",
       "      <td>1993-09-01</td>\n",
       "      <td>WRDE</td>\n",
       "      <td>NaN</td>\n",
       "      <td>NaN</td>\n",
       "      <td>91000.0</td>\n",
       "      <td>NaN</td>\n",
       "      <td>SR</td>\n",
       "      <td>60000.0</td>\n",
       "      <td>NaN</td>\n",
       "      <td>1815-27-2-14-010</td>\n",
       "      <td>765 4TH ST</td>\n",
       "      <td>BENNETT</td>\n",
       "      <td>CO</td>\n",
       "      <td>39.762606</td>\n",
       "      <td>-104.429201</td>\n",
       "      <td>21668273.0</td>\n",
       "      <td>D8F54216-820C-E811-80C3-3863BB430E3F</td>\n",
       "      <td>9583.0</td>\n",
       "      <td>AT</td>\n",
       "      <td>NaN</td>\n",
       "      <td>1979.0</td>\n",
       "      <td>NaN</td>\n",
       "      <td>NaN</td>\n",
       "      <td>6.0</td>\n",
       "      <td>3.0</td>\n",
       "      <td>NaN</td>\n",
       "      <td>3.0</td>\n",
       "      <td>NaN</td>\n",
       "      <td>0.0</td>\n",
       "      <td>NaN</td>\n",
       "      <td>NaN</td>\n",
       "      <td>CS</td>\n",
       "      <td>BB</td>\n",
       "      <td>NaN</td>\n",
       "      <td>1.0</td>\n",
       "      <td>POINT (-378761.206 -572048.397)</td>\n",
       "      <td>0.000245</td>\n",
       "      <td>POINT (-378761.206 -572048.397)</td>\n",
       "      <td>0.00065</td>\n",
       "      <td>0.000203</td>\n",
       "      <td>4509</td>\n",
       "      <td>CO3922010528720020608</td>\n",
       "      <td>HAYMAN</td>\n",
       "      <td>2002</td>\n",
       "      <td>6</td>\n",
       "      <td>8</td>\n",
       "      <td>Wildfire</td>\n",
       "      <td>129417.0</td>\n",
       "      <td>CO</td>\n",
       "      <td>POLYGON ((-550978.417 -700188.208, -551141.504...</td>\n",
       "      <td>MULTIPOLYGON (((-469137.201 -634277.188, -4690...</td>\n",
       "    </tr>\n",
       "  </tbody>\n",
       "</table>\n",
       "</div>"
      ],
      "text/plain": [
       "    TransId  FIPS State County DataClassStndCode RecordingDate  \\\n",
       "0  97922632  8001    CO  ADAMS                 H    1993-09-01   \n",
       "0  97922632  8001    CO  ADAMS                 H    1993-09-01   \n",
       "0  97922632  8001    CO  ADAMS                 H    1993-09-01   \n",
       "0  97922632  8001    CO  ADAMS                 H    1993-09-01   \n",
       "0  97922632  8001    CO  ADAMS                 H    1993-09-01   \n",
       "\n",
       "  DocumentTypeStndCode DocumentDate SignatureDate  SalesPriceAmount  \\\n",
       "0                 WRDE          NaN           NaN           91000.0   \n",
       "0                 WRDE          NaN           NaN           91000.0   \n",
       "0                 WRDE          NaN           NaN           91000.0   \n",
       "0                 WRDE          NaN           NaN           91000.0   \n",
       "0                 WRDE          NaN           NaN           91000.0   \n",
       "\n",
       "  IntraFamilyTransferFlag PropertyUseStndCode  LoanAmount LoanTypeStndCode  \\\n",
       "0                     NaN                  SR     60000.0              NaN   \n",
       "0                     NaN                  SR     60000.0              NaN   \n",
       "0                     NaN                  SR     60000.0              NaN   \n",
       "0                     NaN                  SR     60000.0              NaN   \n",
       "0                     NaN                  SR     60000.0              NaN   \n",
       "\n",
       "  AssessorParcelNumber PropertyFullStreetAddress PropertyCity PropertyState  \\\n",
       "0     1815-27-2-14-010                765 4TH ST      BENNETT            CO   \n",
       "0     1815-27-2-14-010                765 4TH ST      BENNETT            CO   \n",
       "0     1815-27-2-14-010                765 4TH ST      BENNETT            CO   \n",
       "0     1815-27-2-14-010                765 4TH ST      BENNETT            CO   \n",
       "0     1815-27-2-14-010                765 4TH ST      BENNETT            CO   \n",
       "\n",
       "   PropertyAddressLatitude  PropertyAddressLongitude  ImportParcelID  \\\n",
       "0                39.762606               -104.429201      21668273.0   \n",
       "0                39.762606               -104.429201      21668273.0   \n",
       "0                39.762606               -104.429201      21668273.0   \n",
       "0                39.762606               -104.429201      21668273.0   \n",
       "0                39.762606               -104.429201      21668273.0   \n",
       "\n",
       "                                  RowID  LotSizeSquareFeet GarageStndCode  \\\n",
       "0  D8F54216-820C-E811-80C3-3863BB430E3F             9583.0             AT   \n",
       "0  D8F54216-820C-E811-80C3-3863BB430E3F             9583.0             AT   \n",
       "0  D8F54216-820C-E811-80C3-3863BB430E3F             9583.0             AT   \n",
       "0  D8F54216-820C-E811-80C3-3863BB430E3F             9583.0             AT   \n",
       "0  D8F54216-820C-E811-80C3-3863BB430E3F             9583.0             AT   \n",
       "\n",
       "   GarageAreaSqFt  YearBuilt  YearRemodeled  NoOfStories  TotalRooms  \\\n",
       "0             NaN     1979.0            NaN          NaN         6.0   \n",
       "0             NaN     1979.0            NaN          NaN         6.0   \n",
       "0             NaN     1979.0            NaN          NaN         6.0   \n",
       "0             NaN     1979.0            NaN          NaN         6.0   \n",
       "0             NaN     1979.0            NaN          NaN         6.0   \n",
       "\n",
       "   TotalBedrooms  TotalKitchens  FullBath  ThreeQuarterBath  HalfBath  \\\n",
       "0            3.0            NaN       3.0               NaN       0.0   \n",
       "0            3.0            NaN       3.0               NaN       0.0   \n",
       "0            3.0            NaN       3.0               NaN       0.0   \n",
       "0            3.0            NaN       3.0               NaN       0.0   \n",
       "0            3.0            NaN       3.0               NaN       0.0   \n",
       "\n",
       "   QuarterBath  TotalActualBathCount RoofCoverStndCode  \\\n",
       "0          NaN                   NaN                CS   \n",
       "0          NaN                   NaN                CS   \n",
       "0          NaN                   NaN                CS   \n",
       "0          NaN                   NaN                CS   \n",
       "0          NaN                   NaN                CS   \n",
       "\n",
       "  HeatingTypeorSystemStndCode FireplaceFlag  FireplaceNumber  \\\n",
       "0                          BB           NaN              1.0   \n",
       "0                          BB           NaN              1.0   \n",
       "0                          BB           NaN              1.0   \n",
       "0                          BB           NaN              1.0   \n",
       "0                          BB           NaN              1.0   \n",
       "\n",
       "                          geometry        BP                   point_geometry  \\\n",
       "0  POINT (-378761.206 -572048.397)  0.000245  POINT (-378761.206 -572048.397)   \n",
       "0  POINT (-378761.206 -572048.397)  0.000245  POINT (-378761.206 -572048.397)   \n",
       "0  POINT (-378761.206 -572048.397)  0.000245  POINT (-378761.206 -572048.397)   \n",
       "0  POINT (-378761.206 -572048.397)  0.000245  POINT (-378761.206 -572048.397)   \n",
       "0  POINT (-378761.206 -572048.397)  0.000245  POINT (-378761.206 -572048.397)   \n",
       "\n",
       "   BP1600_max  BP1600_mean  index_right                Fire_ID     Fire_Name  \\\n",
       "0     0.00065     0.000203         4533  CO3974110359220120625   LAST CHANCE   \n",
       "0     0.00065     0.000203         4567  CO4015910342120020601       UNNAMED   \n",
       "0     0.00065     0.000203         4496  CO3888410493320120623  WALDO CANYON   \n",
       "0     0.00065     0.000203         4505  CO3901210474920130611  BLACK FOREST   \n",
       "0     0.00065     0.000203         4509  CO3922010528720020608        HAYMAN   \n",
       "\n",
       "   Year  StartMonth  StartDay Fire_Type     Acres STUSPS  \\\n",
       "0  2012           6        25  Wildfire   17959.0     CO   \n",
       "0  2002           6         1  Wildfire    8688.0     CO   \n",
       "0  2012           6        23  Wildfire   20112.0     CO   \n",
       "0  2013           6        11  Wildfire   11886.0     CO   \n",
       "0  2002           6         8  Wildfire  129417.0     CO   \n",
       "\n",
       "                                Buffed_geometry100km  \\\n",
       "0  POLYGON ((-412752.181 -576122.035, -412771.922...   \n",
       "0  POLYGON ((-300552.448 -637901.905, -302088.984...   \n",
       "0  POLYGON ((-326819.795 -630612.853, -326146.782...   \n",
       "0  POLYGON ((-298750.000 -658279.199, -298742.975...   \n",
       "0  POLYGON ((-550978.417 -700188.208, -551141.504...   \n",
       "\n",
       "                                       MTBS_geometry  \n",
       "0  POLYGON ((-309176.231 -563870.221, -309173.610...  \n",
       "0  MULTIPOLYGON (((-294387.843 -532386.594, -2943...  \n",
       "0  POLYGON ((-431574.642 -660217.246, -431549.021...  \n",
       "0  MULTIPOLYGON (((-399271.265 -648634.207, -3992...  \n",
       "0  MULTIPOLYGON (((-469137.201 -634277.188, -4690...  "
      ]
     },
     "execution_count": 1002,
     "metadata": {},
     "output_type": "execute_result"
    }
   ],
   "source": [
    "ST_Samp_with_Fires.head()"
   ]
  },
  {
   "cell_type": "code",
   "execution_count": 1004,
   "id": "bcad1a54-1caf-46e1-9dff-2480103ee18f",
   "metadata": {},
   "outputs": [],
   "source": [
    "def get_distance(row):\n",
    "    distance = row.geometry.distance(row.MTBS_geometry)\n",
    "    return distance"
   ]
  },
  {
   "cell_type": "code",
   "execution_count": 1005,
   "id": "5b274228-490e-47ec-add0-ed549d4b676b",
   "metadata": {},
   "outputs": [
    {
     "name": "stdout",
     "output_type": "stream",
     "text": [
      "CPU times: user 46min 16s, sys: 2min 21s, total: 48min 38s\n",
      "Wall time: 48min 41s\n"
     ]
    }
   ],
   "source": [
    "%%time\n",
    "ST_Samp_with_Fires['Distance'] = ST_Samp_with_Fires.apply(lambda row: get_distance(row),axis=1)"
   ]
  },
  {
   "cell_type": "code",
   "execution_count": 1008,
   "id": "d6acb0ae-71a3-46cb-8c63-0386cf457862",
   "metadata": {},
   "outputs": [
    {
     "data": {
      "text/plain": [
       "count    4.165432e+07\n",
       "mean     5.771893e+04\n",
       "std      2.474532e+04\n",
       "min      0.000000e+00\n",
       "25%      3.853344e+04\n",
       "50%      5.665875e+04\n",
       "75%      7.880748e+04\n",
       "max      9.999962e+04\n",
       "Name: Distance, dtype: float64"
      ]
     },
     "execution_count": 1008,
     "metadata": {},
     "output_type": "execute_result"
    }
   ],
   "source": [
    "ST_Samp_with_Fires['Distance'].describe()"
   ]
  },
  {
   "cell_type": "code",
   "execution_count": 1009,
   "id": "e3e01ecd-bbdc-4ad1-87a5-aeef72e26c16",
   "metadata": {},
   "outputs": [
    {
     "name": "stdout",
     "output_type": "stream",
     "text": [
      "<class 'geopandas.geodataframe.GeoDataFrame'>\n",
      "Int64Index: 41654318 entries, 0 to 1374189\n",
      "Data columns (total 57 columns):\n",
      " #   Column                       Dtype   \n",
      "---  ------                       -----   \n",
      " 0   TransId                      int64   \n",
      " 1   FIPS                         int64   \n",
      " 2   State                        object  \n",
      " 3   County                       object  \n",
      " 4   DataClassStndCode            object  \n",
      " 5   RecordingDate                object  \n",
      " 6   DocumentTypeStndCode         object  \n",
      " 7   DocumentDate                 object  \n",
      " 8   SignatureDate                object  \n",
      " 9   SalesPriceAmount             float64 \n",
      " 10  IntraFamilyTransferFlag      object  \n",
      " 11  PropertyUseStndCode          object  \n",
      " 12  LoanAmount                   float64 \n",
      " 13  LoanTypeStndCode             object  \n",
      " 14  AssessorParcelNumber         object  \n",
      " 15  PropertyFullStreetAddress    object  \n",
      " 16  PropertyCity                 object  \n",
      " 17  PropertyState                object  \n",
      " 18  PropertyAddressLatitude      float64 \n",
      " 19  PropertyAddressLongitude     float64 \n",
      " 20  ImportParcelID               float64 \n",
      " 21  RowID                        object  \n",
      " 22  LotSizeSquareFeet            float64 \n",
      " 23  GarageStndCode               object  \n",
      " 24  GarageAreaSqFt               float64 \n",
      " 25  YearBuilt                    float64 \n",
      " 26  YearRemodeled                float64 \n",
      " 27  NoOfStories                  float64 \n",
      " 28  TotalRooms                   float64 \n",
      " 29  TotalBedrooms                float64 \n",
      " 30  TotalKitchens                float64 \n",
      " 31  FullBath                     float64 \n",
      " 32  ThreeQuarterBath             float64 \n",
      " 33  HalfBath                     float64 \n",
      " 34  QuarterBath                  float64 \n",
      " 35  TotalActualBathCount         float64 \n",
      " 36  RoofCoverStndCode            object  \n",
      " 37  HeatingTypeorSystemStndCode  object  \n",
      " 38  FireplaceFlag                object  \n",
      " 39  FireplaceNumber              float64 \n",
      " 40  geometry                     geometry\n",
      " 41  BP                           float64 \n",
      " 42  point_geometry               geometry\n",
      " 43  BP1600_max                   float64 \n",
      " 44  BP1600_mean                  float64 \n",
      " 45  index_right                  int64   \n",
      " 46  Fire_ID                      object  \n",
      " 47  Fire_Name                    object  \n",
      " 48  Year                         int64   \n",
      " 49  StartMonth                   int64   \n",
      " 50  StartDay                     int64   \n",
      " 51  Fire_Type                    object  \n",
      " 52  Acres                        float64 \n",
      " 53  STUSPS                       object  \n",
      " 54  Buffed_geometry100km         geometry\n",
      " 55  MTBS_geometry                geometry\n",
      " 56  Distance                     float64 \n",
      "dtypes: float64(24), geometry(4), int64(6), object(23)\n",
      "memory usage: 18.0+ GB\n"
     ]
    }
   ],
   "source": [
    "ST_Samp_with_Fires.info()"
   ]
  },
  {
   "cell_type": "code",
   "execution_count": null,
   "id": "8f6ad25a-07e2-41cf-b7e7-b7dd27d4623b",
   "metadata": {},
   "outputs": [],
   "source": []
  }
 ],
 "metadata": {
  "kernelspec": {
   "display_name": "PythonGeo",
   "language": "python",
   "name": "geo_env"
  },
  "language_info": {
   "codemirror_mode": {
    "name": "ipython",
    "version": 3
   },
   "file_extension": ".py",
   "mimetype": "text/x-python",
   "name": "python",
   "nbconvert_exporter": "python",
   "pygments_lexer": "ipython3",
   "version": "3.8.2"
  }
 },
 "nbformat": 4,
 "nbformat_minor": 5
}
