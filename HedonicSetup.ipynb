{
 "cells": [
  {
   "cell_type": "code",
   "execution_count": 2,
   "id": "fd584ad2-c215-462a-853f-3f9e66d6175f",
   "metadata": {},
   "outputs": [],
   "source": [
    "## Attaches burn probabilities to the ZTRAX data\n",
    "## Uses lat and long provided \n",
    "import pandas as pd\n",
    "import numpy as np\n",
    "import geopandas as gpd\n",
    "import os\n",
    "import glob\n",
    "import matplotlib.pyplot as plt\n",
    "import rasterio as rio\n",
    "from rasterio.plot import show"
   ]
  },
  {
   "cell_type": "code",
   "execution_count": 3,
   "id": "f9d6167d-cf85-4a8f-9efd-3c5636d5f1b1",
   "metadata": {
    "tags": []
   },
   "outputs": [],
   "source": [
    "## Get US Map for context and select Western United States\n",
    "##Convert Coordinate Reference System to US Natinoal Atlas Equal Area\n",
    "USMAP = gpd.read_file('/data/yoder/DensityProject/cb_2018_us_state_500k.shp')\n",
    "USMAP = USMAP.to_crs(\"EPSG:2163\")\n",
    "West = ['WA', 'OR', 'CA', 'NV','AZ','NM', 'UT','CO','WY','ID','MT']\n",
    "\n",
    "## Get map(s) of individual states if desired\n",
    "WestStates = USMAP[USMAP['STUSPS'].isin(West)]"
   ]
  },
  {
   "cell_type": "code",
   "execution_count": 4,
   "id": "cc2040b3-0ec6-4d97-adc7-3d83fe984824",
   "metadata": {},
   "outputs": [],
   "source": [
    "scratchpath = '/scratch/user/joshua.olsen/20210428_153601/'\n",
    "os.chdir(scratchpath)\n",
    "## List all tables included in Zillow Variable names excel file\n",
    "ZTransLayout = pd.read_excel('Layout.xlsx','ZTrans')\n",
    "ZTransLayout['TableName'].unique()\n",
    "ZAsmtLayout = pd.read_excel('Layout.xlsx','ZAsmt')\n",
    "\n",
    "## Create dataframes from each table name in the Zillow table dictionary\n",
    "    ## Strip 'ut' from column names\n",
    "T = {}\n",
    "for name,group in ZTransLayout.groupby('TableName'):\n",
    "    T[str(name)[2:]] = group\n",
    "A = {}\n",
    "for name, group in ZAsmtLayout.groupby('TableName'):\n",
    "    A[str(name)[2:]] = group\n",
    "    \n",
    "    \n",
    "## Dictionary of Western 11 states using Zillows numbering: \n",
    "states = {'AZ':'04',\n",
    "          'CA':'06',\n",
    "          'CO':'08',\n",
    "          'ID':'16',\n",
    "          'MT':'30',\n",
    "          'NV':'32',\n",
    "          'NM':'35',\n",
    "          'OR':'41',\n",
    "          'UT':'49',\n",
    "          'WA':'53',\n",
    "          'WY':'56'}"
   ]
  },
  {
   "cell_type": "code",
   "execution_count": 5,
   "id": "8eb6972e-b795-474d-b7b6-305e0bfb02d7",
   "metadata": {},
   "outputs": [],
   "source": [
    "#Change this value to the state and table you care about\n",
    "# State to use\n",
    "state = states['WA']\n",
    "state_map = USMAP[USMAP['STUSPS']=='WA']\n",
    "#Transaction tables to use\n",
    "Ttables = ['Main', 'PropertyInfo']\n",
    "# Assessment tables to use\n",
    "Atables = ['Main','Garage', 'Building']"
   ]
  },
  {
   "cell_type": "code",
   "execution_count": 6,
   "id": "d7ab9bed-1c53-491d-bf4d-e668e62eb78b",
   "metadata": {},
   "outputs": [],
   "source": [
    "## Fields to use from transaction tables\n",
    "Tfields = {'Main': ['TransId','State','County','DocumentDate','SignatureDate',\n",
    "                    'RecordingDate','FIPS','DataClassStndCode',\n",
    "                    'DocumentTypeStndCode','IntraFamilyTransferFlag',\n",
    "                    'LoanTypeStndCode','PropertyUseStndCode',\n",
    "                    'SalesPriceAmount', 'LoanAmount'],\n",
    "            'PropertyInfo':['TransId','ImportParcelID','AssessorParcelNumber',\n",
    "                            'PropertyFullStreetAddress','PropertyCity',\n",
    "                            'PropertyState','PropertyAddressLatitude',\n",
    "                            'PropertyAddressLongitude']}\n",
    "# Fields to use from Assessment tables\n",
    "Afields = {'Main': ['RowID','ImportParcelID','LotSizeSquareFeet'],\n",
    "          'Garage':['RowID','GarageStndCode','GarageAreaSqFt'],\n",
    "          'Building':['RowID','ArchitecturalStyleStndCode','BuildingClassStndCode','BuildingQualityStndCode',\n",
    "                       'BuildingConditionStndCode','EffectiveYearBuilt','YearBuilt','YearRemodeled',\n",
    "                       'NoOfStories','TotalRooms','TotalBedrooms','TotalKitchens',\n",
    "                       'FullBath','ThreeQuarterBath','HalfBath','QuarterBath','TotalActualBathCount',\n",
    "                       'TotalBathPlumbingFixtures','RoofCoverStndCode', 'RoofStructureTypeStndCode',\n",
    "                       'HeatingTypeorSystemStndCode','AirConditioningTypeorSystemStndCode',\n",
    "                       'FoundationTypeStndCode','ElevatorStndCode','FireplaceFlag',\n",
    "                       'FireplaceNumber','WaterStndCode','SewerStndCode','TimeshareStndCode',                       ]} \n",
    "## Throws error if these are included 'FireplaceTypeStndCode','StoryTypeCode'"
   ]
  },
  {
   "cell_type": "code",
   "execution_count": 7,
   "id": "5c02bd56-6edd-451e-80a4-6b3fae8aa7dd",
   "metadata": {},
   "outputs": [
    {
     "name": "stderr",
     "output_type": "stream",
     "text": [
      "<decorator-gen-54>:2: DtypeWarning: Columns (18,30) have mixed types.Specify dtype option on import or set low_memory=False.\n",
      "<decorator-gen-54>:2: DtypeWarning: Columns (1) have mixed types.Specify dtype option on import or set low_memory=False.\n"
     ]
    },
    {
     "name": "stdout",
     "output_type": "stream",
     "text": [
      "CPU times: user 1min 1s, sys: 4.66 s, total: 1min 6s\n",
      "Wall time: 1min 20s\n"
     ]
    }
   ],
   "source": [
    "%%time\n",
    "## Load Ztrans data into dictionary of table entries that will be merged\n",
    "dfs = {}\n",
    "keys = Ttables\n",
    "for i in keys:\n",
    "    # Populate dictionary with desired tables for the given state\n",
    "    dfs[i] = pd.read_csv(f'{state}/ZTrans\\{i}.txt',sep = '|', header=None,names=T[i]['FieldName'].tolist(), encoding='latin1',usecols=Tfields[i]) "
   ]
  },
  {
   "cell_type": "code",
   "execution_count": 8,
   "id": "b778ed29-3029-4130-a2a0-bdaa71d62435",
   "metadata": {},
   "outputs": [
    {
     "name": "stderr",
     "output_type": "stream",
     "text": [
      "<decorator-gen-54>:2: DtypeWarning: Columns (9,10,12,13,29,30,31,32,33,34,35,38,39) have mixed types.Specify dtype option on import or set low_memory=False.\n"
     ]
    },
    {
     "name": "stdout",
     "output_type": "stream",
     "text": [
      "CPU times: user 22.2 s, sys: 2.06 s, total: 24.3 s\n",
      "Wall time: 29.5 s\n"
     ]
    }
   ],
   "source": [
    "%%time\n",
    "## Load Assessor data\n",
    "\n",
    "dfA = {}\n",
    "keys = Atables\n",
    "for j in keys:\n",
    "    dfA[j] = pd.read_csv(f'{state}/ZAsmt\\{j}.txt',sep='|', header=None,names=A[j]['FieldName'].tolist(),encoding='latin1',usecols=Afields[j])"
   ]
  },
  {
   "cell_type": "code",
   "execution_count": 9,
   "id": "d42f44fa-47b0-42cd-a776-0ef01ad81b28",
   "metadata": {},
   "outputs": [],
   "source": [
    "## Merge Trans tables and Asmt tables\n",
    "from functools import reduce\n",
    "Trans = reduce(lambda left,right: pd.merge(left,right,on='TransId',how='left'),dfs.values())\n",
    "Asmt = reduce(lambda left, right:pd.merge(left,right,on='RowID',how='left'),dfA.values())\n",
    "df = pd.merge(Trans,Asmt,on='ImportParcelID',how='left')"
   ]
  },
  {
   "cell_type": "code",
   "execution_count": 10,
   "id": "d786be39-88bf-4892-b7f3-d78b8e56e242",
   "metadata": {},
   "outputs": [],
   "source": [
    "## Select only valid transactions\n",
    "UnwantedLoanCodes =  ['AC','CT','CM','CS','CC','CL','DP','FO','FE','HE','LC','EB','EX','MD','NA','NP','FA','RE','RM','SM','SE','TR']\n",
    "WantedLoanCodes =  ['AS','BL','CE','FM','PM','RD','SL']\n",
    "DocumentTypeStndCodeDrop= ['CRDE','JTDE','QCDE','RRDE','VLDE']\n",
    "DocumentTypeStndCodeKeep= ['CPDE','IDDE','PRDE','WRDE']\n",
    "\n",
    "st = df.loc[(df['SalesPriceAmount'] > 0) &\n",
    "            (~df['LoanTypeStndCode'].isin(UnwantedLoanCodes)) &\n",
    "            (pd.isnull(df['IntraFamilyTransferFlag'])) &\n",
    "            (df['PropertyUseStndCode']=='SR') &\n",
    "            (df['DocumentTypeStndCode'].isin(DocumentTypeStndCodeKeep)) & \n",
    "            (df['TotalBedrooms'] >=1)].copy()"
   ]
  },
  {
   "cell_type": "code",
   "execution_count": 11,
   "id": "4c3d2439-2c33-4dfc-b51f-033ef27e30ad",
   "metadata": {},
   "outputs": [
    {
     "data": {
      "text/html": [
       "<div>\n",
       "<style scoped>\n",
       "    .dataframe tbody tr th:only-of-type {\n",
       "        vertical-align: middle;\n",
       "    }\n",
       "\n",
       "    .dataframe tbody tr th {\n",
       "        vertical-align: top;\n",
       "    }\n",
       "\n",
       "    .dataframe thead th {\n",
       "        text-align: right;\n",
       "    }\n",
       "</style>\n",
       "<table border=\"1\" class=\"dataframe\">\n",
       "  <thead>\n",
       "    <tr style=\"text-align: right;\">\n",
       "      <th></th>\n",
       "      <th>TransId</th>\n",
       "      <th>FIPS</th>\n",
       "      <th>State</th>\n",
       "      <th>County</th>\n",
       "      <th>DataClassStndCode</th>\n",
       "      <th>RecordingDate</th>\n",
       "      <th>DocumentTypeStndCode</th>\n",
       "      <th>DocumentDate</th>\n",
       "      <th>SignatureDate</th>\n",
       "      <th>SalesPriceAmount</th>\n",
       "      <th>...</th>\n",
       "      <th>RoofStructureTypeStndCode</th>\n",
       "      <th>HeatingTypeorSystemStndCode</th>\n",
       "      <th>AirConditioningTypeorSystemStndCode</th>\n",
       "      <th>FoundationTypeStndCode</th>\n",
       "      <th>ElevatorStndCode</th>\n",
       "      <th>FireplaceFlag</th>\n",
       "      <th>FireplaceNumber</th>\n",
       "      <th>WaterStndCode</th>\n",
       "      <th>SewerStndCode</th>\n",
       "      <th>TimeshareStndCode</th>\n",
       "    </tr>\n",
       "  </thead>\n",
       "  <tbody>\n",
       "    <tr>\n",
       "      <th>83</th>\n",
       "      <td>356047715</td>\n",
       "      <td>53011</td>\n",
       "      <td>WA</td>\n",
       "      <td>CLARK</td>\n",
       "      <td>H</td>\n",
       "      <td>1995-01-12</td>\n",
       "      <td>WRDE</td>\n",
       "      <td>1995-01-09</td>\n",
       "      <td>NaN</td>\n",
       "      <td>106170.0</td>\n",
       "      <td>...</td>\n",
       "      <td>NaN</td>\n",
       "      <td>FA</td>\n",
       "      <td>NO</td>\n",
       "      <td>NaN</td>\n",
       "      <td>NaN</td>\n",
       "      <td>NaN</td>\n",
       "      <td>1.0</td>\n",
       "      <td>NaN</td>\n",
       "      <td>NaN</td>\n",
       "      <td>NaN</td>\n",
       "    </tr>\n",
       "    <tr>\n",
       "      <th>84</th>\n",
       "      <td>356047715</td>\n",
       "      <td>53011</td>\n",
       "      <td>WA</td>\n",
       "      <td>CLARK</td>\n",
       "      <td>H</td>\n",
       "      <td>1995-01-12</td>\n",
       "      <td>WRDE</td>\n",
       "      <td>1995-01-09</td>\n",
       "      <td>NaN</td>\n",
       "      <td>106170.0</td>\n",
       "      <td>...</td>\n",
       "      <td>NaN</td>\n",
       "      <td>FA</td>\n",
       "      <td>NO</td>\n",
       "      <td>NaN</td>\n",
       "      <td>NaN</td>\n",
       "      <td>NaN</td>\n",
       "      <td>1.0</td>\n",
       "      <td>NaN</td>\n",
       "      <td>NaN</td>\n",
       "      <td>NaN</td>\n",
       "    </tr>\n",
       "    <tr>\n",
       "      <th>101</th>\n",
       "      <td>356047723</td>\n",
       "      <td>53011</td>\n",
       "      <td>WA</td>\n",
       "      <td>CLARK</td>\n",
       "      <td>H</td>\n",
       "      <td>1995-01-12</td>\n",
       "      <td>WRDE</td>\n",
       "      <td>1995-01-10</td>\n",
       "      <td>NaN</td>\n",
       "      <td>91500.0</td>\n",
       "      <td>...</td>\n",
       "      <td>NaN</td>\n",
       "      <td>BB</td>\n",
       "      <td>NO</td>\n",
       "      <td>NaN</td>\n",
       "      <td>NaN</td>\n",
       "      <td>NaN</td>\n",
       "      <td>NaN</td>\n",
       "      <td>NaN</td>\n",
       "      <td>NaN</td>\n",
       "      <td>NaN</td>\n",
       "    </tr>\n",
       "    <tr>\n",
       "      <th>102</th>\n",
       "      <td>356047723</td>\n",
       "      <td>53011</td>\n",
       "      <td>WA</td>\n",
       "      <td>CLARK</td>\n",
       "      <td>H</td>\n",
       "      <td>1995-01-12</td>\n",
       "      <td>WRDE</td>\n",
       "      <td>1995-01-10</td>\n",
       "      <td>NaN</td>\n",
       "      <td>91500.0</td>\n",
       "      <td>...</td>\n",
       "      <td>NaN</td>\n",
       "      <td>BB</td>\n",
       "      <td>NO</td>\n",
       "      <td>NaN</td>\n",
       "      <td>NaN</td>\n",
       "      <td>NaN</td>\n",
       "      <td>NaN</td>\n",
       "      <td>NaN</td>\n",
       "      <td>NaN</td>\n",
       "      <td>NaN</td>\n",
       "    </tr>\n",
       "    <tr>\n",
       "      <th>147</th>\n",
       "      <td>355790418</td>\n",
       "      <td>53005</td>\n",
       "      <td>WA</td>\n",
       "      <td>BENTON</td>\n",
       "      <td>H</td>\n",
       "      <td>2005-01-18</td>\n",
       "      <td>WRDE</td>\n",
       "      <td>2005-01-12</td>\n",
       "      <td>NaN</td>\n",
       "      <td>129900.0</td>\n",
       "      <td>...</td>\n",
       "      <td>GBL</td>\n",
       "      <td>CE</td>\n",
       "      <td>CE</td>\n",
       "      <td>CS</td>\n",
       "      <td>NaN</td>\n",
       "      <td>NaN</td>\n",
       "      <td>NaN</td>\n",
       "      <td>YY</td>\n",
       "      <td>YY</td>\n",
       "      <td>NaN</td>\n",
       "    </tr>\n",
       "    <tr>\n",
       "      <th>...</th>\n",
       "      <td>...</td>\n",
       "      <td>...</td>\n",
       "      <td>...</td>\n",
       "      <td>...</td>\n",
       "      <td>...</td>\n",
       "      <td>...</td>\n",
       "      <td>...</td>\n",
       "      <td>...</td>\n",
       "      <td>...</td>\n",
       "      <td>...</td>\n",
       "      <td>...</td>\n",
       "      <td>...</td>\n",
       "      <td>...</td>\n",
       "      <td>...</td>\n",
       "      <td>...</td>\n",
       "      <td>...</td>\n",
       "      <td>...</td>\n",
       "      <td>...</td>\n",
       "      <td>...</td>\n",
       "      <td>...</td>\n",
       "      <td>...</td>\n",
       "    </tr>\n",
       "    <tr>\n",
       "      <th>18042415</th>\n",
       "      <td>438193552</td>\n",
       "      <td>53033</td>\n",
       "      <td>WA</td>\n",
       "      <td>KING</td>\n",
       "      <td>H</td>\n",
       "      <td>2018-07-24</td>\n",
       "      <td>WRDE</td>\n",
       "      <td>2018-07-18</td>\n",
       "      <td>NaN</td>\n",
       "      <td>445000.0</td>\n",
       "      <td>...</td>\n",
       "      <td>NaN</td>\n",
       "      <td>FA</td>\n",
       "      <td>NaN</td>\n",
       "      <td>NaN</td>\n",
       "      <td>NaN</td>\n",
       "      <td>NaN</td>\n",
       "      <td>1.0</td>\n",
       "      <td>MU</td>\n",
       "      <td>YY</td>\n",
       "      <td>NaN</td>\n",
       "    </tr>\n",
       "    <tr>\n",
       "      <th>18042416</th>\n",
       "      <td>438193553</td>\n",
       "      <td>53033</td>\n",
       "      <td>WA</td>\n",
       "      <td>KING</td>\n",
       "      <td>H</td>\n",
       "      <td>2018-07-24</td>\n",
       "      <td>WRDE</td>\n",
       "      <td>2018-07-12</td>\n",
       "      <td>NaN</td>\n",
       "      <td>518000.0</td>\n",
       "      <td>...</td>\n",
       "      <td>NaN</td>\n",
       "      <td>EL</td>\n",
       "      <td>NaN</td>\n",
       "      <td>NaN</td>\n",
       "      <td>NaN</td>\n",
       "      <td>NaN</td>\n",
       "      <td>NaN</td>\n",
       "      <td>MU</td>\n",
       "      <td>PU</td>\n",
       "      <td>NaN</td>\n",
       "    </tr>\n",
       "    <tr>\n",
       "      <th>18042417</th>\n",
       "      <td>438193553</td>\n",
       "      <td>53033</td>\n",
       "      <td>WA</td>\n",
       "      <td>KING</td>\n",
       "      <td>H</td>\n",
       "      <td>2018-07-24</td>\n",
       "      <td>WRDE</td>\n",
       "      <td>2018-07-12</td>\n",
       "      <td>NaN</td>\n",
       "      <td>518000.0</td>\n",
       "      <td>...</td>\n",
       "      <td>NaN</td>\n",
       "      <td>EL</td>\n",
       "      <td>NaN</td>\n",
       "      <td>NaN</td>\n",
       "      <td>NaN</td>\n",
       "      <td>NaN</td>\n",
       "      <td>NaN</td>\n",
       "      <td>MU</td>\n",
       "      <td>PU</td>\n",
       "      <td>NaN</td>\n",
       "    </tr>\n",
       "    <tr>\n",
       "      <th>18042430</th>\n",
       "      <td>438193561</td>\n",
       "      <td>53033</td>\n",
       "      <td>WA</td>\n",
       "      <td>KING</td>\n",
       "      <td>H</td>\n",
       "      <td>2018-07-24</td>\n",
       "      <td>WRDE</td>\n",
       "      <td>2018-07-18</td>\n",
       "      <td>NaN</td>\n",
       "      <td>350000.0</td>\n",
       "      <td>...</td>\n",
       "      <td>NaN</td>\n",
       "      <td>FA</td>\n",
       "      <td>NaN</td>\n",
       "      <td>NaN</td>\n",
       "      <td>NaN</td>\n",
       "      <td>NaN</td>\n",
       "      <td>1.0</td>\n",
       "      <td>MU</td>\n",
       "      <td>PU</td>\n",
       "      <td>NaN</td>\n",
       "    </tr>\n",
       "    <tr>\n",
       "      <th>18042431</th>\n",
       "      <td>438193561</td>\n",
       "      <td>53033</td>\n",
       "      <td>WA</td>\n",
       "      <td>KING</td>\n",
       "      <td>H</td>\n",
       "      <td>2018-07-24</td>\n",
       "      <td>WRDE</td>\n",
       "      <td>2018-07-18</td>\n",
       "      <td>NaN</td>\n",
       "      <td>350000.0</td>\n",
       "      <td>...</td>\n",
       "      <td>NaN</td>\n",
       "      <td>FA</td>\n",
       "      <td>NaN</td>\n",
       "      <td>NaN</td>\n",
       "      <td>NaN</td>\n",
       "      <td>NaN</td>\n",
       "      <td>1.0</td>\n",
       "      <td>MU</td>\n",
       "      <td>PU</td>\n",
       "      <td>NaN</td>\n",
       "    </tr>\n",
       "  </tbody>\n",
       "</table>\n",
       "<p>1902355 rows × 53 columns</p>\n",
       "</div>"
      ],
      "text/plain": [
       "            TransId   FIPS State  County DataClassStndCode RecordingDate  \\\n",
       "83        356047715  53011    WA   CLARK                 H    1995-01-12   \n",
       "84        356047715  53011    WA   CLARK                 H    1995-01-12   \n",
       "101       356047723  53011    WA   CLARK                 H    1995-01-12   \n",
       "102       356047723  53011    WA   CLARK                 H    1995-01-12   \n",
       "147       355790418  53005    WA  BENTON                 H    2005-01-18   \n",
       "...             ...    ...   ...     ...               ...           ...   \n",
       "18042415  438193552  53033    WA    KING                 H    2018-07-24   \n",
       "18042416  438193553  53033    WA    KING                 H    2018-07-24   \n",
       "18042417  438193553  53033    WA    KING                 H    2018-07-24   \n",
       "18042430  438193561  53033    WA    KING                 H    2018-07-24   \n",
       "18042431  438193561  53033    WA    KING                 H    2018-07-24   \n",
       "\n",
       "         DocumentTypeStndCode DocumentDate SignatureDate  SalesPriceAmount  \\\n",
       "83                       WRDE   1995-01-09           NaN          106170.0   \n",
       "84                       WRDE   1995-01-09           NaN          106170.0   \n",
       "101                      WRDE   1995-01-10           NaN           91500.0   \n",
       "102                      WRDE   1995-01-10           NaN           91500.0   \n",
       "147                      WRDE   2005-01-12           NaN          129900.0   \n",
       "...                       ...          ...           ...               ...   \n",
       "18042415                 WRDE   2018-07-18           NaN          445000.0   \n",
       "18042416                 WRDE   2018-07-12           NaN          518000.0   \n",
       "18042417                 WRDE   2018-07-12           NaN          518000.0   \n",
       "18042430                 WRDE   2018-07-18           NaN          350000.0   \n",
       "18042431                 WRDE   2018-07-18           NaN          350000.0   \n",
       "\n",
       "          ... RoofStructureTypeStndCode HeatingTypeorSystemStndCode  \\\n",
       "83        ...                       NaN                          FA   \n",
       "84        ...                       NaN                          FA   \n",
       "101       ...                       NaN                          BB   \n",
       "102       ...                       NaN                          BB   \n",
       "147       ...                       GBL                          CE   \n",
       "...       ...                       ...                         ...   \n",
       "18042415  ...                       NaN                          FA   \n",
       "18042416  ...                       NaN                          EL   \n",
       "18042417  ...                       NaN                          EL   \n",
       "18042430  ...                       NaN                          FA   \n",
       "18042431  ...                       NaN                          FA   \n",
       "\n",
       "          AirConditioningTypeorSystemStndCode FoundationTypeStndCode  \\\n",
       "83                                         NO                    NaN   \n",
       "84                                         NO                    NaN   \n",
       "101                                        NO                    NaN   \n",
       "102                                        NO                    NaN   \n",
       "147                                        CE                     CS   \n",
       "...                                       ...                    ...   \n",
       "18042415                                  NaN                    NaN   \n",
       "18042416                                  NaN                    NaN   \n",
       "18042417                                  NaN                    NaN   \n",
       "18042430                                  NaN                    NaN   \n",
       "18042431                                  NaN                    NaN   \n",
       "\n",
       "         ElevatorStndCode FireplaceFlag FireplaceNumber WaterStndCode  \\\n",
       "83                    NaN           NaN             1.0           NaN   \n",
       "84                    NaN           NaN             1.0           NaN   \n",
       "101                   NaN           NaN             NaN           NaN   \n",
       "102                   NaN           NaN             NaN           NaN   \n",
       "147                   NaN           NaN             NaN            YY   \n",
       "...                   ...           ...             ...           ...   \n",
       "18042415              NaN           NaN             1.0            MU   \n",
       "18042416              NaN           NaN             NaN            MU   \n",
       "18042417              NaN           NaN             NaN            MU   \n",
       "18042430              NaN           NaN             1.0            MU   \n",
       "18042431              NaN           NaN             1.0            MU   \n",
       "\n",
       "          SewerStndCode  TimeshareStndCode  \n",
       "83                  NaN                NaN  \n",
       "84                  NaN                NaN  \n",
       "101                 NaN                NaN  \n",
       "102                 NaN                NaN  \n",
       "147                  YY                NaN  \n",
       "...                 ...                ...  \n",
       "18042415             YY                NaN  \n",
       "18042416             PU                NaN  \n",
       "18042417             PU                NaN  \n",
       "18042430             PU                NaN  \n",
       "18042431             PU                NaN  \n",
       "\n",
       "[1902355 rows x 53 columns]"
      ]
     },
     "execution_count": 11,
     "metadata": {},
     "output_type": "execute_result"
    }
   ],
   "source": [
    "st"
   ]
  },
  {
   "cell_type": "code",
   "execution_count": 12,
   "id": "80354d82-242f-4f08-8b2d-0212fd1615dc",
   "metadata": {},
   "outputs": [
    {
     "data": {
      "text/plain": [
       "<Projected CRS: EPSG:2163>\n",
       "Name: US National Atlas Equal Area\n",
       "Axis Info [cartesian]:\n",
       "- X[east]: Easting (metre)\n",
       "- Y[north]: Northing (metre)\n",
       "Area of Use:\n",
       "- name: USA\n",
       "- bounds: (167.65, 15.56, -65.69, 74.71)\n",
       "Coordinate Operation:\n",
       "- name: US National Atlas Equal Area\n",
       "- method: Lambert Azimuthal Equal Area (Spherical)\n",
       "Datum: Not specified (based on Clarke 1866 Authalic Sphere)\n",
       "- Ellipsoid: Clarke 1866 Authalic Sphere\n",
       "- Prime Meridian: Greenwich"
      ]
     },
     "execution_count": 12,
     "metadata": {},
     "output_type": "execute_result"
    }
   ],
   "source": [
    "## Make geodataframe\n",
    "\n",
    "st = gpd.GeoDataFrame(st, geometry = gpd.points_from_xy(st.PropertyAddressLongitude, st.PropertyAddressLatitude))\n",
    "st_proj = st.copy()\n",
    "st_proj.crs=\"epsg:4326\"\n",
    "st_proj=st_proj.to_crs(\"EPSG:2163\")\n",
    "st_proj.crs"
   ]
  },
  {
   "cell_type": "code",
   "execution_count": 13,
   "id": "c1036b84-5beb-4cd7-8e9a-41037b35cf21",
   "metadata": {},
   "outputs": [],
   "source": [
    "import rasterio\n",
    "from rasterstats import zonal_stats, point_query\n",
    "from rasterio.warp import calculate_default_transform, reproject, Resampling"
   ]
  },
  {
   "cell_type": "code",
   "execution_count": 14,
   "id": "8f63d310-9b0d-4520-980c-1db2bea6c2d6",
   "metadata": {},
   "outputs": [],
   "source": [
    "## Reproject raster and load it\n",
    "\n",
    "dst_crs =\"EPSG:2163\"\n",
    "\n",
    "with rasterio.open('/data/yoder/Spread_risk/Spread_risk_raster/BP_2016raster.tif') as src:\n",
    "    transform, width, height = calculate_default_transform(\n",
    "        src.crs, dst_crs, src.width, src.height, *src.bounds)\n",
    "    kwargs = src.meta.copy()\n",
    "    kwargs.update({\n",
    "        'crs': dst_crs,\n",
    "        'transform': transform,\n",
    "        'width': width,\n",
    "        'height': height\n",
    "    })\n",
    "    with rasterio.open('/data/yoder/Spread_risk/Spread_risk_raster/BP_2016raster_2163.tif', 'w', **kwargs) as dst:\n",
    "        for i in range(1, src.count + 1):\n",
    "                   reproject(\n",
    "                    source=rasterio.band(src, i),\n",
    "                    destination=rasterio.band(dst, i),\n",
    "                    src_transform=src.transform,\n",
    "                    src_crs=src.crs,\n",
    "                    dst_transform=transform,\n",
    "                    dst_crs=dst_crs,\n",
    "                    resampling=Resampling.nearest)\n",
    "                \n",
    "src = rasterio.open('/data/yoder/Spread_risk/Spread_risk_raster/BP_2016raster_2163.tif')"
   ]
  },
  {
   "cell_type": "code",
   "execution_count": 15,
   "id": "d68042b3-c5c5-4656-99a7-6b08c854e36c",
   "metadata": {},
   "outputs": [
    {
     "name": "stderr",
     "output_type": "stream",
     "text": [
      "/home/joshua.olsen/.conda/envs/testenv/lib/python3.8/site-packages/matplotlib/image.py:490: RuntimeWarning: overflow encountered in true_divide\n",
      "  A_scaled /= ((a_max - a_min) / frac)\n"
     ]
    },
    {
     "data": {
      "text/plain": [
       "<AxesSubplot:>"
      ]
     },
     "execution_count": 15,
     "metadata": {},
     "output_type": "execute_result"
    },
    {
     "data": {
      "image/png": "[encoded data removed]",
      "text/plain": [
       "<Figure size 432x288 with 1 Axes>"
      ]
     },
     "metadata": {
      "needs_background": "light"
     },
     "output_type": "display_data"
    }
   ],
   "source": [
    "fig, ax = plt.subplots()\n",
    "show(src,ax = ax)\n",
    "st_proj.plot(ax=ax, color ='red')"
   ]
  },
  {
   "cell_type": "code",
   "execution_count": 16,
   "id": "caeab615-5498-4e23-a348-c16af917c874",
   "metadata": {},
   "outputs": [],
   "source": [
    "pts = st_proj.copy()"
   ]
  },
  {
   "cell_type": "code",
   "execution_count": 17,
   "id": "3bb21ddd-7ba0-4c77-bb37-9f51e5a75de4",
   "metadata": {},
   "outputs": [
    {
     "data": {
      "text/plain": [
       "(1902355, 54)"
      ]
     },
     "execution_count": 17,
     "metadata": {},
     "output_type": "execute_result"
    }
   ],
   "source": [
    "st_proj.shape"
   ]
  },
  {
   "cell_type": "code",
   "execution_count": 18,
   "id": "6db0a0fa-4c36-47b5-8ce5-fdce300584ff",
   "metadata": {},
   "outputs": [],
   "source": [
    "## Select only valid geometry (note .isna() does not appear to catch point (nan,nan))\n",
    "st_pts = st_proj[st_proj['geometry'].is_valid]\n",
    "st_pts = gpd.clip(st_pts, state_map)"
   ]
  },
  {
   "cell_type": "code",
   "execution_count": 19,
   "id": "1b41a079-a0a5-4504-8410-86d6419df494",
   "metadata": {},
   "outputs": [
    {
     "data": {
      "text/plain": [
       "(1899781, 54)"
      ]
     },
     "execution_count": 19,
     "metadata": {},
     "output_type": "execute_result"
    }
   ],
   "source": [
    "st_pts.shape"
   ]
  },
  {
   "cell_type": "code",
   "execution_count": 20,
   "id": "b692aa92-953e-4538-bbff-1f3de5c72ad4",
   "metadata": {},
   "outputs": [
    {
     "data": {
      "text/plain": [
       "<AxesSubplot:>"
      ]
     },
     "execution_count": 20,
     "metadata": {},
     "output_type": "execute_result"
    },
    {
     "data": {
      "image/png": "[encoded data removed]",
      "text/plain": [
       "<Figure size 432x288 with 1 Axes>"
      ]
     },
     "metadata": {
      "needs_background": "light"
     },
     "output_type": "display_data"
    }
   ],
   "source": [
    "st_pts.plot()"
   ]
  },
  {
   "cell_type": "code",
   "execution_count": 21,
   "id": "7b1ddf4b-dcee-415a-b386-0c854ecb7182",
   "metadata": {},
   "outputs": [],
   "source": [
    "pts = st_pts.copy()"
   ]
  },
  {
   "cell_type": "code",
   "execution_count": 22,
   "id": "278f7a82-994b-40e3-aac9-1d802b643bf6",
   "metadata": {},
   "outputs": [
    {
     "name": "stdout",
     "output_type": "stream",
     "text": [
      "CPU times: user 1h 7min 3s, sys: 3min 52s, total: 1h 10min 56s\n",
      "Wall time: 1h 11min 2s\n"
     ]
    }
   ],
   "source": [
    "%%time\n",
    "## Add burn probability that the location is within (landfire uses 270 meter pixels)\n",
    "pts['BP'] = point_query(pts, '/data/yoder/Spread_risk/Spread_risk_raster/BP_2016raster_2163.tif')"
   ]
  },
  {
   "cell_type": "code",
   "execution_count": 23,
   "id": "f3a567af-e60c-4f32-b1c9-47cdcb319178",
   "metadata": {},
   "outputs": [
    {
     "name": "stderr",
     "output_type": "stream",
     "text": [
      "/home/joshua.olsen/.conda/envs/testenv/lib/python3.8/site-packages/numpy/core/_methods.py:47: RuntimeWarning: overflow encountered in reduce\n",
      "  return umr_sum(a, axis, dtype, out, keepdims, initial, where)\n"
     ]
    },
    {
     "name": "stdout",
     "output_type": "stream",
     "text": [
      "CPU times: user 2h 1min 5s, sys: 8min, total: 2h 9min 6s\n",
      "Wall time: 2h 9min 18s\n"
     ]
    }
   ],
   "source": [
    "%%time\n",
    "## Add burn probability out to 1600 meters\n",
    "pts['point_geometry'] = pts['geometry'].copy()\n",
    "pts['geometry'] = pts.buffer(1600)\n",
    "buff = pd.DataFrame(zonal_stats(pts, \n",
    "                             '/data/yoder/Spread_risk/Spread_risk_raster/BP_2016raster_2163.tif',\n",
    "                            stats=['max','mean']))\n",
    "buff.columns = [f'BP1600_'+str(col) for col in buff.columns]\n",
    "\n",
    "buff.reset_index(drop=True,inplace=True)\n",
    "pts.reset_index(drop=True,inplace=True)\n",
    "pts = pd.concat([pts,buff],axis=1)\n",
    "pts['geometry'] = pts['point_geometry'].copy()"
   ]
  },
  {
   "cell_type": "code",
   "execution_count": 24,
   "id": "e86fb034-47f0-44f7-b90f-508df37dbc6d",
   "metadata": {},
   "outputs": [],
   "source": [
    "BurnCols = ['BP','BP1600_max','BP1600_mean']"
   ]
  },
  {
   "cell_type": "code",
   "execution_count": 25,
   "id": "6a6a4516-258b-48c1-8da8-5e47cdb0fc3e",
   "metadata": {},
   "outputs": [
    {
     "data": {
      "text/plain": [
       "<AxesSubplot:>"
      ]
     },
     "execution_count": 25,
     "metadata": {},
     "output_type": "execute_result"
    },
    {
     "data": {
      "image/png": "[encoded data removed]",
      "text/plain": [
       "<Figure size 432x288 with 1 Axes>"
      ]
     },
     "metadata": {
      "needs_background": "light"
     },
     "output_type": "display_data"
    }
   ],
   "source": [
    "basemap = state_map.plot(edgecolor='black',color='white')\n",
    "pts.plot(ax= basemap)"
   ]
  },
  {
   "cell_type": "code",
   "execution_count": 26,
   "id": "9bcb70a1-ce83-48c2-b747-a08ab0c90d82",
   "metadata": {},
   "outputs": [],
   "source": [
    "ST_points = pts.copy()"
   ]
  },
  {
   "cell_type": "code",
   "execution_count": 27,
   "id": "c3592ef0-3bbb-43e0-a12b-ca2a1b6bcc1b",
   "metadata": {},
   "outputs": [],
   "source": [
    "## Add fire perimeter data\n",
    "import geopandas as gpd\n",
    "Fireperims = gpd.read_file('/data/yoder/DensityProject/mtbs_perimeter_data/mtbs_perims_DD.shp')\n",
    "Fireperims = Fireperims.to_crs(\"EPSG:2163\")"
   ]
  },
  {
   "cell_type": "code",
   "execution_count": 28,
   "id": "415ede78-809c-477d-95a1-1a4e435ec75a",
   "metadata": {},
   "outputs": [],
   "source": [
    "state_map = state_map[['STUSPS', 'geometry']]\n",
    "Buffed_state = state_map.copy()\n",
    "Buffed_state['geometry'] = Buffed_state.buffer(100000)\n",
    "ST_fires = gpd.sjoin(Fireperims, Buffed_state, op='within')\n",
    "ST_fires = ST_fires.drop(['index_right'], axis=1)\n",
    "ST_fires['Buffed_geometry100km'] = ST_fires.buffer(100000)\n",
    "ST_fires['MTBS_geometry'] = ST_fires['geometry'].copy()\n",
    "ST_fires['geometry'] = ST_fires['Buffed_geometry100km'].copy()"
   ]
  },
  {
   "cell_type": "code",
   "execution_count": 29,
   "id": "7839e25f-90a1-46f2-b3f0-1d4d16492067",
   "metadata": {},
   "outputs": [],
   "source": [
    "# ST_samp = pts.sample(n=10000)"
   ]
  },
  {
   "cell_type": "code",
   "execution_count": 30,
   "id": "70857567-0ec9-441c-a56e-ca714ce4f702",
   "metadata": {},
   "outputs": [
    {
     "data": {
      "text/plain": [
       "<AxesSubplot:>"
      ]
     },
     "execution_count": 30,
     "metadata": {},
     "output_type": "execute_result"
    },
    {
     "data": {
      "image/png": "[encoded data removed]",
      "text/plain": [
       "<Figure size 432x288 with 1 Axes>"
      ]
     },
     "metadata": {
      "needs_background": "light"
     },
     "output_type": "display_data"
    }
   ],
   "source": [
    "basemap = state_map.plot(edgecolor='black',color='white')\n",
    "ST_fires.plot(ax=basemap, color='red')\n",
    "ST_points.plot(ax= basemap, color='blue')"
   ]
  },
  {
   "cell_type": "code",
   "execution_count": null,
   "id": "ab8985ce-e97e-4c0b-bbd0-fad4bce990fd",
   "metadata": {},
   "outputs": [],
   "source": [
    "## Find way to join points and burn probs"
   ]
  },
  {
   "cell_type": "code",
   "execution_count": 31,
   "id": "4733842e-67fd-4b07-8e95-61ecc3bb5bc1",
   "metadata": {},
   "outputs": [
    {
     "ename": "KeyboardInterrupt",
     "evalue": "",
     "output_type": "error",
     "traceback": [
      "\u001b[0;31m---------------------------------------------------------------------------\u001b[0m",
      "\u001b[0;31mKeyboardInterrupt\u001b[0m                         Traceback (most recent call last)",
      "\u001b[0;32m<timed exec>\u001b[0m in \u001b[0;36m<module>\u001b[0;34m\u001b[0m\n",
      "\u001b[0;32m~/.conda/envs/testenv/lib/python3.8/site-packages/geopandas/tools/sjoin.py\u001b[0m in \u001b[0;36msjoin\u001b[0;34m(left_df, right_df, how, op, lsuffix, rsuffix)\u001b[0m\n\u001b[1;32m     90\u001b[0m \u001b[0;34m\u001b[0m\u001b[0m\n\u001b[1;32m     91\u001b[0m     \u001b[0;32mif\u001b[0m \u001b[0msindex\u001b[0m\u001b[0;34m:\u001b[0m\u001b[0;34m\u001b[0m\u001b[0;34m\u001b[0m\u001b[0m\n\u001b[0;32m---> 92\u001b[0;31m         \u001b[0ml_idx\u001b[0m\u001b[0;34m,\u001b[0m \u001b[0mr_idx\u001b[0m \u001b[0;34m=\u001b[0m \u001b[0msindex\u001b[0m\u001b[0;34m.\u001b[0m\u001b[0mquery_bulk\u001b[0m\u001b[0;34m(\u001b[0m\u001b[0minput_geoms\u001b[0m\u001b[0;34m,\u001b[0m \u001b[0mpredicate\u001b[0m\u001b[0;34m=\u001b[0m\u001b[0mpredicate\u001b[0m\u001b[0;34m,\u001b[0m \u001b[0msort\u001b[0m\u001b[0;34m=\u001b[0m\u001b[0;32mFalse\u001b[0m\u001b[0;34m)\u001b[0m\u001b[0;34m\u001b[0m\u001b[0;34m\u001b[0m\u001b[0m\n\u001b[0m\u001b[1;32m     93\u001b[0m         \u001b[0mresult\u001b[0m \u001b[0;34m=\u001b[0m \u001b[0mpd\u001b[0m\u001b[0;34m.\u001b[0m\u001b[0mDataFrame\u001b[0m\u001b[0;34m(\u001b[0m\u001b[0;34m{\u001b[0m\u001b[0;34m\"_key_left\"\u001b[0m\u001b[0;34m:\u001b[0m \u001b[0ml_idx\u001b[0m\u001b[0;34m,\u001b[0m \u001b[0;34m\"_key_right\"\u001b[0m\u001b[0;34m:\u001b[0m \u001b[0mr_idx\u001b[0m\u001b[0;34m}\u001b[0m\u001b[0;34m)\u001b[0m\u001b[0;34m\u001b[0m\u001b[0;34m\u001b[0m\u001b[0m\n\u001b[1;32m     94\u001b[0m     \u001b[0;32melse\u001b[0m\u001b[0;34m:\u001b[0m\u001b[0;34m\u001b[0m\u001b[0;34m\u001b[0m\u001b[0m\n",
      "\u001b[0;32m~/.conda/envs/testenv/lib/python3.8/site-packages/geopandas/sindex.py\u001b[0m in \u001b[0;36mquery_bulk\u001b[0;34m(self, geometry, predicate, sort)\u001b[0m\n\u001b[1;32m    240\u001b[0m \u001b[0;34m\u001b[0m\u001b[0m\n\u001b[1;32m    241\u001b[0m             \u001b[0;32mfor\u001b[0m \u001b[0mi\u001b[0m\u001b[0;34m,\u001b[0m \u001b[0mgeo\u001b[0m \u001b[0;32min\u001b[0m \u001b[0menumerate\u001b[0m\u001b[0;34m(\u001b[0m\u001b[0mgeometry\u001b[0m\u001b[0;34m)\u001b[0m\u001b[0;34m:\u001b[0m\u001b[0;34m\u001b[0m\u001b[0;34m\u001b[0m\u001b[0m\n\u001b[0;32m--> 242\u001b[0;31m                 \u001b[0mres\u001b[0m \u001b[0;34m=\u001b[0m \u001b[0mself\u001b[0m\u001b[0;34m.\u001b[0m\u001b[0mquery\u001b[0m\u001b[0;34m(\u001b[0m\u001b[0mgeo\u001b[0m\u001b[0;34m,\u001b[0m \u001b[0mpredicate\u001b[0m\u001b[0;34m=\u001b[0m\u001b[0mpredicate\u001b[0m\u001b[0;34m,\u001b[0m \u001b[0msort\u001b[0m\u001b[0;34m=\u001b[0m\u001b[0msort\u001b[0m\u001b[0;34m)\u001b[0m\u001b[0;34m\u001b[0m\u001b[0;34m\u001b[0m\u001b[0m\n\u001b[0m\u001b[1;32m    243\u001b[0m                 \u001b[0mtree_index\u001b[0m\u001b[0;34m.\u001b[0m\u001b[0mextend\u001b[0m\u001b[0;34m(\u001b[0m\u001b[0mres\u001b[0m\u001b[0;34m)\u001b[0m\u001b[0;34m\u001b[0m\u001b[0;34m\u001b[0m\u001b[0m\n\u001b[1;32m    244\u001b[0m                 \u001b[0minput_geometry_index\u001b[0m\u001b[0;34m.\u001b[0m\u001b[0mextend\u001b[0m\u001b[0;34m(\u001b[0m\u001b[0;34m[\u001b[0m\u001b[0mi\u001b[0m\u001b[0;34m]\u001b[0m \u001b[0;34m*\u001b[0m \u001b[0mlen\u001b[0m\u001b[0;34m(\u001b[0m\u001b[0mres\u001b[0m\u001b[0;34m)\u001b[0m\u001b[0;34m)\u001b[0m\u001b[0;34m\u001b[0m\u001b[0;34m\u001b[0m\u001b[0m\n",
      "\u001b[0;32m~/.conda/envs/testenv/lib/python3.8/site-packages/geopandas/sindex.py\u001b[0m in \u001b[0;36mquery\u001b[0;34m(self, geometry, predicate, sort)\u001b[0m\n\u001b[1;32m    191\u001b[0m                     \u001b[0;31m# prepare this input geometry\u001b[0m\u001b[0;34m\u001b[0m\u001b[0;34m\u001b[0m\u001b[0;34m\u001b[0m\u001b[0m\n\u001b[1;32m    192\u001b[0m                     \u001b[0mgeometry\u001b[0m \u001b[0;34m=\u001b[0m \u001b[0mprep\u001b[0m\u001b[0;34m(\u001b[0m\u001b[0mgeometry\u001b[0m\u001b[0;34m)\u001b[0m\u001b[0;34m\u001b[0m\u001b[0;34m\u001b[0m\u001b[0m\n\u001b[0;32m--> 193\u001b[0;31m                 tree_idx = [\n\u001b[0m\u001b[1;32m    194\u001b[0m                     \u001b[0mindex_in_tree\u001b[0m\u001b[0;34m\u001b[0m\u001b[0;34m\u001b[0m\u001b[0m\n\u001b[1;32m    195\u001b[0m                     \u001b[0;32mfor\u001b[0m \u001b[0mindex_in_tree\u001b[0m \u001b[0;32min\u001b[0m \u001b[0mtree_idx\u001b[0m\u001b[0;34m\u001b[0m\u001b[0;34m\u001b[0m\u001b[0m\n",
      "\u001b[0;32m~/.conda/envs/testenv/lib/python3.8/site-packages/geopandas/sindex.py\u001b[0m in \u001b[0;36m<listcomp>\u001b[0;34m(.0)\u001b[0m\n\u001b[1;32m    194\u001b[0m                     \u001b[0mindex_in_tree\u001b[0m\u001b[0;34m\u001b[0m\u001b[0;34m\u001b[0m\u001b[0m\n\u001b[1;32m    195\u001b[0m                     \u001b[0;32mfor\u001b[0m \u001b[0mindex_in_tree\u001b[0m \u001b[0;32min\u001b[0m \u001b[0mtree_idx\u001b[0m\u001b[0;34m\u001b[0m\u001b[0;34m\u001b[0m\u001b[0m\n\u001b[0;32m--> 196\u001b[0;31m                     \u001b[0;32mif\u001b[0m \u001b[0mgetattr\u001b[0m\u001b[0;34m(\u001b[0m\u001b[0mgeometry\u001b[0m\u001b[0;34m,\u001b[0m \u001b[0mpredicate\u001b[0m\u001b[0;34m)\u001b[0m\u001b[0;34m(\u001b[0m\u001b[0mself\u001b[0m\u001b[0;34m.\u001b[0m\u001b[0mgeometries\u001b[0m\u001b[0;34m[\u001b[0m\u001b[0mindex_in_tree\u001b[0m\u001b[0;34m]\u001b[0m\u001b[0;34m)\u001b[0m\u001b[0;34m\u001b[0m\u001b[0;34m\u001b[0m\u001b[0m\n\u001b[0m\u001b[1;32m    197\u001b[0m                 ]\n\u001b[1;32m    198\u001b[0m \u001b[0;34m\u001b[0m\u001b[0m\n",
      "\u001b[0;32m~/.conda/envs/testenv/lib/python3.8/site-packages/shapely/impl.py\u001b[0m in \u001b[0;36mwrapper\u001b[0;34m(*args, **kwargs)\u001b[0m\n\u001b[1;32m     35\u001b[0m     \u001b[0;32mdef\u001b[0m \u001b[0mwrapper\u001b[0m\u001b[0;34m(\u001b[0m\u001b[0;34m*\u001b[0m\u001b[0margs\u001b[0m\u001b[0;34m,\u001b[0m \u001b[0;34m**\u001b[0m\u001b[0mkwargs\u001b[0m\u001b[0;34m)\u001b[0m\u001b[0;34m:\u001b[0m\u001b[0;34m\u001b[0m\u001b[0;34m\u001b[0m\u001b[0m\n\u001b[1;32m     36\u001b[0m         \u001b[0;32mtry\u001b[0m\u001b[0;34m:\u001b[0m\u001b[0;34m\u001b[0m\u001b[0;34m\u001b[0m\u001b[0m\n\u001b[0;32m---> 37\u001b[0;31m             \u001b[0;32mreturn\u001b[0m \u001b[0mfunc\u001b[0m\u001b[0;34m(\u001b[0m\u001b[0;34m*\u001b[0m\u001b[0margs\u001b[0m\u001b[0;34m,\u001b[0m \u001b[0;34m**\u001b[0m\u001b[0mkwargs\u001b[0m\u001b[0;34m)\u001b[0m\u001b[0;34m\u001b[0m\u001b[0;34m\u001b[0m\u001b[0m\n\u001b[0m\u001b[1;32m     38\u001b[0m         \u001b[0;32mexcept\u001b[0m \u001b[0mKeyError\u001b[0m\u001b[0;34m:\u001b[0m\u001b[0;34m\u001b[0m\u001b[0;34m\u001b[0m\u001b[0m\n\u001b[1;32m     39\u001b[0m             raise ImplementationError(\n",
      "\u001b[0;32m~/.conda/envs/testenv/lib/python3.8/site-packages/shapely/prepared.py\u001b[0m in \u001b[0;36mintersects\u001b[0;34m(self, other)\u001b[0m\n\u001b[1;32m     74\u001b[0m     \u001b[0;32mdef\u001b[0m \u001b[0mintersects\u001b[0m\u001b[0;34m(\u001b[0m\u001b[0mself\u001b[0m\u001b[0;34m,\u001b[0m \u001b[0mother\u001b[0m\u001b[0;34m)\u001b[0m\u001b[0;34m:\u001b[0m\u001b[0;34m\u001b[0m\u001b[0;34m\u001b[0m\u001b[0m\n\u001b[1;32m     75\u001b[0m         \u001b[0;34m\"\"\"Returns True if geometries intersect, else False\"\"\"\u001b[0m\u001b[0;34m\u001b[0m\u001b[0;34m\u001b[0m\u001b[0m\n\u001b[0;32m---> 76\u001b[0;31m         \u001b[0;32mreturn\u001b[0m \u001b[0mbool\u001b[0m\u001b[0;34m(\u001b[0m\u001b[0mself\u001b[0m\u001b[0;34m.\u001b[0m\u001b[0mimpl\u001b[0m\u001b[0;34m[\u001b[0m\u001b[0;34m'prepared_intersects'\u001b[0m\u001b[0;34m]\u001b[0m\u001b[0;34m(\u001b[0m\u001b[0mself\u001b[0m\u001b[0;34m,\u001b[0m \u001b[0mother\u001b[0m\u001b[0;34m)\u001b[0m\u001b[0;34m)\u001b[0m\u001b[0;34m\u001b[0m\u001b[0;34m\u001b[0m\u001b[0m\n\u001b[0m\u001b[1;32m     77\u001b[0m \u001b[0;34m\u001b[0m\u001b[0m\n\u001b[1;32m     78\u001b[0m     \u001b[0;34m@\u001b[0m\u001b[0mdelegated\u001b[0m\u001b[0;34m\u001b[0m\u001b[0;34m\u001b[0m\u001b[0m\n",
      "\u001b[0;32m~/.conda/envs/testenv/lib/python3.8/site-packages/shapely/predicates.py\u001b[0m in \u001b[0;36m__call__\u001b[0;34m(self, this, other, *args)\u001b[0m\n\u001b[1;32m     13\u001b[0m         \u001b[0mself\u001b[0m\u001b[0;34m.\u001b[0m\u001b[0m_validate\u001b[0m\u001b[0;34m(\u001b[0m\u001b[0mother\u001b[0m\u001b[0;34m,\u001b[0m \u001b[0mstop_prepared\u001b[0m\u001b[0;34m=\u001b[0m\u001b[0;32mTrue\u001b[0m\u001b[0;34m)\u001b[0m\u001b[0;34m\u001b[0m\u001b[0;34m\u001b[0m\u001b[0m\n\u001b[1;32m     14\u001b[0m         \u001b[0;32mtry\u001b[0m\u001b[0;34m:\u001b[0m\u001b[0;34m\u001b[0m\u001b[0;34m\u001b[0m\u001b[0m\n\u001b[0;32m---> 15\u001b[0;31m             \u001b[0;32mreturn\u001b[0m \u001b[0mself\u001b[0m\u001b[0;34m.\u001b[0m\u001b[0mfn\u001b[0m\u001b[0;34m(\u001b[0m\u001b[0mthis\u001b[0m\u001b[0;34m.\u001b[0m\u001b[0m_geom\u001b[0m\u001b[0;34m,\u001b[0m \u001b[0mother\u001b[0m\u001b[0;34m.\u001b[0m\u001b[0m_geom\u001b[0m\u001b[0;34m,\u001b[0m \u001b[0;34m*\u001b[0m\u001b[0margs\u001b[0m\u001b[0;34m)\u001b[0m\u001b[0;34m\u001b[0m\u001b[0;34m\u001b[0m\u001b[0m\n\u001b[0m\u001b[1;32m     16\u001b[0m         \u001b[0;32mexcept\u001b[0m \u001b[0mPredicateError\u001b[0m \u001b[0;32mas\u001b[0m \u001b[0merr\u001b[0m\u001b[0;34m:\u001b[0m\u001b[0;34m\u001b[0m\u001b[0;34m\u001b[0m\u001b[0m\n\u001b[1;32m     17\u001b[0m             \u001b[0;31m# Dig deeper into causes of errors.\u001b[0m\u001b[0;34m\u001b[0m\u001b[0;34m\u001b[0m\u001b[0;34m\u001b[0m\u001b[0m\n",
      "\u001b[0;32m~/.conda/envs/testenv/lib/python3.8/site-packages/shapely/geometry/base.py\u001b[0m in \u001b[0;36m_geom\u001b[0;34m(self)\u001b[0m\n\u001b[1;32m    259\u001b[0m             \u001b[0mself\u001b[0m\u001b[0;34m.\u001b[0m\u001b[0m_ndim\u001b[0m \u001b[0;34m=\u001b[0m \u001b[0;36m2\u001b[0m\u001b[0;34m\u001b[0m\u001b[0;34m\u001b[0m\u001b[0m\n\u001b[1;32m    260\u001b[0m \u001b[0;34m\u001b[0m\u001b[0m\n\u001b[0;32m--> 261\u001b[0;31m     \u001b[0;34m@\u001b[0m\u001b[0mproperty\u001b[0m\u001b[0;34m\u001b[0m\u001b[0;34m\u001b[0m\u001b[0m\n\u001b[0m\u001b[1;32m    262\u001b[0m     \u001b[0;32mdef\u001b[0m \u001b[0m_geom\u001b[0m\u001b[0;34m(\u001b[0m\u001b[0mself\u001b[0m\u001b[0;34m)\u001b[0m\u001b[0;34m:\u001b[0m\u001b[0;34m\u001b[0m\u001b[0;34m\u001b[0m\u001b[0m\n\u001b[1;32m    263\u001b[0m         \u001b[0;32mreturn\u001b[0m \u001b[0mself\u001b[0m\u001b[0;34m.\u001b[0m\u001b[0m__geom__\u001b[0m\u001b[0;34m\u001b[0m\u001b[0;34m\u001b[0m\u001b[0m\n",
      "\u001b[0;31mKeyboardInterrupt\u001b[0m: "
     ]
    }
   ],
   "source": [
    "%%time\n",
    "ST_Samp_with_Fires = gpd.sjoin(ST_points, ST_fires, how='left')"
   ]
  },
  {
   "cell_type": "code",
   "execution_count": null,
   "id": "bcad1a54-1caf-46e1-9dff-2480103ee18f",
   "metadata": {},
   "outputs": [],
   "source": [
    "def get_distance(row):\n",
    "    distance = row.geometry.distance(row.MTBS_geometry)\n",
    "    return distance"
   ]
  },
  {
   "cell_type": "code",
   "execution_count": null,
   "id": "5b274228-490e-47ec-add0-ed549d4b676b",
   "metadata": {},
   "outputs": [],
   "source": [
    "%%time\n",
    "ST_Samp_with_Fires['Distance'] = ST_Samp_with_Fires.apply(lambda row: get_distance(row),axis=1)"
   ]
  },
  {
   "cell_type": "code",
   "execution_count": null,
   "id": "d6acb0ae-71a3-46cb-8c63-0386cf457862",
   "metadata": {},
   "outputs": [],
   "source": [
    "# ST_Samp_with_Fires['Distance'].describe()"
   ]
  },
  {
   "cell_type": "code",
   "execution_count": null,
   "id": "1c269d4a-e3b4-401e-a51d-a3c9231d2aa2",
   "metadata": {},
   "outputs": [],
   "source": [
    "# pricy = ST_Samp_with_Fires.loc[ST_Samp_with_Fires['SalesPriceAmount']>=10000000]"
   ]
  },
  {
   "cell_type": "code",
   "execution_count": null,
   "id": "e0cea56b-11be-47c3-a883-1dd733da5a9f",
   "metadata": {
    "tags": []
   },
   "outputs": [],
   "source": [
    "# pricy.drop_duplicates(subset=['TransId'])"
   ]
  },
  {
   "cell_type": "code",
   "execution_count": null,
   "id": "a4c50560-016b-4503-96bb-e64040adfa4c",
   "metadata": {},
   "outputs": [],
   "source": [
    "ST_Samp_with_Fires.describe()"
   ]
  },
  {
   "cell_type": "code",
   "execution_count": null,
   "id": "d8c728d4-9168-45f9-baff-5528e2e393c6",
   "metadata": {},
   "outputs": [],
   "source": []
  }
 ],
 "metadata": {
  "kernelspec": {
   "display_name": "PythonGeo",
   "language": "python",
   "name": "geo_env"
  },
  "language_info": {
   "codemirror_mode": {
    "name": "ipython",
    "version": 3
   },
   "file_extension": ".py",
   "mimetype": "text/x-python",
   "name": "python",
   "nbconvert_exporter": "python",
   "pygments_lexer": "ipython3",
   "version": "3.8.2"
  }
 },
 "nbformat": 4,
 "nbformat_minor": 5
}
