{
 "cells": [
  {
   "cell_type": "code",
   "execution_count": 1,
   "id": "26d79288-0f0b-4dc5-a128-b8ca85ab91ca",
   "metadata": {},
   "outputs": [],
   "source": [
    "## Attaches burn probabilities to the ZTRAX data\n",
    "## Uses lat and long provided \n",
    "import pandas as pd\n",
    "import numpy as np\n",
    "import geopandas as gpd\n",
    "import os\n",
    "import glob\n",
    "import matplotlib.pyplot as plt\n",
    "import rasterio as rio\n",
    "from rasterio.plot import show\n",
    "from functools import reduce"
   ]
  },
  {
   "cell_type": "code",
   "execution_count": 2,
   "id": "cb6c277b-dc78-4809-8e37-8de05d21b3ad",
   "metadata": {},
   "outputs": [],
   "source": [
    "pd.options.display.max_columns = None\n"
   ]
  },
  {
   "cell_type": "code",
   "execution_count": 3,
   "id": "1ccadcc9-964f-482a-99cf-7cb9a1e4f5e1",
   "metadata": {},
   "outputs": [],
   "source": [
    "## Get US Map for context and select Western United States\n",
    "##Convert Coordinate Reference System to US Natinoal Atlas Equal Area\n",
    "USMAP = gpd.read_file('/data/yoder/DensityProject/cb_2018_us_state_500k.shp')\n",
    "USMAP = USMAP.to_crs(\"EPSG:2163\")\n",
    "West = ['WA', 'OR', 'CA', 'NV','AZ','NM', 'UT','CO','WY','ID','MT']\n",
    "\n",
    "## Get map(s) of individual states if desired\n",
    "WestStates = USMAP[USMAP['STUSPS'].isin(West)]"
   ]
  },
  {
   "cell_type": "code",
   "execution_count": 4,
   "id": "775169ba-d0dd-4c64-9dfa-7db0ed0f8e72",
   "metadata": {},
   "outputs": [],
   "source": [
    "scratchpath = '/data/yoder/AllZillow/HedonicData/'\n",
    "os.chdir(scratchpath)\n",
    "## List all tables included in Zillow Variable names excel file\n",
    "ZTransLayout = pd.read_excel('Layout.xlsx','ZTrans')\n",
    "ZTransLayout['TableName'].unique()\n",
    "ZAsmtLayout = pd.read_excel('Layout.xlsx','ZAsmt')\n",
    "\n",
    "## Create dataframes from each table name in the Zillow table dictionary\n",
    "    ## Strip 'ut' from column names\n",
    "T = {}\n",
    "for name,group in ZTransLayout.groupby('TableName'):\n",
    "    T[str(name)[2:]] = group\n",
    "A = {}\n",
    "for name, group in ZAsmtLayout.groupby('TableName'):\n",
    "    A[str(name)[2:]] = group\n",
    "    \n",
    "    \n",
    "## Dictionary of Western 11 states using Zillows numbering: \n",
    "states = {'CO':'08'}\n",
    "# states = {'AZ':'04',\n",
    "#           'CA':'06',\n",
    "#           'CO':'08',\n",
    "#           'ID':'16',\n",
    "#           'MT':'30',\n",
    "#           'NV':'32',\n",
    "#           'NM':'35',\n",
    "#           'OR':'41',\n",
    "#           'UT':'49',\n",
    "#           'WA':'53',\n",
    "#           'WY':'56'}"
   ]
  },
  {
   "cell_type": "code",
   "execution_count": null,
   "id": "af536bed-9c29-4d53-95f8-7dfe69cff2ef",
   "metadata": {},
   "outputs": [],
   "source": []
  },
  {
   "cell_type": "code",
   "execution_count": 5,
   "id": "bea26d54-10b2-4ca2-8ddf-192955735d46",
   "metadata": {},
   "outputs": [],
   "source": [
    "#Change this value to the state and table you care about\n",
    "# State to use\n",
    "# state = states[West]\n",
    "state_map = USMAP[USMAP['STUSPS']=='CO']\n",
    "#Transaction tables to use\n",
    "Ttables = ['Main', 'PropertyInfo']\n",
    "# Assessment tables to use\n",
    "Atables = ['Main','Garage', 'Building', 'Value']\n",
    "\n",
    "\n",
    "## Fields to use from transaction tables\n",
    "Tfields = {'Main': ['TransId','State','County','DocumentDate',\n",
    "                    'RecordingDate','FIPS','DataClassStndCode',\n",
    "                    'DocumentTypeStndCode',\n",
    "                    'LoanTypeStndCode','PropertyUseStndCode',\n",
    "                    'SalesPriceAmount', 'LoanAmount'],\n",
    "            'PropertyInfo':['TransId','ImportParcelID','AssessorParcelNumber',\n",
    "                            'PropertyFullStreetAddress','PropertyCity',\n",
    "                            'PropertyState','PropertyAddressLatitude',\n",
    "                            'PropertyAddressLongitude']}\n",
    "## Fields not currently used\n",
    "## 'IntraFamilyTransferFlag', 'SignatureDate',\n",
    "# Fields to use from Assessment tables\n",
    "Afields = {'Main': ['RowID','ImportParcelID','LotSizeSquareFeet'],\n",
    "          'Garage':['RowID','GarageStndCode','GarageAreaSqFt'],\n",
    "          'Building':['RowID','ArchitecturalStyleStndCode','BuildingClassStndCode','BuildingQualityStndCode',\n",
    "                       'BuildingConditionStndCode','EffectiveYearBuilt','YearBuilt','YearRemodeled',\n",
    "                       'NoOfStories','TotalRooms','TotalBedrooms','TotalKitchens',\n",
    "                       'FullBath','ThreeQuarterBath','HalfBath','QuarterBath','TotalActualBathCount',\n",
    "                       'TotalBathPlumbingFixtures','RoofCoverStndCode', 'RoofStructureTypeStndCode',\n",
    "                       'HeatingTypeorSystemStndCode','AirConditioningTypeorSystemStndCode',\n",
    "                       'FoundationTypeStndCode','ElevatorStndCode','FireplaceFlag',\n",
    "                       'FireplaceNumber','WaterStndCode','SewerStndCode'],\n",
    "          'Value': ['RowID','LandAssessedValue','ImprovementAssessedValue','TotalAssessedValue',\n",
    "                    'AssessmentYear','LandMarketValue','ImprovementMarketValue','TotalMarketValue',\n",
    "                    'MarketValueYear','LandAppraisalValue','ImprovementAppraisalValue','TotalAppraisalValue',\n",
    "                    'AppraisalValueYear']} \n",
    "## Throws error if these are included 'FireplaceTypeStndCode','StoryTypeCode'\n",
    "## Not currenlty used ,'TimeshareStndCode'"
   ]
  },
  {
   "cell_type": "code",
   "execution_count": null,
   "id": "2f683fba-6bc8-43eb-98b3-c7d393d5fd8e",
   "metadata": {},
   "outputs": [
    {
     "name": "stdout",
     "output_type": "stream",
     "text": [
      "Started loading 08 table Main\n"
     ]
    },
    {
     "name": "stderr",
     "output_type": "stream",
     "text": [
      "<decorator-gen-54>:2: DtypeWarning: Columns (17) have mixed types.Specify dtype option on import or set low_memory=False.\n"
     ]
    },
    {
     "name": "stdout",
     "output_type": "stream",
     "text": [
      "Finished loading 08, table Main\n",
      "Started loading 08 table PropertyInfo\n"
     ]
    },
    {
     "name": "stderr",
     "output_type": "stream",
     "text": [
      "<decorator-gen-54>:2: DtypeWarning: Columns (1) have mixed types.Specify dtype option on import or set low_memory=False.\n"
     ]
    },
    {
     "name": "stdout",
     "output_type": "stream",
     "text": [
      "Finished loading 08, table PropertyInfo\n",
      "Started Loading Amt 08 table PropertyInfo\n",
      "Finished Loading Amt 08 table Main\n",
      "Started Loading Amt 08 table PropertyInfo\n",
      "Finished Loading Amt 08 table Garage\n",
      "Started Loading Amt 08 table PropertyInfo\n"
     ]
    },
    {
     "name": "stderr",
     "output_type": "stream",
     "text": [
      "<decorator-gen-54>:2: DtypeWarning: Columns (9,10,12,29,30,31,32,33,34,35,38,39) have mixed types.Specify dtype option on import or set low_memory=False.\n"
     ]
    },
    {
     "name": "stdout",
     "output_type": "stream",
     "text": [
      "Finished Loading Amt 08 table Building\n",
      "Started Loading Amt 08 table PropertyInfo\n",
      "Finished Loading Amt 08 table Value\n"
     ]
    }
   ],
   "source": [
    "%%time\n",
    "sts_trans = {}\n",
    "sts_vals = {}\n",
    "SetofStates = {}\n",
    "for state in states.values():\n",
    "    keys = Ttables\n",
    "    dfs = {}\n",
    "    for i in keys:\n",
    "        print(f'Started loading {state} table {i}')\n",
    "        dfs[i] = pd.read_csv(f'{state}/ZTrans\\{i}.txt',sep = '|', header=None,names=T[i]['FieldName'].tolist(), encoding='latin1',usecols=Tfields[i])\n",
    "        print(f'Finished loading {state}, table {i}')\n",
    "    sts_trans[state] = reduce(lambda left,right: pd.merge(left,right,on='TransId',how='left'),dfs.values())   \n",
    "    dfA = {}\n",
    "    keys = Atables\n",
    "    for j in keys:\n",
    "        print(f'Started Loading Amt {state} table {i}')\n",
    "        dfA[j] = pd.read_csv(f'{state}/ZAsmt\\{j}.txt',sep='|', header=None,names=A[j]['FieldName'].tolist(),encoding='latin1',usecols=Afields[j])\n",
    "        print(f'Finished Loading Amt {state} table {j}')\n",
    "    sts_vals[state] =  reduce(lambda left, right:pd.merge(left,right,on='RowID',how='left'),dfA.values())\n",
    "    SetofStates[state] = pd.merge(sts_trans[state],sts_vals[state],on='ImportParcelID',how='left')"
   ]
  },
  {
   "cell_type": "code",
   "execution_count": null,
   "id": "6be2dc6d-027b-437e-9a14-ea89d75e2982",
   "metadata": {},
   "outputs": [],
   "source": [
    "Atables"
   ]
  },
  {
   "cell_type": "code",
   "execution_count": null,
   "id": "151af945-8372-4eda-960d-517edde1daf0",
   "metadata": {},
   "outputs": [],
   "source": [
    "df = SetofStates['08']"
   ]
  },
  {
   "cell_type": "code",
   "execution_count": null,
   "id": "8c0c9fe8-dda1-4e85-a55f-923d11d2f8fd",
   "metadata": {},
   "outputs": [],
   "source": [
    "df"
   ]
  },
  {
   "cell_type": "code",
   "execution_count": null,
   "id": "43c677ec-c26f-4c37-ab7b-7a880afb1616",
   "metadata": {},
   "outputs": [],
   "source": [
    "%%time\n",
    "df = pd.concat(SetofStates.values(), ignore_index=True)"
   ]
  },
  {
   "cell_type": "code",
   "execution_count": null,
   "id": "ca469721-e386-4ec1-aad1-2d3dec54105d",
   "metadata": {},
   "outputs": [],
   "source": [
    "df"
   ]
  },
  {
   "cell_type": "code",
   "execution_count": null,
   "id": "8208ab4b-028c-4be0-ba07-adca0d395cc3",
   "metadata": {},
   "outputs": [],
   "source": [
    "## Select only valid transactions\n",
    "UnwantedLoanCodes =  ['AC','CT','CM','CS','CC','CL','DP','FO','FE','HE','LC','EB','EX','MD','NA','NP','FA','RE','RM','SM','SE','TR']\n",
    "WantedLoanCodes =  ['AS','BL','CE','FM','PM','RD','SL']\n",
    "DocumentTypeStndCodeDrop= ['CRDE','JTDE','QCDE','RRDE','VLDE']\n",
    "DocumentTypeStndCodeKeep= ['CPDE','IDDE','PRDE','WRDE']"
   ]
  },
  {
   "cell_type": "code",
   "execution_count": null,
   "id": "48561580-4e78-4b44-a1dd-5c5667740e81",
   "metadata": {},
   "outputs": [],
   "source": [
    "df.columns"
   ]
  },
  {
   "cell_type": "code",
   "execution_count": null,
   "id": "ed135e4d-8c3f-4fc3-8128-bbbec3a7e5e8",
   "metadata": {},
   "outputs": [],
   "source": [
    "## Select only valid transactions\n",
    "st = df.loc[(df['SalesPriceAmount'] > 0) &\n",
    "            (~df['LoanTypeStndCode'].isin(UnwantedLoanCodes)) &\n",
    "#             (pd.isnull(df['IntraFamilyTransferFlag'])) &\n",
    "            (df['PropertyUseStndCode']=='SR') &\n",
    "            (df['DocumentTypeStndCode'].isin(DocumentTypeStndCodeKeep)) & \n",
    "            (df['TotalBedrooms'] >=1)].copy()"
   ]
  },
  {
   "cell_type": "code",
   "execution_count": null,
   "id": "42756274-f218-43a9-b139-a84d078a4cb7",
   "metadata": {},
   "outputs": [],
   "source": [
    "st = gpd.GeoDataFrame(st, geometry = gpd.points_from_xy(st.PropertyAddressLongitude, st.PropertyAddressLatitude))\n",
    "st_proj = st.copy()\n",
    "st_proj.crs=\"epsg:4326\"\n",
    "st_proj=st_proj.to_crs(\"EPSG:2163\")\n",
    "st_proj.crs"
   ]
  },
  {
   "cell_type": "code",
   "execution_count": null,
   "id": "c4277ab2-5f1e-4a92-96b2-05a9c65cfa0c",
   "metadata": {},
   "outputs": [],
   "source": [
    "import rasterio\n",
    "from rasterstats import zonal_stats, point_query\n",
    "from rasterio.warp import calculate_default_transform, reproject, Resampling"
   ]
  },
  {
   "cell_type": "code",
   "execution_count": null,
   "id": "d6ad0fbe-5e09-4822-9aa2-999357c667a6",
   "metadata": {},
   "outputs": [],
   "source": [
    "## Reproject raster and load it\n",
    "\n",
    "dst_crs =\"EPSG:2163\"\n",
    "\n",
    "with rasterio.open('/data/yoder/Spread_risk/Spread_risk_raster/BP_2016raster.tif') as src:\n",
    "    transform, width, height = calculate_default_transform(\n",
    "        src.crs, dst_crs, src.width, src.height, *src.bounds)\n",
    "    kwargs = src.meta.copy()\n",
    "    kwargs.update({\n",
    "        'crs': dst_crs,\n",
    "        'transform': transform,\n",
    "        'width': width,\n",
    "        'height': height\n",
    "    })\n",
    "    with rasterio.open('/data/yoder/Spread_risk/Spread_risk_raster/BP_2016raster_2163.tif', 'w', **kwargs) as dst:\n",
    "        for i in range(1, src.count + 1):\n",
    "                   reproject(\n",
    "                    source=rasterio.band(src, i),\n",
    "                    destination=rasterio.band(dst, i),\n",
    "                    src_transform=src.transform,\n",
    "                    src_crs=src.crs,\n",
    "                    dst_transform=transform,\n",
    "                    dst_crs=dst_crs,\n",
    "                    resampling=Resampling.nearest)\n",
    "                \n",
    "src = rasterio.open('/data/yoder/Spread_risk/Spread_risk_raster/BP_2016raster_2163.tif')"
   ]
  },
  {
   "cell_type": "code",
   "execution_count": null,
   "id": "820c73f3-0fb3-4123-a848-3d23295f43e2",
   "metadata": {},
   "outputs": [],
   "source": [
    "## Plot points\n",
    "fig, ax = plt.subplots()\n",
    "show(src,ax = ax)\n",
    "st_proj.plot(ax=ax, color ='red')"
   ]
  },
  {
   "cell_type": "code",
   "execution_count": null,
   "id": "535ba242-4683-47ff-9872-03dc6e8dac63",
   "metadata": {},
   "outputs": [],
   "source": [
    "pts = st_proj.copy()"
   ]
  },
  {
   "cell_type": "code",
   "execution_count": null,
   "id": "b50757fa-3b90-430a-b837-2a7ef7915c91",
   "metadata": {},
   "outputs": [],
   "source": [
    "st_proj.shape"
   ]
  },
  {
   "cell_type": "code",
   "execution_count": null,
   "id": "0421150c-7176-4ebe-b050-12ba57334d81",
   "metadata": {},
   "outputs": [],
   "source": [
    "## Select only valid geometry (note .isna() does not appear to catch point (nan,nan))\n",
    "st_pts = st_proj[st_proj['geometry'].is_valid]\n",
    "st_pts = gpd.clip(st_pts, state_map)"
   ]
  },
  {
   "cell_type": "code",
   "execution_count": null,
   "id": "9c4e9a40-4c21-4943-a894-c398941cb9e6",
   "metadata": {},
   "outputs": [],
   "source": [
    "st_pts.shape"
   ]
  },
  {
   "cell_type": "code",
   "execution_count": null,
   "id": "23676c27-4b91-4791-aee4-bbe637aa1505",
   "metadata": {},
   "outputs": [],
   "source": [
    "st_pts.plot()"
   ]
  },
  {
   "cell_type": "code",
   "execution_count": null,
   "id": "123296ed-f572-44cf-a779-9b2760bbd298",
   "metadata": {},
   "outputs": [],
   "source": [
    "pts = st_pts.copy()"
   ]
  },
  {
   "cell_type": "code",
   "execution_count": null,
   "id": "8e21cb4b-ded0-433f-a7c4-a8c03ec4e61a",
   "metadata": {},
   "outputs": [],
   "source": [
    "%%time\n",
    "## Add burn probability that the location is within (landfire uses 270 meter pixels)\n",
    "pts['BP'] = point_query(pts, '/data/yoder/Spread_risk/Spread_risk_raster/BP_2016raster_2163.tif')"
   ]
  },
  {
   "cell_type": "code",
   "execution_count": null,
   "id": "38377b4d-84be-429f-9e89-d30dab8744c0",
   "metadata": {},
   "outputs": [],
   "source": [
    "%%time\n",
    "## Add burn probability out to 1600 meters\n",
    "pts['point_geometry'] = pts['geometry'].copy()\n",
    "pts['geometry'] = pts.buffer(1600)\n",
    "buff = pd.DataFrame(zonal_stats(pts, \n",
    "                             '/data/yoder/Spread_risk/Spread_risk_raster/BP_2016raster_2163.tif',\n",
    "                            stats=['max','mean']))\n",
    "buff.columns = [f'BP1600_'+str(col) for col in buff.columns]\n",
    "\n",
    "buff.reset_index(drop=True,inplace=True)\n",
    "pts.reset_index(drop=True,inplace=True)\n",
    "pts = pd.concat([pts,buff],axis=1)\n",
    "pts['geometry'] = pts['point_geometry'].copy()"
   ]
  },
  {
   "cell_type": "code",
   "execution_count": null,
   "id": "260dd9c5-a112-4076-9016-92b85ff047e7",
   "metadata": {},
   "outputs": [],
   "source": []
  },
  {
   "cell_type": "code",
   "execution_count": null,
   "id": "0f4bc4a9-feb1-4a73-b5e3-af855bad66a6",
   "metadata": {},
   "outputs": [],
   "source": [
    "BurnCols = ['BP','BP1600_max','BP1600_mean']"
   ]
  },
  {
   "cell_type": "code",
   "execution_count": null,
   "id": "a56bee31-4815-45cb-a4d5-a5aad473d944",
   "metadata": {},
   "outputs": [],
   "source": [
    "df = pts.copy()"
   ]
  },
  {
   "cell_type": "code",
   "execution_count": null,
   "id": "fdbf3f74-babd-4a4e-a1a4-0a8c26dc4b5b",
   "metadata": {},
   "outputs": [],
   "source": [
    "%%time\n",
    "ST_points = df.copy()\n",
    "## Add fire perimeter data\n",
    "import geopandas as gpd\n",
    "Fireperims = gpd.read_file('/data/yoder/DensityProject/mtbs_perimeter_data/mtbs_perims_DD.shp')\n",
    "Fireperims = Fireperims.to_crs(\"EPSG:2163\")\n",
    "\n",
    "state_map = state_map[['STUSPS', 'geometry']]\n",
    "Buffed_state = state_map.copy()\n",
    "Buffed_state['geometry'] = Buffed_state.buffer(20000)\n",
    "ST_fires = gpd.sjoin(Fireperims, Buffed_state, op='within')\n",
    "ST_fires = ST_fires.drop(['index_right'], axis=1)\n",
    "ST_fires['Buffed_geometry100km'] = ST_fires.buffer(20000)\n",
    "ST_fires['MTBS_geometry'] = ST_fires['geometry'].copy()\n",
    "ST_fires['geometry'] = ST_fires['Buffed_geometry100km'].copy()\n"
   ]
  },
  {
   "cell_type": "code",
   "execution_count": null,
   "id": "95691e60-dbc5-421b-84e2-3e75adc99760",
   "metadata": {},
   "outputs": [],
   "source": [
    "basemap = state_map.plot(edgecolor='black',color='white')\n",
    "ST_fires.plot(ax=basemap, color='red')\n",
    "ST_points.plot(ax= basemap, color='blue')"
   ]
  },
  {
   "cell_type": "code",
   "execution_count": null,
   "id": "d8e02823-4c2d-48b2-8794-bcab56a6ed2e",
   "metadata": {},
   "outputs": [],
   "source": [
    "%%time\n",
    "ST_Samp_with_Fires = gpd.sjoin(ST_points, ST_fires, how='left')"
   ]
  },
  {
   "cell_type": "code",
   "execution_count": null,
   "id": "8822fac9-29c0-4de2-bc44-1ff7b761fa45",
   "metadata": {},
   "outputs": [],
   "source": [
    "def get_distance(row):\n",
    "    distance = row.geometry.distance(row.MTBS_geometry)\n",
    "    return distance"
   ]
  },
  {
   "cell_type": "code",
   "execution_count": null,
   "id": "5fc41ecd-ca0b-4368-937f-9a1491a99b8c",
   "metadata": {},
   "outputs": [],
   "source": [
    "HomesAroundFires = ST_Samp_with_Fires[ST_Samp_with_Fires.MTBS_geometry.notnull()].copy()"
   ]
  },
  {
   "cell_type": "code",
   "execution_count": null,
   "id": "479ead3a-8250-420d-9aee-72d838427164",
   "metadata": {},
   "outputs": [],
   "source": [
    "HomesNotAroundFires = ST_Samp_with_Fires[ST_Samp_with_Fires.MTBS_geometry.isnull()].copy()"
   ]
  },
  {
   "cell_type": "code",
   "execution_count": null,
   "id": "91a9ad44-6f57-40ab-84a7-cb70ee31472b",
   "metadata": {},
   "outputs": [],
   "source": [
    "%%time\n",
    "HomesAroundFires['Distance'] = HomesAroundFires.apply(lambda row: get_distance(row),axis=1)"
   ]
  },
  {
   "cell_type": "code",
   "execution_count": null,
   "id": "daefe923-7621-43fd-97eb-84283c2a3c45",
   "metadata": {},
   "outputs": [],
   "source": [
    "import pickle\n",
    "pickle.dump(HomesAroundFires, open( \"COHomesAroundFires.p\", \"wb\" ) )"
   ]
  },
  {
   "cell_type": "code",
   "execution_count": null,
   "id": "f437b409-9030-43aa-988c-ac579ee3a668",
   "metadata": {},
   "outputs": [],
   "source": [
    "df.shape"
   ]
  },
  {
   "cell_type": "code",
   "execution_count": null,
   "id": "1fbb4e6d-59ea-4a3e-83f0-bc80fd31d940",
   "metadata": {},
   "outputs": [],
   "source": [
    "HAF = HomesAroundFires"
   ]
  },
  {
   "cell_type": "code",
   "execution_count": null,
   "id": "5eb4890b-b63b-4cc7-847f-962282ccee73",
   "metadata": {},
   "outputs": [],
   "source": [
    "HNAF = HomesNotAroundFires"
   ]
  },
  {
   "cell_type": "code",
   "execution_count": null,
   "id": "8c5ad56a-6a92-447c-9c7c-42a1bcf6dfb9",
   "metadata": {},
   "outputs": [],
   "source": [
    "HAF"
   ]
  },
  {
   "cell_type": "code",
   "execution_count": null,
   "id": "ba342428-ba4f-49c3-8b82-fb3fbc3e26ce",
   "metadata": {},
   "outputs": [],
   "source": [
    "df = HAF"
   ]
  },
  {
   "cell_type": "code",
   "execution_count": null,
   "id": "6fe85836-f7b4-44d4-92b6-e016fa5fbb28",
   "metadata": {},
   "outputs": [],
   "source": []
  },
  {
   "cell_type": "code",
   "execution_count": null,
   "id": "445ee191-428a-4b9e-ac12-40c891a41801",
   "metadata": {},
   "outputs": [],
   "source": [
    "df['RecordingDate'] =pd.to_datetime(df['RecordingDate'])\n",
    "df['Year'] = df.RecordingDate.dt.year"
   ]
  },
  {
   "cell_type": "code",
   "execution_count": null,
   "id": "d49a9f99-8fce-4f91-9762-ddd4087e8b80",
   "metadata": {},
   "outputs": [],
   "source": [
    "# HAF.groupby('BuildingQualityStndCode')['TransId'].count()"
   ]
  },
  {
   "cell_type": "code",
   "execution_count": null,
   "id": "24490380-11d5-4170-a08c-72d262eb1899",
   "metadata": {},
   "outputs": [],
   "source": [
    "df.groupby('RoofCoverStndCode')['TransId'].count()"
   ]
  },
  {
   "cell_type": "code",
   "execution_count": null,
   "id": "71e33319-0057-49b2-9b0b-0b5c31b479b8",
   "metadata": {},
   "outputs": [],
   "source": [
    "## Convert to 2020 dollars\n",
    "CPI = pd.read_csv(scratchpath+'/InfAdjust.csv')\n",
    "df = pd.merge(df,CPI,on='Year',how='left')\n",
    "df['SalesPrice'] = df['SalesPriceAmount']/df['Deflator_base2020']\n",
    "df['LoanAmt'] = df['LoanAmount']/df['Deflator_base2020']"
   ]
  },
  {
   "cell_type": "code",
   "execution_count": null,
   "id": "099a9b4f-73c7-41b7-8f7c-d5f64641d197",
   "metadata": {},
   "outputs": [],
   "source": [
    "## Select only valid transactions\n",
    "UnwantedLoanCodes =  ['AC','CT','CM','CS','CC','CL','DP','FO','FE','HE','LC','EB','EX','MD','NA','NP','FA','RE','RM','SM','SE','TR']\n",
    "WantedLoanCodes =  ['AS','BL','CE','FM','PM','RD','SL']\n",
    "DocumentTypeStndCodeDrop= ['CRDE','JTDE','QCDE','RRDE','VLDE']\n",
    "DocumentTypeStndCodeKeep= ['CPDE','IDDE','PRDE','WRDE']\n",
    "\n",
    "\n",
    "st = df.loc[(df['SalesPriceAmount'] > 0) &\n",
    "            (~df['LoanTypeStndCode'].isin(UnwantedLoanCodes)) &\n",
    "#             (pd.isnull(df['IntraFamilyTransferFlag'])) &\n",
    "            (df['PropertyUseStndCode']=='SR') &\n",
    "            (df['DocumentTypeStndCode'].isin(DocumentTypeStndCodeKeep)) & \n",
    "            (df['TotalBedrooms'] >=1)].copy()"
   ]
  },
  {
   "cell_type": "code",
   "execution_count": null,
   "id": "834c4dea-7de6-4828-a30e-d713f20c9616",
   "metadata": {},
   "outputs": [],
   "source": [
    "st = st.drop(['TimeshareStndCode',\n",
    "              'AssessorParcelNumber','PropertyAddressLatitude',\n",
    "                 'PropertyAddressLongitude','ImportParcelID'],axis=1)"
   ]
  },
  {
   "cell_type": "code",
   "execution_count": null,
   "id": "a9cb629c-4c23-4c68-8896-ddce7591ca81",
   "metadata": {},
   "outputs": [],
   "source": [
    "st =st.drop(['State'], axis=1)"
   ]
  },
  {
   "cell_type": "code",
   "execution_count": null,
   "id": "ebdfcc0f-5478-49a1-88dd-dae9e8c93e48",
   "metadata": {},
   "outputs": [],
   "source": [
    "rooftypes = pd.get_dummies(st['RoofCoverStndCode'],prefix='roof')"
   ]
  },
  {
   "cell_type": "code",
   "execution_count": null,
   "id": "44468d9a-44ef-4029-a9f3-8836e80bb71f",
   "metadata": {},
   "outputs": [],
   "source": [
    "df = pd.concat([st, rooftypes], axis=1)"
   ]
  },
  {
   "cell_type": "code",
   "execution_count": null,
   "id": "0984dc11-4a40-42a3-b46c-a0e4a4d5ce74",
   "metadata": {},
   "outputs": [],
   "source": [
    "roofs = rooftypes.columns"
   ]
  },
  {
   "cell_type": "code",
   "execution_count": null,
   "id": "ba6a3c46-5963-4b49-9678-18d160aced44",
   "metadata": {},
   "outputs": [],
   "source": [
    "samp = df.copy()"
   ]
  },
  {
   "cell_type": "code",
   "execution_count": null,
   "id": "7db8a4ca-c81b-49dc-86a4-19df68daf38e",
   "metadata": {},
   "outputs": [],
   "source": [
    "samp['Bathrooms'] = samp['FullBath'].replace(np.nan, 0) + samp['ThreeQuarterBath'].replace(np.nan, 0) + samp['HalfBath'].replace(np.nan, 0) +samp['QuarterBath'].replace(np.nan, 0)"
   ]
  },
  {
   "cell_type": "code",
   "execution_count": null,
   "id": "b88da209-de47-4cd9-b53e-292b2b9083ec",
   "metadata": {},
   "outputs": [],
   "source": [
    "import statsmodels.api as sm\n",
    "import statsmodels.formula.api as smf\n",
    "from statsmodels.iolib.summary2 import summary_col\n",
    "from sklearn.linear_model import LinearRegression\n",
    "from scipy.stats import ttest_ind\n"
   ]
  },
  {
   "cell_type": "code",
   "execution_count": null,
   "id": "309072ff-b984-4e97-a35d-500eadf63a87",
   "metadata": {},
   "outputs": [],
   "source": [
    "roofs"
   ]
  },
  {
   "cell_type": "code",
   "execution_count": null,
   "id": "71e32bc6-9bbc-45eb-b093-3022f13dc4f6",
   "metadata": {},
   "outputs": [],
   "source": [
    "roofs.values"
   ]
  },
  {
   "cell_type": "code",
   "execution_count": null,
   "id": "810d3294-c71e-48cc-b60f-9bb8c65718e2",
   "metadata": {},
   "outputs": [],
   "source": [
    "samp.groupby('RoofCoverStndCode')['TransId'].count()"
   ]
  },
  {
   "cell_type": "code",
   "execution_count": null,
   "id": "33db9a32-14a1-4593-9b11-a24af266be72",
   "metadata": {},
   "outputs": [],
   "source": [
    "BP_geq0 = samp.copy()"
   ]
  },
  {
   "cell_type": "code",
   "execution_count": null,
   "id": "f377db00-a537-4350-b9fb-fd5d076bb251",
   "metadata": {},
   "outputs": [],
   "source": [
    "BP_geq0.loc[BP_geq0['RoofCoverStndCode'] =='AP', 'AsphaltRoof'] = 1\n",
    "BP_geq0.loc[BP_geq0['RoofCoverStndCode'] !='AP', 'AsphaltRoof'] = 0\n",
    "BP_geq0.loc[BP_geq0['RoofCoverStndCode'] =='AS', 'Asbestos'] = 1\n",
    "BP_geq0.loc[BP_geq0['RoofCoverStndCode'] !='AS', 'Asbestos'] = 0\n",
    "BP_geq0.loc[BP_geq0['RoofCoverStndCode'] =='BR', 'Bermuda'] = 1\n",
    "BP_geq0.loc[BP_geq0['RoofCoverStndCode'] !='BR', 'Bermuda'] = 0\n",
    "BP_geq0.loc[BP_geq0['RoofCoverStndCode'] =='BU', 'BuiltUpRoof'] = 1\n",
    "BP_geq0.loc[BP_geq0['RoofCoverStndCode'] !='BU', 'BuiltUpRoof'] = 0\n",
    "BP_geq0.loc[BP_geq0['RoofCoverStndCode'] =='CN', 'ConcreteRoof'] = 1\n",
    "BP_geq0.loc[BP_geq0['RoofCoverStndCode'] !='CN', 'ConcreteRoof'] = 0\n",
    "BP_geq0.loc[BP_geq0['RoofCoverStndCode'] =='CS', 'CompositShingle'] = 1\n",
    "BP_geq0.loc[BP_geq0['RoofCoverStndCode'] !='CS', 'CompositShingle'] = 0\n",
    "BP_geq0.loc[BP_geq0['RoofCoverStndCode'] =='ME', 'MetalRoof'] = 1\n",
    "BP_geq0.loc[BP_geq0['RoofCoverStndCode'] !='ME', 'MetalRoof'] = 0\n",
    "BP_geq0.loc[BP_geq0['RoofCoverStndCode'] =='TL', 'TileRoof'] = 1\n",
    "BP_geq0.loc[BP_geq0['RoofCoverStndCode'] !='TL', 'TileRoof'] = 0\n",
    "BP_geq0.loc[BP_geq0['RoofCoverStndCode'] =='WS', 'Wood'] = 1\n",
    "BP_geq0.loc[BP_geq0['RoofCoverStndCode'] =='WG', 'Wood'] = 1\n",
    "BP_geq0.loc[BP_geq0['RoofCoverStndCode'] =='WD', 'Wood'] = 1\n",
    "BP_geq0.loc[BP_geq0['RoofCoverStndCode'] !='WS', 'Wood'] = 0"
   ]
  },
  {
   "cell_type": "code",
   "execution_count": null,
   "id": "b8f6f260-ce89-43a4-ac1c-98a78bef76c8",
   "metadata": {},
   "outputs": [],
   "source": [
    "samp = BP_geq0.copy()"
   ]
  },
  {
   "cell_type": "code",
   "execution_count": null,
   "id": "407c3dc1-0145-4226-b807-53b00d7feb3f",
   "metadata": {},
   "outputs": [],
   "source": [
    "samp = samp[samp['SalesPrice'] > 10000].copy()\n",
    "samp = samp[samp['SalesPrice'] < 5000000].copy()"
   ]
  },
  {
   "cell_type": "code",
   "execution_count": null,
   "id": "e1776458-fefd-42e2-b3e2-1d2f2bc1ff8f",
   "metadata": {},
   "outputs": [],
   "source": [
    "samp = samp.drop_duplicates(subset=['TransId'])"
   ]
  },
  {
   "cell_type": "code",
   "execution_count": null,
   "id": "b6cd189f-2d08-4fe5-8554-24952be4d512",
   "metadata": {},
   "outputs": [],
   "source": [
    "samp['BP'].describe()"
   ]
  },
  {
   "cell_type": "code",
   "execution_count": null,
   "id": "cd2ac551-a195-484e-a9a0-dcc2f4184910",
   "metadata": {},
   "outputs": [],
   "source": [
    "## .001 1 in 1,000\n",
    "## .0001 1 in 10,000"
   ]
  },
  {
   "cell_type": "code",
   "execution_count": null,
   "id": "a843698d-62c4-4ee0-8e8d-65d83f43cfe8",
   "metadata": {},
   "outputs": [],
   "source": [
    "pd.options.display.float_format = '{:.2f}'.format"
   ]
  },
  {
   "cell_type": "code",
   "execution_count": null,
   "id": "31837ee2-98c4-4210-a7c5-dbf2c6e926e5",
   "metadata": {},
   "outputs": [],
   "source": [
    "samp[samp['BP']>0].describe()"
   ]
  },
  {
   "cell_type": "code",
   "execution_count": null,
   "id": "99085adb-8ee5-4f34-8e7e-57dd364a2168",
   "metadata": {},
   "outputs": [],
   "source": [
    "samp = samp[samp['BP']>.0001]"
   ]
  },
  {
   "cell_type": "code",
   "execution_count": null,
   "id": "67ceb833-d49b-4b52-ab66-485a6c6ea889",
   "metadata": {},
   "outputs": [],
   "source": [
    "extras    +  BP*AsphaltRoo + BP*CompositShingle + BP*MetalRoof + BP*Wood "
   ]
  },
  {
   "cell_type": "code",
   "execution_count": null,
   "id": "84c1e477-127d-4824-9568-e02db7060958",
   "metadata": {},
   "outputs": [],
   "source": [
    "samp['BP1600_max'].describe()"
   ]
  },
  {
   "cell_type": "code",
   "execution_count": null,
   "id": "9bf65cfa-af2c-4cca-887c-4e1b266a67e3",
   "metadata": {},
   "outputs": [],
   "source": [
    "samp"
   ]
  },
  {
   "cell_type": "code",
   "execution_count": null,
   "id": "c2efcc55-a5ae-49bf-861a-d5764dbc76dd",
   "metadata": {},
   "outputs": [],
   "source": [
    "samp['BP'] = samp['BP']*10000"
   ]
  },
  {
   "cell_type": "code",
   "execution_count": null,
   "id": "10654903-4570-4306-837d-fdaba4b60721",
   "metadata": {},
   "outputs": [],
   "source": [
    "pd.options.display.float_format = '{:.2f}'.format"
   ]
  },
  {
   "cell_type": "code",
   "execution_count": null,
   "id": "4ca78a14-6f1c-40df-91d1-72160478b8af",
   "metadata": {},
   "outputs": [],
   "source": [
    "samp.describe()"
   ]
  },
  {
   "cell_type": "code",
   "execution_count": null,
   "id": "b6f06c66-e494-4742-9c44-940d9c9d1ddc",
   "metadata": {},
   "outputs": [],
   "source": [
    "samp['BP'].describe()"
   ]
  },
  {
   "cell_type": "code",
   "execution_count": null,
   "id": "af857cf8-f014-4350-9a8c-e66957c3e96a",
   "metadata": {},
   "outputs": [],
   "source": []
  },
  {
   "cell_type": "code",
   "execution_count": null,
   "id": "1cf3184a-6ac5-4edf-8edd-82d068955b8e",
   "metadata": {},
   "outputs": [],
   "source": [
    "samp[samp['BP']>40]['BP'].mean()"
   ]
  },
  {
   "cell_type": "code",
   "execution_count": null,
   "id": "331ffb8c-e10d-4b9a-810a-7b126f4b894b",
   "metadata": {},
   "outputs": [],
   "source": [
    "riskdummies = pd.cut(samp.BP, bins=[0, 10, 20, 30, 40, 10000], labels = ['verylow', \n",
    "       'low', 'moderate', 'high', 'veryhigh',])"
   ]
  },
  {
   "cell_type": "code",
   "execution_count": null,
   "id": "1c08174a-15c5-4e93-b7a0-13643051f0c4",
   "metadata": {},
   "outputs": [],
   "source": [
    "samp"
   ]
  },
  {
   "cell_type": "code",
   "execution_count": null,
   "id": "77b6b589-1e6f-4456-93a6-949434bfa71f",
   "metadata": {},
   "outputs": [],
   "source": [
    "riskdummies"
   ]
  },
  {
   "cell_type": "code",
   "execution_count": null,
   "id": "ee7851c0-85d3-4f66-aa00-ab74df833795",
   "metadata": {},
   "outputs": [],
   "source": [
    "samp['risklevel'] = riskdummies"
   ]
  },
  {
   "cell_type": "code",
   "execution_count": null,
   "id": "a66e98bd-4ab6-4ef2-92de-6c0f23d4db49",
   "metadata": {},
   "outputs": [],
   "source": [
    "samp[['BuildingQualityStndCode']].value_counts()"
   ]
  },
  {
   "cell_type": "code",
   "execution_count": null,
   "id": "e3987cb4-11e6-4781-bf07-965b9866d972",
   "metadata": {},
   "outputs": [],
   "source": [
    "samp"
   ]
  },
  {
   "cell_type": "code",
   "execution_count": null,
   "id": "28819c4e-ade8-497e-a994-7213d110e466",
   "metadata": {},
   "outputs": [],
   "source": [
    "samp['LotSizeSquareFeet'] = samp['LotSizeSquareFeet']/1000"
   ]
  },
  {
   "cell_type": "code",
   "execution_count": null,
   "id": "ca75e47d-4169-422b-a3e8-409d07bc07e2",
   "metadata": {},
   "outputs": [],
   "source": [
    "samp[['SalesPrice','Year','BuildingQualityStndCode','TotalBedrooms', 'LotSizeSquareFeet',\n",
    "     'Bathrooms','YearBuilt', 'BP','Wood']].describe()"
   ]
  },
  {
   "cell_type": "code",
   "execution_count": null,
   "id": "a789b78b-85c8-44a7-8356-8f367b362f9b",
   "metadata": {},
   "outputs": [],
   "source": [
    "Linear = smf.ols(formula = f'SalesPrice ~ C(Year) + BuildingQualityStndCode+ TotalBedrooms  + LotSizeSquareFeet + Bathrooms +  C(YearBuilt) + Wood*BP', data=samp).fit()"
   ]
  },
  {
   "cell_type": "code",
   "execution_count": null,
   "id": "413d8261-2811-495c-b506-7dafd4a5a95d",
   "metadata": {},
   "outputs": [],
   "source": [
    "Log = smf.ols(formula = f'np.log(SalesPrice) ~ C(Year) + BuildingQualityStndCode+ TotalBedrooms  + LotSizeSquareFeet + Bathrooms +  C(YearBuilt) + Wood*BP', data=samp).fit()"
   ]
  },
  {
   "cell_type": "code",
   "execution_count": null,
   "id": "b090b380-0ef1-4669-95e0-8a2610bb3f71",
   "metadata": {},
   "outputs": [],
   "source": [
    "LinearLevels = smf.ols(formula = f'SalesPrice ~ C(Year) + BuildingQualityStndCode+ TotalBedrooms  + LotSizeSquareFeet + Bathrooms +  C(YearBuilt) + Wood*C(risklevel)', data=samp).fit()"
   ]
  },
  {
   "cell_type": "code",
   "execution_count": null,
   "id": "dbf056bc-ad2c-47fc-99cd-d30ad72b5d71",
   "metadata": {},
   "outputs": [],
   "source": [
    "LogLevels = smf.ols(formula = f'np.log(SalesPrice) ~ C(Year) + BuildingQualityStndCode+ TotalBedrooms  + LotSizeSquareFeet + Bathrooms + C(YearBuilt) + Wood*C(risklevel)', data=samp).fit()"
   ]
  },
  {
   "cell_type": "markdown",
   "id": "58e941f1-7c65-4b2c-b038-b7072a9b5167",
   "metadata": {},
   "source": []
  },
  {
   "cell_type": "code",
   "execution_count": null,
   "id": "89046a17-26b5-48b7-a4b6-219cb6bd34f3",
   "metadata": {},
   "outputs": [],
   "source": [
    "samp['BP'].mean()"
   ]
  },
  {
   "cell_type": "code",
   "execution_count": null,
   "id": "25090c48-1349-4355-b35f-8d2b4d56418f",
   "metadata": {
    "tags": []
   },
   "outputs": [],
   "source": [
    "summary_col([Linear, LinearLevels, Log, LogLevels], stars=True,\n",
    "            regressor_order = ['Intercept','Year','BuildingQualityStndCode','TotalBedrooms', 'LotSizeSquareFeet',\n",
    "     'Bathrooms','YearBuilt', 'BP','Wood', 'Wood:BP', 'C(risklevel)[T.verylow]', \n",
    "       'C(risklevel)[T.low]','Wood:C(risklevel)[T.low]',\n",
    "                              'C(risklevel)[T.moderate]','Wood:C(risklevel)[T.moderate]',\n",
    "                               'C(risklevel)[T.high]','Wood:C(risklevel)[T.high]',\n",
    "                               'C(risklevel)[T.veryhigh]','Wood:C(risklevel)[T.veryhigh]' ])"
   ]
  },
  {
   "cell_type": "code",
   "execution_count": null,
   "id": "4f9f6e01-153b-470e-ba66-1eadc3482b30",
   "metadata": {},
   "outputs": [],
   "source": []
  },
  {
   "cell_type": "code",
   "execution_count": null,
   "id": "4aa9fc43-1835-4796-a198-af9fdf28e842",
   "metadata": {},
   "outputs": [],
   "source": [
    "Mod1.summary2()"
   ]
  },
  {
   "cell_type": "code",
   "execution_count": null,
   "id": "44b9ba76-1e7d-4ba2-bdab-325782ea20ae",
   "metadata": {},
   "outputs": [],
   "source": []
  },
  {
   "cell_type": "code",
   "execution_count": null,
   "id": "203fe4b1-1c28-4498-9b89-3da711bdba45",
   "metadata": {},
   "outputs": [],
   "source": []
  },
  {
   "cell_type": "code",
   "execution_count": 260,
   "id": "b1083a82-b0c4-4a7d-a6f5-e1f67eb604e6",
   "metadata": {},
   "outputs": [
    {
     "data": {
      "text/plain": [
       "risklevel\n",
       "verylow     70191\n",
       "low         24734\n",
       "moderate     7452\n",
       "high         4718\n",
       "veryhigh    22212\n",
       "Name: TransId, dtype: int64"
      ]
     },
     "execution_count": 260,
     "metadata": {},
     "output_type": "execute_result"
    }
   ],
   "source": [
    "samp.groupby('risklevel')['TransId'].count()"
   ]
  },
  {
   "cell_type": "code",
   "execution_count": 261,
   "id": "9cf7218b-5ad3-4c60-8aba-d04f6833fe25",
   "metadata": {},
   "outputs": [
    {
     "data": {
      "text/html": [
       "<table class=\"simpletable\">\n",
       "<tr>\n",
       "        <td>Model:</td>               <td>OLS</td>         <td>Adj. R-squared:</td>       <td>0.496</td>   \n",
       "</tr>\n",
       "<tr>\n",
       "  <td>Dependent Variable:</td>    <td>SalesPrice</td>           <td>AIC:</td>         <td>3198968.4218</td>\n",
       "</tr>\n",
       "<tr>\n",
       "         <td>Date:</td>        <td>2021-08-19 17:55</td>        <td>BIC:</td>         <td>3199461.9604</td>\n",
       "</tr>\n",
       "<tr>\n",
       "   <td>No. Observations:</td>       <td>117857</td>        <td>Log-Likelihood:</td>    <td>-1.5994e+06</td>\n",
       "</tr>\n",
       "<tr>\n",
       "       <td>Df Model:</td>             <td>50</td>           <td>F-statistic:</td>         <td>2325.</td>   \n",
       "</tr>\n",
       "<tr>\n",
       "     <td>Df Residuals:</td>         <td>117806</td>      <td>Prob (F-statistic):</td>     <td>0.00</td>    \n",
       "</tr>\n",
       "<tr>\n",
       "      <td>R-squared:</td>            <td>0.497</td>            <td>Scale:</td>         <td>3.5917e+10</td> \n",
       "</tr>\n",
       "</table>\n",
       "<table class=\"simpletable\">\n",
       "<tr>\n",
       "                <td></td>                    <th>Coef.</th>     <th>Std.Err.</th>      <th>t</th>      <th>P>|t|</th>    <th>[0.025</th>        <th>0.975]</th>   \n",
       "</tr>\n",
       "<tr>\n",
       "  <th>Intercept</th>                     <td>2040170.7469</td> <td>60063.9282</td>  <td>33.9667</td>  <td>0.0000</td> <td>1922446.4013</td>  <td>2157895.0926</td>\n",
       "</tr>\n",
       "<tr>\n",
       "  <th>C(Year)[T.1994]</th>                 <td>5715.3149</td>   <td>6824.0430</td>  <td>0.8375</td>   <td>0.4023</td>  <td>-7659.7011</td>    <td>19090.3309</td> \n",
       "</tr>\n",
       "<tr>\n",
       "  <th>C(Year)[T.1995]</th>                <td>13690.9622</td>   <td>6840.0489</td>  <td>2.0016</td>   <td>0.0453</td>   <td>284.5750</td>     <td>27097.3493</td> \n",
       "</tr>\n",
       "<tr>\n",
       "  <th>C(Year)[T.1996]</th>                 <td>8404.5537</td>   <td>6763.9638</td>  <td>1.2425</td>   <td>0.2140</td>  <td>-4852.7080</td>    <td>21661.8154</td> \n",
       "</tr>\n",
       "<tr>\n",
       "  <th>C(Year)[T.1997]</th>                <td>20898.9871</td>   <td>6601.9096</td>  <td>3.1656</td>   <td>0.0015</td>   <td>7959.3492</td>    <td>33838.6251</td> \n",
       "</tr>\n",
       "<tr>\n",
       "  <th>C(Year)[T.1998]</th>                <td>39055.7174</td>   <td>6548.0168</td>  <td>5.9645</td>   <td>0.0000</td>  <td>26221.7083</td>    <td>51889.7264</td> \n",
       "</tr>\n",
       "<tr>\n",
       "  <th>C(Year)[T.1999]</th>                <td>59727.2807</td>   <td>6541.0085</td>  <td>9.1312</td>   <td>0.0000</td>  <td>46907.0079</td>    <td>72547.5534</td> \n",
       "</tr>\n",
       "<tr>\n",
       "  <th>C(Year)[T.2000]</th>                <td>96150.5831</td>   <td>6562.4606</td>  <td>14.6516</td>  <td>0.0000</td>  <td>83288.2646</td>    <td>109012.9016</td>\n",
       "</tr>\n",
       "<tr>\n",
       "  <th>C(Year)[T.2001]</th>                <td>121780.5327</td>  <td>6532.6683</td>  <td>18.6418</td>  <td>0.0000</td>  <td>108976.6065</td>   <td>134584.4589</td>\n",
       "</tr>\n",
       "<tr>\n",
       "  <th>C(Year)[T.2002]</th>                <td>136420.1588</td>  <td>6567.6922</td>  <td>20.7714</td>  <td>0.0000</td>  <td>123547.5864</td>   <td>149292.7313</td>\n",
       "</tr>\n",
       "<tr>\n",
       "  <th>C(Year)[T.2003]</th>                <td>140510.4128</td>  <td>6567.5258</td>  <td>21.3947</td>  <td>0.0000</td>  <td>127638.1665</td>   <td>153382.6591</td>\n",
       "</tr>\n",
       "<tr>\n",
       "  <th>C(Year)[T.2004]</th>                <td>152139.8535</td>  <td>6619.4018</td>  <td>22.9839</td>  <td>0.0000</td>  <td>139165.9312</td>   <td>165113.7758</td>\n",
       "</tr>\n",
       "<tr>\n",
       "  <th>C(Year)[T.2005]</th>                <td>166995.8327</td>  <td>6632.6127</td>  <td>25.1780</td>  <td>0.0000</td>  <td>153996.0172</td>   <td>179995.6482</td>\n",
       "</tr>\n",
       "<tr>\n",
       "  <th>C(Year)[T.2006]</th>                <td>180450.8444</td>  <td>6724.7770</td>  <td>26.8337</td>  <td>0.0000</td>  <td>167270.3882</td>   <td>193631.3006</td>\n",
       "</tr>\n",
       "<tr>\n",
       "  <th>C(Year)[T.2007]</th>                <td>182749.8564</td>  <td>6820.4082</td>  <td>26.7946</td>  <td>0.0000</td>  <td>169381.9646</td>   <td>196117.7482</td>\n",
       "</tr>\n",
       "<tr>\n",
       "  <th>C(Year)[T.2008]</th>                <td>162147.9491</td>  <td>7237.5275</td>  <td>22.4038</td>  <td>0.0000</td>  <td>147962.5100</td>   <td>176333.3881</td>\n",
       "</tr>\n",
       "<tr>\n",
       "  <th>C(Year)[T.2009]</th>                <td>123417.8045</td>  <td>7581.9860</td>  <td>16.2778</td>  <td>0.0000</td>  <td>108557.2323</td>   <td>138278.3767</td>\n",
       "</tr>\n",
       "<tr>\n",
       "  <th>C(Year)[T.2010]</th>                <td>124965.9036</td>  <td>7600.7838</td>  <td>16.4412</td>  <td>0.0000</td>  <td>110068.4879</td>   <td>139863.3192</td>\n",
       "</tr>\n",
       "<tr>\n",
       "  <th>C(Year)[T.2011]</th>                <td>96559.7661</td>   <td>7507.4791</td>  <td>12.8618</td>  <td>0.0000</td>  <td>81845.2263</td>    <td>111274.3059</td>\n",
       "</tr>\n",
       "<tr>\n",
       "  <th>C(Year)[T.2012]</th>                <td>103413.5746</td>  <td>7278.1313</td>  <td>14.2088</td>  <td>0.0000</td>  <td>89148.5529</td>    <td>117678.5963</td>\n",
       "</tr>\n",
       "<tr>\n",
       "  <th>C(Year)[T.2013]</th>                <td>113818.7047</td>  <td>6999.7297</td>  <td>16.2604</td>  <td>0.0000</td>  <td>100099.3456</td>   <td>127538.0638</td>\n",
       "</tr>\n",
       "<tr>\n",
       "  <th>C(Year)[T.2014]</th>                <td>115731.3009</td>  <td>6915.2489</td>  <td>16.7357</td>  <td>0.0000</td>  <td>102177.5228</td>   <td>129285.0790</td>\n",
       "</tr>\n",
       "<tr>\n",
       "  <th>C(Year)[T.2015]</th>                <td>150813.1075</td>  <td>6854.5013</td>  <td>22.0021</td>  <td>0.0000</td>  <td>137378.3939</td>   <td>164247.8212</td>\n",
       "</tr>\n",
       "<tr>\n",
       "  <th>C(Year)[T.2016]</th>                <td>166141.3016</td>  <td>6851.3717</td>  <td>24.2493</td>  <td>0.0000</td>  <td>152712.7220</td>   <td>179569.8813</td>\n",
       "</tr>\n",
       "<tr>\n",
       "  <th>C(Year)[T.2017]</th>                <td>189507.7151</td>  <td>6799.8003</td>  <td>27.8696</td>  <td>0.0000</td>  <td>176180.2145</td>   <td>202835.2158</td>\n",
       "</tr>\n",
       "<tr>\n",
       "  <th>C(Year)[T.2018]</th>                <td>201223.0801</td>  <td>6926.5032</td>  <td>29.0512</td>  <td>0.0000</td>  <td>187647.2437</td>   <td>214798.9165</td>\n",
       "</tr>\n",
       "<tr>\n",
       "  <th>BuildingQualityStndCode[T.A+]</th>  <td>391463.8275</td> <td>18799.1284</td>  <td>20.8235</td>  <td>0.0000</td>  <td>354617.8344</td>   <td>428309.8207</td>\n",
       "</tr>\n",
       "<tr>\n",
       "  <th>BuildingQualityStndCode[T.A-]</th> <td>-293060.3952</td>  <td>8501.6106</td> <td>-34.4712</td>  <td>0.0000</td> <td>-309723.4170</td>  <td>-276397.3735</td>\n",
       "</tr>\n",
       "<tr>\n",
       "  <th>BuildingQualityStndCode[T.B]</th>  <td>-724003.5809</td>  <td>7236.6331</td> <td>-100.0470</td> <td>0.0000</td> <td>-738187.2670</td>  <td>-709819.8949</td>\n",
       "</tr>\n",
       "<tr>\n",
       "  <th>BuildingQualityStndCode[T.B+]</th> <td>-421437.6038</td>  <td>7566.0311</td> <td>-55.7013</td>  <td>0.0000</td> <td>-436266.9046</td>  <td>-406608.3030</td>\n",
       "</tr>\n",
       "<tr>\n",
       "  <th>BuildingQualityStndCode[T.B-]</th> <td>-687585.1979</td>  <td>7853.6639</td> <td>-87.5496</td>  <td>0.0000</td> <td>-702978.2545</td>  <td>-672192.1413</td>\n",
       "</tr>\n",
       "<tr>\n",
       "  <th>BuildingQualityStndCode[T.C]</th>  <td>-871630.9442</td>  <td>7200.5945</td> <td>-121.0499</td> <td>0.0000</td> <td>-885743.9951</td>  <td>-857517.8933</td>\n",
       "</tr>\n",
       "<tr>\n",
       "  <th>BuildingQualityStndCode[T.C+]</th> <td>-729423.8828</td>  <td>8047.1159</td> <td>-90.6441</td>  <td>0.0000</td> <td>-745196.1021</td>  <td>-713651.6634</td>\n",
       "</tr>\n",
       "<tr>\n",
       "  <th>BuildingQualityStndCode[T.C-]</th> <td>-879579.4324</td>  <td>7486.0344</td> <td>-117.4960</td> <td>0.0000</td> <td>-894251.9410</td>  <td>-864906.9238</td>\n",
       "</tr>\n",
       "<tr>\n",
       "  <th>BuildingQualityStndCode[T.D]</th>  <td>-965060.1709</td>  <td>8880.2534</td> <td>-108.6748</td> <td>0.0000</td> <td>-982465.3266</td>  <td>-947655.0151</td>\n",
       "</tr>\n",
       "<tr>\n",
       "  <th>BuildingQualityStndCode[T.D+]</th> <td>-943076.2843</td>  <td>8655.8075</td> <td>-108.9530</td> <td>0.0000</td> <td>-960041.5294</td>  <td>-926111.0391</td>\n",
       "</tr>\n",
       "<tr>\n",
       "  <th>BuildingQualityStndCode[T.D-]</th> <td>-879730.6144</td> <td>35352.0025</td> <td>-24.8849</td>  <td>0.0000</td> <td>-949019.9780</td>  <td>-810441.2507</td>\n",
       "</tr>\n",
       "<tr>\n",
       "  <th>BuildingQualityStndCode[T.E]</th>  <td>-989258.4970</td> <td>12867.2811</td> <td>-76.8817</td>  <td>0.0000</td> <td>-1014478.1636</td> <td>-964038.8303</td>\n",
       "</tr>\n",
       "<tr>\n",
       "  <th>C(risklevel)[T.low]</th>            <td>28277.7488</td>   <td>1549.4068</td>  <td>18.2507</td>  <td>0.0000</td>  <td>25240.9360</td>    <td>31314.5616</td> \n",
       "</tr>\n",
       "<tr>\n",
       "  <th>C(risklevel)[T.moderate]</th>       <td>52908.7261</td>   <td>2617.4902</td>  <td>20.2135</td>  <td>0.0000</td>  <td>47778.4869</td>    <td>58038.9653</td> \n",
       "</tr>\n",
       "<tr>\n",
       "  <th>C(risklevel)[T.high]</th>           <td>56655.4092</td>   <td>3107.7909</td>  <td>18.2301</td>  <td>0.0000</td>  <td>50564.1884</td>    <td>62746.6299</td> \n",
       "</tr>\n",
       "<tr>\n",
       "  <th>C(risklevel)[T.veryhigh]</th>       <td>77080.4747</td>   <td>1593.5401</td>  <td>48.3706</td>  <td>0.0000</td>  <td>73957.1614</td>    <td>80203.7879</td> \n",
       "</tr>\n",
       "<tr>\n",
       "  <th>TotalBedrooms</th>                  <td>30141.8135</td>   <td>623.1221</td>   <td>48.3722</td>  <td>0.0000</td>  <td>28920.5040</td>    <td>31363.1229</td> \n",
       "</tr>\n",
       "<tr>\n",
       "  <th>LotSizeSquareFeet</th>                <td>0.9961</td>      <td>0.1719</td>    <td>5.7941</td>   <td>0.0000</td>    <td>0.6591</td>        <td>1.3330</td>   \n",
       "</tr>\n",
       "<tr>\n",
       "  <th>Bathrooms</th>                      <td>38565.4742</td>   <td>402.0283</td>   <td>95.9273</td>  <td>0.0000</td>  <td>37777.5051</td>    <td>39353.4433</td> \n",
       "</tr>\n",
       "<tr>\n",
       "  <th>YearBuilt</th>                       <td>-579.4351</td>    <td>29.9843</td>  <td>-19.3246</td>  <td>0.0000</td>   <td>-638.2038</td>     <td>-520.6663</td> \n",
       "</tr>\n",
       "<tr>\n",
       "  <th>Wood</th>                           <td>43113.6014</td>   <td>2947.9576</td>  <td>14.6249</td>  <td>0.0000</td>  <td>37335.6514</td>    <td>48891.5514</td> \n",
       "</tr>\n",
       "<tr>\n",
       "  <th>Wood:C(risklevel)[T.low]</th>       <td>11073.5882</td>   <td>6579.3629</td>  <td>1.6831</td>   <td>0.0924</td>  <td>-1821.8587</td>    <td>23969.0351</td> \n",
       "</tr>\n",
       "<tr>\n",
       "  <th>Wood:C(risklevel)[T.moderate]</th>  <td>20649.7538</td>  <td>11544.5653</td>  <td>1.7887</td>   <td>0.0737</td>  <td>-1977.4109</td>    <td>43276.9185</td> \n",
       "</tr>\n",
       "<tr>\n",
       "  <th>Wood:C(risklevel)[T.high]</th>       <td>8011.8253</td>  <td>13913.2938</td>  <td>0.5758</td>   <td>0.5647</td>  <td>-19258.0097</td>   <td>35281.6603</td> \n",
       "</tr>\n",
       "<tr>\n",
       "  <th>Wood:C(risklevel)[T.veryhigh]</th>  <td>-16738.9681</td>  <td>6038.1387</td>  <td>-2.7722</td>  <td>0.0056</td>  <td>-28573.6241</td>   <td>-4904.3120</td> \n",
       "</tr>\n",
       "</table>\n",
       "<table class=\"simpletable\">\n",
       "<tr>\n",
       "     <td>Omnibus:</td>    <td>93770.410</td>  <td>Durbin-Watson:</td>      <td>1.849</td>   \n",
       "</tr>\n",
       "<tr>\n",
       "  <td>Prob(Omnibus):</td>   <td>0.000</td>   <td>Jarque-Bera (JB):</td> <td>8421423.682</td>\n",
       "</tr>\n",
       "<tr>\n",
       "       <td>Skew:</td>       <td>3.237</td>       <td>Prob(JB):</td>        <td>0.000</td>   \n",
       "</tr>\n",
       "<tr>\n",
       "     <td>Kurtosis:</td>    <td>43.902</td>    <td>Condition No.:</td>     <td>352552</td>   \n",
       "</tr>\n",
       "</table>"
      ],
      "text/plain": [
       "<class 'statsmodels.iolib.summary2.Summary'>\n",
       "\"\"\"\n",
       "                                 Results: Ordinary least squares\n",
       "=================================================================================================\n",
       "Model:                        OLS                       Adj. R-squared:              0.496       \n",
       "Dependent Variable:           SalesPrice                AIC:                         3198968.4218\n",
       "Date:                         2021-08-19 17:55          BIC:                         3199461.9604\n",
       "No. Observations:             117857                    Log-Likelihood:              -1.5994e+06 \n",
       "Df Model:                     50                        F-statistic:                 2325.       \n",
       "Df Residuals:                 117806                    Prob (F-statistic):          0.00        \n",
       "R-squared:                    0.497                     Scale:                       3.5917e+10  \n",
       "-------------------------------------------------------------------------------------------------\n",
       "                                 Coef.      Std.Err.      t     P>|t|      [0.025       0.975]   \n",
       "-------------------------------------------------------------------------------------------------\n",
       "Intercept                     2040170.7469 60063.9282   33.9667 0.0000  1922446.4013 2157895.0926\n",
       "C(Year)[T.1994]                  5715.3149  6824.0430    0.8375 0.4023    -7659.7011   19090.3309\n",
       "C(Year)[T.1995]                 13690.9622  6840.0489    2.0016 0.0453      284.5750   27097.3493\n",
       "C(Year)[T.1996]                  8404.5537  6763.9638    1.2425 0.2140    -4852.7080   21661.8154\n",
       "C(Year)[T.1997]                 20898.9871  6601.9096    3.1656 0.0015     7959.3492   33838.6251\n",
       "C(Year)[T.1998]                 39055.7174  6548.0168    5.9645 0.0000    26221.7083   51889.7264\n",
       "C(Year)[T.1999]                 59727.2807  6541.0085    9.1312 0.0000    46907.0079   72547.5534\n",
       "C(Year)[T.2000]                 96150.5831  6562.4606   14.6516 0.0000    83288.2646  109012.9016\n",
       "C(Year)[T.2001]                121780.5327  6532.6683   18.6418 0.0000   108976.6065  134584.4589\n",
       "C(Year)[T.2002]                136420.1588  6567.6922   20.7714 0.0000   123547.5864  149292.7313\n",
       "C(Year)[T.2003]                140510.4128  6567.5258   21.3947 0.0000   127638.1665  153382.6591\n",
       "C(Year)[T.2004]                152139.8535  6619.4018   22.9839 0.0000   139165.9312  165113.7758\n",
       "C(Year)[T.2005]                166995.8327  6632.6127   25.1780 0.0000   153996.0172  179995.6482\n",
       "C(Year)[T.2006]                180450.8444  6724.7770   26.8337 0.0000   167270.3882  193631.3006\n",
       "C(Year)[T.2007]                182749.8564  6820.4082   26.7946 0.0000   169381.9646  196117.7482\n",
       "C(Year)[T.2008]                162147.9491  7237.5275   22.4038 0.0000   147962.5100  176333.3881\n",
       "C(Year)[T.2009]                123417.8045  7581.9860   16.2778 0.0000   108557.2323  138278.3767\n",
       "C(Year)[T.2010]                124965.9036  7600.7838   16.4412 0.0000   110068.4879  139863.3192\n",
       "C(Year)[T.2011]                 96559.7661  7507.4791   12.8618 0.0000    81845.2263  111274.3059\n",
       "C(Year)[T.2012]                103413.5746  7278.1313   14.2088 0.0000    89148.5529  117678.5963\n",
       "C(Year)[T.2013]                113818.7047  6999.7297   16.2604 0.0000   100099.3456  127538.0638\n",
       "C(Year)[T.2014]                115731.3009  6915.2489   16.7357 0.0000   102177.5228  129285.0790\n",
       "C(Year)[T.2015]                150813.1075  6854.5013   22.0021 0.0000   137378.3939  164247.8212\n",
       "C(Year)[T.2016]                166141.3016  6851.3717   24.2493 0.0000   152712.7220  179569.8813\n",
       "C(Year)[T.2017]                189507.7151  6799.8003   27.8696 0.0000   176180.2145  202835.2158\n",
       "C(Year)[T.2018]                201223.0801  6926.5032   29.0512 0.0000   187647.2437  214798.9165\n",
       "BuildingQualityStndCode[T.A+]  391463.8275 18799.1284   20.8235 0.0000   354617.8344  428309.8207\n",
       "BuildingQualityStndCode[T.A-] -293060.3952  8501.6106  -34.4712 0.0000  -309723.4170 -276397.3735\n",
       "BuildingQualityStndCode[T.B]  -724003.5809  7236.6331 -100.0470 0.0000  -738187.2670 -709819.8949\n",
       "BuildingQualityStndCode[T.B+] -421437.6038  7566.0311  -55.7013 0.0000  -436266.9046 -406608.3030\n",
       "BuildingQualityStndCode[T.B-] -687585.1979  7853.6639  -87.5496 0.0000  -702978.2545 -672192.1413\n",
       "BuildingQualityStndCode[T.C]  -871630.9442  7200.5945 -121.0499 0.0000  -885743.9951 -857517.8933\n",
       "BuildingQualityStndCode[T.C+] -729423.8828  8047.1159  -90.6441 0.0000  -745196.1021 -713651.6634\n",
       "BuildingQualityStndCode[T.C-] -879579.4324  7486.0344 -117.4960 0.0000  -894251.9410 -864906.9238\n",
       "BuildingQualityStndCode[T.D]  -965060.1709  8880.2534 -108.6748 0.0000  -982465.3266 -947655.0151\n",
       "BuildingQualityStndCode[T.D+] -943076.2843  8655.8075 -108.9530 0.0000  -960041.5294 -926111.0391\n",
       "BuildingQualityStndCode[T.D-] -879730.6144 35352.0025  -24.8849 0.0000  -949019.9780 -810441.2507\n",
       "BuildingQualityStndCode[T.E]  -989258.4970 12867.2811  -76.8817 0.0000 -1014478.1636 -964038.8303\n",
       "C(risklevel)[T.low]             28277.7488  1549.4068   18.2507 0.0000    25240.9360   31314.5616\n",
       "C(risklevel)[T.moderate]        52908.7261  2617.4902   20.2135 0.0000    47778.4869   58038.9653\n",
       "C(risklevel)[T.high]            56655.4092  3107.7909   18.2301 0.0000    50564.1884   62746.6299\n",
       "C(risklevel)[T.veryhigh]        77080.4747  1593.5401   48.3706 0.0000    73957.1614   80203.7879\n",
       "TotalBedrooms                   30141.8135   623.1221   48.3722 0.0000    28920.5040   31363.1229\n",
       "LotSizeSquareFeet                   0.9961     0.1719    5.7941 0.0000        0.6591       1.3330\n",
       "Bathrooms                       38565.4742   402.0283   95.9273 0.0000    37777.5051   39353.4433\n",
       "YearBuilt                        -579.4351    29.9843  -19.3246 0.0000     -638.2038    -520.6663\n",
       "Wood                            43113.6014  2947.9576   14.6249 0.0000    37335.6514   48891.5514\n",
       "Wood:C(risklevel)[T.low]        11073.5882  6579.3629    1.6831 0.0924    -1821.8587   23969.0351\n",
       "Wood:C(risklevel)[T.moderate]   20649.7538 11544.5653    1.7887 0.0737    -1977.4109   43276.9185\n",
       "Wood:C(risklevel)[T.high]        8011.8253 13913.2938    0.5758 0.5647   -19258.0097   35281.6603\n",
       "Wood:C(risklevel)[T.veryhigh]  -16738.9681  6038.1387   -2.7722 0.0056   -28573.6241   -4904.3120\n",
       "-------------------------------------------------------------------------------------------------\n",
       "Omnibus:                      93770.410               Durbin-Watson:                  1.849      \n",
       "Prob(Omnibus):                0.000                   Jarque-Bera (JB):               8421423.682\n",
       "Skew:                         3.237                   Prob(JB):                       0.000      \n",
       "Kurtosis:                     43.902                  Condition No.:                  352552     \n",
       "=================================================================================================\n",
       "* The condition number is large (4e+05). This might indicate             strong multicollinearity\n",
       "or other numerical problems.\n",
       "\"\"\""
      ]
     },
     "execution_count": 261,
     "metadata": {},
     "output_type": "execute_result"
    }
   ],
   "source": [
    "Mod1.summary2()"
   ]
  },
  {
   "cell_type": "code",
   "execution_count": null,
   "id": "0354a707-3ba8-4728-9476-30d7eb9dae2e",
   "metadata": {},
   "outputs": [],
   "source": []
  },
  {
   "cell_type": "code",
   "execution_count": null,
   "id": "77e23855-d83a-4d7e-b22a-7f67685d1de9",
   "metadata": {},
   "outputs": [],
   "source": []
  },
  {
   "cell_type": "code",
   "execution_count": 144,
   "id": "1bb4b666-d394-409d-b1c9-bd2c9f55f95d",
   "metadata": {},
   "outputs": [],
   "source": [
    "# Mod1.get_robustcov_results().summary()"
   ]
  },
  {
   "cell_type": "code",
   "execution_count": null,
   "id": "7bf4d9c9-5897-46ef-9dca-ef41f556c4e6",
   "metadata": {},
   "outputs": [],
   "source": [
    "Mod0 = smf.ols(formula = f'SalesPrice ~ C(Year) + BuildingQualityStndCode+ TotalBedrooms + Bathrooms +  YearBuilt + BP1600_max*AsphaltRoof  + BP1600_max*CompositShingle  + BP1600_max*MetalRoof + BP1600_max*Wood', data=samp).fit()"
   ]
  },
  {
   "cell_type": "code",
   "execution_count": null,
   "id": "a0e574b4-67c2-4ece-8275-18d4fec75091",
   "metadata": {},
   "outputs": [],
   "source": [
    "Mod0.get_robustcov_results().summary()"
   ]
  },
  {
   "cell_type": "code",
   "execution_count": null,
   "id": "94d84610-ae8d-438e-b8d3-e27c8f6cf45c",
   "metadata": {},
   "outputs": [],
   "source": []
  },
  {
   "cell_type": "code",
   "execution_count": null,
   "id": "af6367dd-8158-4997-9710-6cfd67cb6a1e",
   "metadata": {},
   "outputs": [],
   "source": []
  },
  {
   "cell_type": "code",
   "execution_count": null,
   "id": "37597eb0-e6d3-4345-99a7-30b4eb567f15",
   "metadata": {},
   "outputs": [],
   "source": []
  },
  {
   "cell_type": "code",
   "execution_count": null,
   "id": "4c32fc68-b4f8-4da1-a9a7-3c8e6e3b7453",
   "metadata": {},
   "outputs": [],
   "source": [
    "samp = data[['TransId','RecordingDate','SalesPriceAmount','FIPS','County','PropertyCity',\n",
    "             'LotSizeSquareFeet','GarageStndCode','GarageAreaSqFt',\n",
    "             'BuildingQualityStndCode','BuildingConditionStndCode','ArchitecturalStyleStndCode',\n",
    "            'YearBuilt','TotalBedrooms','FullBath','ThreeQuarterBath','HalfBath','QuarterBath',\n",
    "            'RoofCoverStndCode','RoofStructureTypeStndCode','HeatingTypeorSystemStndCode',\n",
    "            'AirConditioningTypeorSystemStndCode','FireplaceNumber',\n",
    "            'BP','BP1600_max','WoodRoof','SalesPrice','LoanAmt']].copy()"
   ]
  }
 ],
 "metadata": {
  "kernelspec": {
   "display_name": "PythonGeo",
   "language": "python",
   "name": "geo_env"
  },
  "language_info": {
   "codemirror_mode": {
    "name": "ipython",
    "version": 3
   },
   "file_extension": ".py",
   "mimetype": "text/x-python",
   "name": "python",
   "nbconvert_exporter": "python",
   "pygments_lexer": "ipython3",
   "version": "3.8.2"
  }
 },
 "nbformat": 4,
 "nbformat_minor": 5
}
